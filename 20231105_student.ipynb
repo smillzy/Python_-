{
 "cells": [
  {
   "cell_type": "code",
   "execution_count": 15,
   "id": "3124855e",
   "metadata": {},
   "outputs": [
    {
     "data": {
      "text/plain": [
       "0         9.0\n",
       "1       100.0\n",
       "2        15.0\n",
       "3        64.0\n",
       "4        28.0\n",
       "6       201.0\n",
       "a        88.0\n",
       "1001      NaN\n",
       "2000         \n",
       "150     False\n",
       "1800      inf\n",
       "dtype: object"
      ]
     },
     "execution_count": 15,
     "metadata": {},
     "output_type": "execute_result"
    }
   ],
   "source": [
    "import pandas as pd\n",
    "import numpy as np\n",
    "\n",
    "np.random.seed(10)\n",
    "s = pd.Series(np.random.randint(101, size = 5))\n",
    "s[6] = 201\n",
    "s[\"a\"] = 88\n",
    "s[1001] = np.nan\n",
    "s[2000] = \"\"\n",
    "s[150] = False\n",
    "s[1800] = np.inf\n",
    "s"
   ]
  },
  {
   "cell_type": "code",
   "execution_count": 3,
   "id": "f15967da",
   "metadata": {},
   "outputs": [
    {
     "data": {
      "text/plain": [
       "0       9.0\n",
       "1     100.0\n",
       "2      15.0\n",
       "3      64.0\n",
       "4      28.0\n",
       "5     201.0\n",
       "6      88.0\n",
       "7       NaN\n",
       "8          \n",
       "9     False\n",
       "10      inf\n",
       "dtype: object"
      ]
     },
     "execution_count": 3,
     "metadata": {},
     "output_type": "execute_result"
    }
   ],
   "source": [
    "#調整索引值\n",
    "\n",
    "#法1:直接改掉索引值，缺點是要修改要 \"一次性\" 修改，僅適用少量範圍\n",
    "\n",
    "s.index = range(len(s.index))\n",
    "s"
   ]
  },
  {
   "cell_type": "code",
   "execution_count": 12,
   "id": "c64316cb",
   "metadata": {},
   "outputs": [
    {
     "data": {
      "text/html": [
       "<div>\n",
       "<style scoped>\n",
       "    .dataframe tbody tr th:only-of-type {\n",
       "        vertical-align: middle;\n",
       "    }\n",
       "\n",
       "    .dataframe tbody tr th {\n",
       "        vertical-align: top;\n",
       "    }\n",
       "\n",
       "    .dataframe thead th {\n",
       "        text-align: right;\n",
       "    }\n",
       "</style>\n",
       "<table border=\"1\" class=\"dataframe\">\n",
       "  <thead>\n",
       "    <tr style=\"text-align: right;\">\n",
       "      <th></th>\n",
       "      <th>index</th>\n",
       "      <th>0</th>\n",
       "    </tr>\n",
       "  </thead>\n",
       "  <tbody>\n",
       "    <tr>\n",
       "      <th>0</th>\n",
       "      <td>0.00</td>\n",
       "      <td>9.0</td>\n",
       "    </tr>\n",
       "    <tr>\n",
       "      <th>1</th>\n",
       "      <td>1.00</td>\n",
       "      <td>100.0</td>\n",
       "    </tr>\n",
       "    <tr>\n",
       "      <th>2</th>\n",
       "      <td>2.00</td>\n",
       "      <td>15.0</td>\n",
       "    </tr>\n",
       "    <tr>\n",
       "      <th>3</th>\n",
       "      <td>3.00</td>\n",
       "      <td>64.0</td>\n",
       "    </tr>\n",
       "    <tr>\n",
       "      <th>4</th>\n",
       "      <td>4.00</td>\n",
       "      <td>28.0</td>\n",
       "    </tr>\n",
       "    <tr>\n",
       "      <th>5</th>\n",
       "      <td>6.00</td>\n",
       "      <td>201.0</td>\n",
       "    </tr>\n",
       "    <tr>\n",
       "      <th>6</th>\n",
       "      <td>3.14</td>\n",
       "      <td>88.0</td>\n",
       "    </tr>\n",
       "    <tr>\n",
       "      <th>7</th>\n",
       "      <td>1001.00</td>\n",
       "      <td>NaN</td>\n",
       "    </tr>\n",
       "    <tr>\n",
       "      <th>8</th>\n",
       "      <td>2000.00</td>\n",
       "      <td></td>\n",
       "    </tr>\n",
       "    <tr>\n",
       "      <th>9</th>\n",
       "      <td>150.00</td>\n",
       "      <td>False</td>\n",
       "    </tr>\n",
       "    <tr>\n",
       "      <th>10</th>\n",
       "      <td>1800.00</td>\n",
       "      <td>inf</td>\n",
       "    </tr>\n",
       "  </tbody>\n",
       "</table>\n",
       "</div>"
      ],
      "text/plain": [
       "      index      0\n",
       "0      0.00    9.0\n",
       "1      1.00  100.0\n",
       "2      2.00   15.0\n",
       "3      3.00   64.0\n",
       "4      4.00   28.0\n",
       "5      6.00  201.0\n",
       "6      3.14   88.0\n",
       "7   1001.00    NaN\n",
       "8   2000.00       \n",
       "9    150.00  False\n",
       "10  1800.00    inf"
      ]
     },
     "execution_count": 12,
     "metadata": {},
     "output_type": "execute_result"
    }
   ],
   "source": [
    "#法2:可適用大索引範圍\n",
    "\n",
    "s.reset_index()"
   ]
  },
  {
   "cell_type": "code",
   "execution_count": 13,
   "id": "8d63c414",
   "metadata": {},
   "outputs": [
    {
     "data": {
      "text/plain": [
       "0.00         9.0\n",
       "1.00       100.0\n",
       "2.00        15.0\n",
       "3.00        64.0\n",
       "4.00        28.0\n",
       "6.00       201.0\n",
       "3.14        88.0\n",
       "1001.00      NaN\n",
       "2000.00         \n",
       "150.00     False\n",
       "1800.00      inf\n",
       "dtype: object"
      ]
     },
     "execution_count": 13,
     "metadata": {},
     "output_type": "execute_result"
    }
   ],
   "source": [
    "#法2:\n",
    "\n",
    "s.reset_index(drop = True) #要加drop把舊的索引值丟掉\n",
    "s"
   ]
  },
  {
   "cell_type": "code",
   "execution_count": 18,
   "id": "8542b919",
   "metadata": {},
   "outputs": [
    {
     "data": {
      "text/plain": [
       "0       9.0\n",
       "1     100.0\n",
       "2      15.0\n",
       "3      64.0\n",
       "4      28.0\n",
       "5     201.0\n",
       "6      88.0\n",
       "7       NaN\n",
       "8          \n",
       "9     False\n",
       "10      inf\n",
       "dtype: object"
      ]
     },
     "execution_count": 18,
     "metadata": {},
     "output_type": "execute_result"
    }
   ],
   "source": [
    "#法3:可單獨指定修改\n",
    "\n",
    "s = s.rename(index = {6:5, \"a\":6, 1001:7, 2000:8, 150:9, 1800:10})\n",
    "s"
   ]
  },
  {
   "cell_type": "code",
   "execution_count": 19,
   "id": "8b998741",
   "metadata": {},
   "outputs": [
    {
     "data": {
      "text/plain": [
       "這是Series\n",
       "0       9.0\n",
       "1     100.0\n",
       "2      15.0\n",
       "3      64.0\n",
       "4      28.0\n",
       "5     201.0\n",
       "6      88.0\n",
       "7       NaN\n",
       "8          \n",
       "9     False\n",
       "10      inf\n",
       "dtype: object"
      ]
     },
     "execution_count": 19,
     "metadata": {},
     "output_type": "execute_result"
    }
   ],
   "source": [
    "s.index.name = \"這是Series\"\n",
    "s"
   ]
  },
  {
   "cell_type": "code",
   "execution_count": 20,
   "id": "252bf34d",
   "metadata": {},
   "outputs": [
    {
     "data": {
      "text/plain": [
       "這是Series\n",
       "0     False\n",
       "1     False\n",
       "2     False\n",
       "3     False\n",
       "4     False\n",
       "5     False\n",
       "6     False\n",
       "7      True\n",
       "8     False\n",
       "9     False\n",
       "10    False\n",
       "dtype: bool"
      ]
     },
     "execution_count": 20,
     "metadata": {},
     "output_type": "execute_result"
    }
   ],
   "source": [
    "s.isna() #確認是否缺失值"
   ]
  },
  {
   "cell_type": "code",
   "execution_count": 21,
   "id": "fe0276c0",
   "metadata": {},
   "outputs": [
    {
     "data": {
      "text/plain": [
       "這是Series\n",
       "0     False\n",
       "1     False\n",
       "2     False\n",
       "3     False\n",
       "4     False\n",
       "5     False\n",
       "6     False\n",
       "7      True\n",
       "8     False\n",
       "9     False\n",
       "10    False\n",
       "dtype: bool"
      ]
     },
     "execution_count": 21,
     "metadata": {},
     "output_type": "execute_result"
    }
   ],
   "source": [
    "s.isnull() #確認是否缺失值"
   ]
  },
  {
   "cell_type": "code",
   "execution_count": 22,
   "id": "768a8261",
   "metadata": {},
   "outputs": [
    {
     "data": {
      "text/plain": [
       "1"
      ]
     },
     "execution_count": 22,
     "metadata": {},
     "output_type": "execute_result"
    }
   ],
   "source": [
    "s.isna().sum()"
   ]
  },
  {
   "cell_type": "code",
   "execution_count": 23,
   "id": "064b6a00",
   "metadata": {},
   "outputs": [
    {
     "data": {
      "text/plain": [
       "1"
      ]
     },
     "execution_count": 23,
     "metadata": {},
     "output_type": "execute_result"
    }
   ],
   "source": [
    "s.isnull().sum()"
   ]
  },
  {
   "cell_type": "code",
   "execution_count": 24,
   "id": "4018148c",
   "metadata": {},
   "outputs": [
    {
     "data": {
      "text/plain": [
       "這是Series\n",
       "0      True\n",
       "1      True\n",
       "2      True\n",
       "3      True\n",
       "4      True\n",
       "5      True\n",
       "6      True\n",
       "7     False\n",
       "8      True\n",
       "9      True\n",
       "10     True\n",
       "dtype: bool"
      ]
     },
     "execution_count": 24,
     "metadata": {},
     "output_type": "execute_result"
    }
   ],
   "source": [
    "s.notna() #判斷是否有缺資料"
   ]
  },
  {
   "cell_type": "code",
   "execution_count": 25,
   "id": "1adc15c3",
   "metadata": {},
   "outputs": [
    {
     "data": {
      "text/plain": [
       "這是Series\n",
       "0      True\n",
       "1      True\n",
       "2      True\n",
       "3      True\n",
       "4      True\n",
       "5      True\n",
       "6      True\n",
       "7     False\n",
       "8      True\n",
       "9      True\n",
       "10     True\n",
       "dtype: bool"
      ]
     },
     "execution_count": 25,
     "metadata": {},
     "output_type": "execute_result"
    }
   ],
   "source": [
    "s.notnull() #判斷是否有缺資料"
   ]
  },
  {
   "cell_type": "code",
   "execution_count": 28,
   "id": "913f2635",
   "metadata": {},
   "outputs": [
    {
     "data": {
      "text/plain": [
       "False"
      ]
     },
     "execution_count": 28,
     "metadata": {},
     "output_type": "execute_result"
    }
   ],
   "source": [
    "s.notna().sum() == len(s.index) #False代表有缺資料"
   ]
  },
  {
   "cell_type": "code",
   "execution_count": 29,
   "id": "44405d24",
   "metadata": {},
   "outputs": [
    {
     "data": {
      "text/plain": [
       "False"
      ]
     },
     "execution_count": 29,
     "metadata": {},
     "output_type": "execute_result"
    }
   ],
   "source": [
    "s.notnull().sum() == len(s.index)"
   ]
  },
  {
   "cell_type": "code",
   "execution_count": 31,
   "id": "2e5b7761",
   "metadata": {},
   "outputs": [
    {
     "data": {
      "text/plain": [
       "False"
      ]
     },
     "execution_count": 31,
     "metadata": {},
     "output_type": "execute_result"
    }
   ],
   "source": [
    "s.isna().all() # 判斷是否全部為True，False代表有缺資料"
   ]
  },
  {
   "cell_type": "code",
   "execution_count": 32,
   "id": "0cc5812a",
   "metadata": {},
   "outputs": [
    {
     "data": {
      "text/plain": [
       "False"
      ]
     },
     "execution_count": 32,
     "metadata": {},
     "output_type": "execute_result"
    }
   ],
   "source": [
    "s.isnull().all()"
   ]
  },
  {
   "cell_type": "code",
   "execution_count": 33,
   "id": "2dafb9eb",
   "metadata": {},
   "outputs": [
    {
     "data": {
      "text/plain": [
       "True"
      ]
     },
     "execution_count": 33,
     "metadata": {},
     "output_type": "execute_result"
    }
   ],
   "source": [
    "s.isna().any() #只要有一個為True，就為True，全部為False，才會是False"
   ]
  },
  {
   "cell_type": "code",
   "execution_count": 34,
   "id": "e8f78158",
   "metadata": {},
   "outputs": [
    {
     "data": {
      "text/plain": [
       "True"
      ]
     },
     "execution_count": 34,
     "metadata": {},
     "output_type": "execute_result"
    }
   ],
   "source": [
    "s.isnull().any()"
   ]
  },
  {
   "cell_type": "code",
   "execution_count": 39,
   "id": "556a255d",
   "metadata": {},
   "outputs": [
    {
     "data": {
      "text/plain": [
       "0     99\n",
       "1     78\n",
       "2     61\n",
       "3     16\n",
       "4     73\n",
       "0      9\n",
       "1    100\n",
       "2     15\n",
       "3     64\n",
       "4     28\n",
       "dtype: int32"
      ]
     },
     "execution_count": 39,
     "metadata": {},
     "output_type": "execute_result"
    }
   ],
   "source": [
    "import pandas as pd\n",
    "import numpy as np\n",
    "\n",
    "np.random.seed(5)\n",
    "s1 = pd.Series(np.random.randint(101,size = 5))\n",
    "np.random.seed(10)\n",
    "s2 = pd.Series(np.random.randint(101,size = 5))\n",
    "s3 = pd.concat([s1, s2])\n",
    "s3"
   ]
  },
  {
   "cell_type": "code",
   "execution_count": 40,
   "id": "d4d2ac77",
   "metadata": {},
   "outputs": [
    {
     "data": {
      "text/plain": [
       "2    61\n",
       "2    15\n",
       "dtype: int32"
      ]
     },
     "execution_count": 40,
     "metadata": {},
     "output_type": "execute_result"
    }
   ],
   "source": [
    "s3[2]"
   ]
  },
  {
   "cell_type": "code",
   "execution_count": 42,
   "id": "870cac55",
   "metadata": {},
   "outputs": [
    {
     "data": {
      "text/plain": [
       "0      99\n",
       "1      78\n",
       "2    1000\n",
       "3      16\n",
       "4      73\n",
       "0       9\n",
       "1     100\n",
       "2    1000\n",
       "3      64\n",
       "4      28\n",
       "dtype: int32"
      ]
     },
     "execution_count": 42,
     "metadata": {},
     "output_type": "execute_result"
    }
   ],
   "source": [
    "s3[2] = 1000 #沒有改好索引值，會造成 資料出錯\n",
    "s3"
   ]
  },
  {
   "cell_type": "code",
   "execution_count": 20,
   "id": "bd74e691",
   "metadata": {},
   "outputs": [
    {
     "data": {
      "text/html": [
       "<div>\n",
       "<style scoped>\n",
       "    .dataframe tbody tr th:only-of-type {\n",
       "        vertical-align: middle;\n",
       "    }\n",
       "\n",
       "    .dataframe tbody tr th {\n",
       "        vertical-align: top;\n",
       "    }\n",
       "\n",
       "    .dataframe thead th {\n",
       "        text-align: right;\n",
       "    }\n",
       "</style>\n",
       "<table border=\"1\" class=\"dataframe\">\n",
       "  <thead>\n",
       "    <tr style=\"text-align: right;\">\n",
       "      <th></th>\n",
       "      <th>日期</th>\n",
       "      <th>賣權成交量</th>\n",
       "      <th>買權成交量</th>\n",
       "      <th>買賣權成交量比率%</th>\n",
       "      <th>賣權未平倉量</th>\n",
       "      <th>買權未平倉量</th>\n",
       "      <th>買賣權未平倉量比率%</th>\n",
       "    </tr>\n",
       "  </thead>\n",
       "  <tbody>\n",
       "    <tr>\n",
       "      <th>19</th>\n",
       "      <td>2023-09-01</td>\n",
       "      <td>248350</td>\n",
       "      <td>239019</td>\n",
       "      <td>103.90</td>\n",
       "      <td>212099</td>\n",
       "      <td>208233</td>\n",
       "      <td>101.86</td>\n",
       "    </tr>\n",
       "    <tr>\n",
       "      <th>18</th>\n",
       "      <td>2023-09-04</td>\n",
       "      <td>350127</td>\n",
       "      <td>311603</td>\n",
       "      <td>112.36</td>\n",
       "      <td>242994</td>\n",
       "      <td>222804</td>\n",
       "      <td>109.06</td>\n",
       "    </tr>\n",
       "    <tr>\n",
       "      <th>17</th>\n",
       "      <td>2023-09-05</td>\n",
       "      <td>219787</td>\n",
       "      <td>194175</td>\n",
       "      <td>113.19</td>\n",
       "      <td>259908</td>\n",
       "      <td>240893</td>\n",
       "      <td>107.89</td>\n",
       "    </tr>\n",
       "    <tr>\n",
       "      <th>16</th>\n",
       "      <td>2023-09-06</td>\n",
       "      <td>436335</td>\n",
       "      <td>427740</td>\n",
       "      <td>102.01</td>\n",
       "      <td>166813</td>\n",
       "      <td>166136</td>\n",
       "      <td>100.41</td>\n",
       "    </tr>\n",
       "    <tr>\n",
       "      <th>15</th>\n",
       "      <td>2023-09-07</td>\n",
       "      <td>249520</td>\n",
       "      <td>252805</td>\n",
       "      <td>98.70</td>\n",
       "      <td>207695</td>\n",
       "      <td>213423</td>\n",
       "      <td>97.32</td>\n",
       "    </tr>\n",
       "    <tr>\n",
       "      <th>14</th>\n",
       "      <td>2023-09-08</td>\n",
       "      <td>263273</td>\n",
       "      <td>254575</td>\n",
       "      <td>103.42</td>\n",
       "      <td>240248</td>\n",
       "      <td>236515</td>\n",
       "      <td>101.58</td>\n",
       "    </tr>\n",
       "    <tr>\n",
       "      <th>13</th>\n",
       "      <td>2023-09-11</td>\n",
       "      <td>314001</td>\n",
       "      <td>390462</td>\n",
       "      <td>80.42</td>\n",
       "      <td>246445</td>\n",
       "      <td>274340</td>\n",
       "      <td>89.83</td>\n",
       "    </tr>\n",
       "    <tr>\n",
       "      <th>12</th>\n",
       "      <td>2023-09-12</td>\n",
       "      <td>374338</td>\n",
       "      <td>347670</td>\n",
       "      <td>107.67</td>\n",
       "      <td>277003</td>\n",
       "      <td>275107</td>\n",
       "      <td>100.69</td>\n",
       "    </tr>\n",
       "    <tr>\n",
       "      <th>11</th>\n",
       "      <td>2023-09-13</td>\n",
       "      <td>489468</td>\n",
       "      <td>436268</td>\n",
       "      <td>112.19</td>\n",
       "      <td>179325</td>\n",
       "      <td>178957</td>\n",
       "      <td>100.21</td>\n",
       "    </tr>\n",
       "    <tr>\n",
       "      <th>10</th>\n",
       "      <td>2023-09-14</td>\n",
       "      <td>339219</td>\n",
       "      <td>273437</td>\n",
       "      <td>124.06</td>\n",
       "      <td>243539</td>\n",
       "      <td>206315</td>\n",
       "      <td>118.04</td>\n",
       "    </tr>\n",
       "    <tr>\n",
       "      <th>9</th>\n",
       "      <td>2023-09-15</td>\n",
       "      <td>278525</td>\n",
       "      <td>231973</td>\n",
       "      <td>120.07</td>\n",
       "      <td>261610</td>\n",
       "      <td>221675</td>\n",
       "      <td>118.02</td>\n",
       "    </tr>\n",
       "    <tr>\n",
       "      <th>8</th>\n",
       "      <td>2023-09-18</td>\n",
       "      <td>292397</td>\n",
       "      <td>352765</td>\n",
       "      <td>82.89</td>\n",
       "      <td>274693</td>\n",
       "      <td>275187</td>\n",
       "      <td>99.82</td>\n",
       "    </tr>\n",
       "    <tr>\n",
       "      <th>7</th>\n",
       "      <td>2023-09-19</td>\n",
       "      <td>343279</td>\n",
       "      <td>384271</td>\n",
       "      <td>89.33</td>\n",
       "      <td>276245</td>\n",
       "      <td>302503</td>\n",
       "      <td>91.32</td>\n",
       "    </tr>\n",
       "    <tr>\n",
       "      <th>6</th>\n",
       "      <td>2023-09-20</td>\n",
       "      <td>564784</td>\n",
       "      <td>546200</td>\n",
       "      <td>103.40</td>\n",
       "      <td>96992</td>\n",
       "      <td>119608</td>\n",
       "      <td>81.09</td>\n",
       "    </tr>\n",
       "    <tr>\n",
       "      <th>5</th>\n",
       "      <td>2023-09-21</td>\n",
       "      <td>286885</td>\n",
       "      <td>344468</td>\n",
       "      <td>83.28</td>\n",
       "      <td>151640</td>\n",
       "      <td>202302</td>\n",
       "      <td>74.96</td>\n",
       "    </tr>\n",
       "    <tr>\n",
       "      <th>4</th>\n",
       "      <td>2023-09-22</td>\n",
       "      <td>289330</td>\n",
       "      <td>276500</td>\n",
       "      <td>104.64</td>\n",
       "      <td>189011</td>\n",
       "      <td>228409</td>\n",
       "      <td>82.75</td>\n",
       "    </tr>\n",
       "    <tr>\n",
       "      <th>3</th>\n",
       "      <td>2023-09-25</td>\n",
       "      <td>333852</td>\n",
       "      <td>271788</td>\n",
       "      <td>122.84</td>\n",
       "      <td>228459</td>\n",
       "      <td>228604</td>\n",
       "      <td>99.94</td>\n",
       "    </tr>\n",
       "    <tr>\n",
       "      <th>2</th>\n",
       "      <td>2023-09-26</td>\n",
       "      <td>421773</td>\n",
       "      <td>409734</td>\n",
       "      <td>102.94</td>\n",
       "      <td>230982</td>\n",
       "      <td>265937</td>\n",
       "      <td>86.86</td>\n",
       "    </tr>\n",
       "    <tr>\n",
       "      <th>1</th>\n",
       "      <td>2023-09-27</td>\n",
       "      <td>532947</td>\n",
       "      <td>505175</td>\n",
       "      <td>105.50</td>\n",
       "      <td>120829</td>\n",
       "      <td>147928</td>\n",
       "      <td>81.68</td>\n",
       "    </tr>\n",
       "    <tr>\n",
       "      <th>0</th>\n",
       "      <td>2023-09-28</td>\n",
       "      <td>283833</td>\n",
       "      <td>272022</td>\n",
       "      <td>104.34</td>\n",
       "      <td>166908</td>\n",
       "      <td>192291</td>\n",
       "      <td>86.80</td>\n",
       "    </tr>\n",
       "    <tr>\n",
       "      <th>39</th>\n",
       "      <td>2023-10-02</td>\n",
       "      <td>382790</td>\n",
       "      <td>286967</td>\n",
       "      <td>133.39</td>\n",
       "      <td>229082</td>\n",
       "      <td>202863</td>\n",
       "      <td>112.92</td>\n",
       "    </tr>\n",
       "    <tr>\n",
       "      <th>38</th>\n",
       "      <td>2023-10-03</td>\n",
       "      <td>384135</td>\n",
       "      <td>364240</td>\n",
       "      <td>105.46</td>\n",
       "      <td>240901</td>\n",
       "      <td>245358</td>\n",
       "      <td>98.18</td>\n",
       "    </tr>\n",
       "    <tr>\n",
       "      <th>37</th>\n",
       "      <td>2023-10-04</td>\n",
       "      <td>672538</td>\n",
       "      <td>662379</td>\n",
       "      <td>101.53</td>\n",
       "      <td>130130</td>\n",
       "      <td>171859</td>\n",
       "      <td>75.72</td>\n",
       "    </tr>\n",
       "    <tr>\n",
       "      <th>36</th>\n",
       "      <td>2023-10-05</td>\n",
       "      <td>318689</td>\n",
       "      <td>263610</td>\n",
       "      <td>120.89</td>\n",
       "      <td>198476</td>\n",
       "      <td>213233</td>\n",
       "      <td>93.08</td>\n",
       "    </tr>\n",
       "    <tr>\n",
       "      <th>35</th>\n",
       "      <td>2023-10-06</td>\n",
       "      <td>281278</td>\n",
       "      <td>254116</td>\n",
       "      <td>110.69</td>\n",
       "      <td>218779</td>\n",
       "      <td>224696</td>\n",
       "      <td>97.37</td>\n",
       "    </tr>\n",
       "    <tr>\n",
       "      <th>34</th>\n",
       "      <td>2023-10-11</td>\n",
       "      <td>626528</td>\n",
       "      <td>597555</td>\n",
       "      <td>104.85</td>\n",
       "      <td>151397</td>\n",
       "      <td>162654</td>\n",
       "      <td>93.08</td>\n",
       "    </tr>\n",
       "    <tr>\n",
       "      <th>33</th>\n",
       "      <td>2023-10-12</td>\n",
       "      <td>274461</td>\n",
       "      <td>262294</td>\n",
       "      <td>104.64</td>\n",
       "      <td>208136</td>\n",
       "      <td>195204</td>\n",
       "      <td>106.62</td>\n",
       "    </tr>\n",
       "    <tr>\n",
       "      <th>32</th>\n",
       "      <td>2023-10-13</td>\n",
       "      <td>264678</td>\n",
       "      <td>282865</td>\n",
       "      <td>93.57</td>\n",
       "      <td>228307</td>\n",
       "      <td>245467</td>\n",
       "      <td>93.01</td>\n",
       "    </tr>\n",
       "    <tr>\n",
       "      <th>31</th>\n",
       "      <td>2023-10-16</td>\n",
       "      <td>354184</td>\n",
       "      <td>395308</td>\n",
       "      <td>89.60</td>\n",
       "      <td>253791</td>\n",
       "      <td>292944</td>\n",
       "      <td>86.63</td>\n",
       "    </tr>\n",
       "    <tr>\n",
       "      <th>30</th>\n",
       "      <td>2023-10-17</td>\n",
       "      <td>382496</td>\n",
       "      <td>425899</td>\n",
       "      <td>89.81</td>\n",
       "      <td>270190</td>\n",
       "      <td>305270</td>\n",
       "      <td>88.51</td>\n",
       "    </tr>\n",
       "    <tr>\n",
       "      <th>29</th>\n",
       "      <td>2023-10-18</td>\n",
       "      <td>743139</td>\n",
       "      <td>752470</td>\n",
       "      <td>98.76</td>\n",
       "      <td>119632</td>\n",
       "      <td>128759</td>\n",
       "      <td>92.91</td>\n",
       "    </tr>\n",
       "    <tr>\n",
       "      <th>28</th>\n",
       "      <td>2023-10-19</td>\n",
       "      <td>239227</td>\n",
       "      <td>254568</td>\n",
       "      <td>93.97</td>\n",
       "      <td>167863</td>\n",
       "      <td>179978</td>\n",
       "      <td>93.27</td>\n",
       "    </tr>\n",
       "    <tr>\n",
       "      <th>27</th>\n",
       "      <td>2023-10-20</td>\n",
       "      <td>366192</td>\n",
       "      <td>398481</td>\n",
       "      <td>91.90</td>\n",
       "      <td>206799</td>\n",
       "      <td>205419</td>\n",
       "      <td>100.67</td>\n",
       "    </tr>\n",
       "    <tr>\n",
       "      <th>26</th>\n",
       "      <td>2023-10-23</td>\n",
       "      <td>279797</td>\n",
       "      <td>364490</td>\n",
       "      <td>76.76</td>\n",
       "      <td>227770</td>\n",
       "      <td>240800</td>\n",
       "      <td>94.59</td>\n",
       "    </tr>\n",
       "    <tr>\n",
       "      <th>25</th>\n",
       "      <td>2023-10-24</td>\n",
       "      <td>558839</td>\n",
       "      <td>593490</td>\n",
       "      <td>94.16</td>\n",
       "      <td>265531</td>\n",
       "      <td>268334</td>\n",
       "      <td>98.96</td>\n",
       "    </tr>\n",
       "    <tr>\n",
       "      <th>24</th>\n",
       "      <td>2023-10-25</td>\n",
       "      <td>644419</td>\n",
       "      <td>560472</td>\n",
       "      <td>114.98</td>\n",
       "      <td>157491</td>\n",
       "      <td>151594</td>\n",
       "      <td>103.89</td>\n",
       "    </tr>\n",
       "    <tr>\n",
       "      <th>23</th>\n",
       "      <td>2023-10-26</td>\n",
       "      <td>322752</td>\n",
       "      <td>366523</td>\n",
       "      <td>88.06</td>\n",
       "      <td>204850</td>\n",
       "      <td>226813</td>\n",
       "      <td>90.32</td>\n",
       "    </tr>\n",
       "    <tr>\n",
       "      <th>22</th>\n",
       "      <td>2023-10-27</td>\n",
       "      <td>296414</td>\n",
       "      <td>282028</td>\n",
       "      <td>105.10</td>\n",
       "      <td>246451</td>\n",
       "      <td>239295</td>\n",
       "      <td>102.99</td>\n",
       "    </tr>\n",
       "    <tr>\n",
       "      <th>21</th>\n",
       "      <td>2023-10-30</td>\n",
       "      <td>331785</td>\n",
       "      <td>339871</td>\n",
       "      <td>97.62</td>\n",
       "      <td>262483</td>\n",
       "      <td>271497</td>\n",
       "      <td>96.68</td>\n",
       "    </tr>\n",
       "    <tr>\n",
       "      <th>20</th>\n",
       "      <td>2023-10-31</td>\n",
       "      <td>411592</td>\n",
       "      <td>538977</td>\n",
       "      <td>76.37</td>\n",
       "      <td>262079</td>\n",
       "      <td>313515</td>\n",
       "      <td>83.59</td>\n",
       "    </tr>\n",
       "  </tbody>\n",
       "</table>\n",
       "</div>"
      ],
      "text/plain": [
       "           日期   賣權成交量   買權成交量  買賣權成交量比率%  賣權未平倉量  買權未平倉量  買賣權未平倉量比率%\n",
       "19 2023-09-01  248350  239019     103.90  212099  208233      101.86\n",
       "18 2023-09-04  350127  311603     112.36  242994  222804      109.06\n",
       "17 2023-09-05  219787  194175     113.19  259908  240893      107.89\n",
       "16 2023-09-06  436335  427740     102.01  166813  166136      100.41\n",
       "15 2023-09-07  249520  252805      98.70  207695  213423       97.32\n",
       "14 2023-09-08  263273  254575     103.42  240248  236515      101.58\n",
       "13 2023-09-11  314001  390462      80.42  246445  274340       89.83\n",
       "12 2023-09-12  374338  347670     107.67  277003  275107      100.69\n",
       "11 2023-09-13  489468  436268     112.19  179325  178957      100.21\n",
       "10 2023-09-14  339219  273437     124.06  243539  206315      118.04\n",
       "9  2023-09-15  278525  231973     120.07  261610  221675      118.02\n",
       "8  2023-09-18  292397  352765      82.89  274693  275187       99.82\n",
       "7  2023-09-19  343279  384271      89.33  276245  302503       91.32\n",
       "6  2023-09-20  564784  546200     103.40   96992  119608       81.09\n",
       "5  2023-09-21  286885  344468      83.28  151640  202302       74.96\n",
       "4  2023-09-22  289330  276500     104.64  189011  228409       82.75\n",
       "3  2023-09-25  333852  271788     122.84  228459  228604       99.94\n",
       "2  2023-09-26  421773  409734     102.94  230982  265937       86.86\n",
       "1  2023-09-27  532947  505175     105.50  120829  147928       81.68\n",
       "0  2023-09-28  283833  272022     104.34  166908  192291       86.80\n",
       "39 2023-10-02  382790  286967     133.39  229082  202863      112.92\n",
       "38 2023-10-03  384135  364240     105.46  240901  245358       98.18\n",
       "37 2023-10-04  672538  662379     101.53  130130  171859       75.72\n",
       "36 2023-10-05  318689  263610     120.89  198476  213233       93.08\n",
       "35 2023-10-06  281278  254116     110.69  218779  224696       97.37\n",
       "34 2023-10-11  626528  597555     104.85  151397  162654       93.08\n",
       "33 2023-10-12  274461  262294     104.64  208136  195204      106.62\n",
       "32 2023-10-13  264678  282865      93.57  228307  245467       93.01\n",
       "31 2023-10-16  354184  395308      89.60  253791  292944       86.63\n",
       "30 2023-10-17  382496  425899      89.81  270190  305270       88.51\n",
       "29 2023-10-18  743139  752470      98.76  119632  128759       92.91\n",
       "28 2023-10-19  239227  254568      93.97  167863  179978       93.27\n",
       "27 2023-10-20  366192  398481      91.90  206799  205419      100.67\n",
       "26 2023-10-23  279797  364490      76.76  227770  240800       94.59\n",
       "25 2023-10-24  558839  593490      94.16  265531  268334       98.96\n",
       "24 2023-10-25  644419  560472     114.98  157491  151594      103.89\n",
       "23 2023-10-26  322752  366523      88.06  204850  226813       90.32\n",
       "22 2023-10-27  296414  282028     105.10  246451  239295      102.99\n",
       "21 2023-10-30  331785  339871      97.62  262483  271497       96.68\n",
       "20 2023-10-31  411592  538977      76.37  262079  313515       83.59"
      ]
     },
     "execution_count": 20,
     "metadata": {},
     "output_type": "execute_result"
    }
   ],
   "source": [
    "import requests\n",
    "import pandas as pd\n",
    "import datetime as dt\n",
    "url = 'https://www.taifex.com.tw/cht/3/pcRatio?down_type=&queryStartDate=2023%2F09%2F01&queryEndDate=2023%2F09%2F30'\n",
    "df1 = pd.read_html(url)[3]\n",
    "url = 'https://www.taifex.com.tw/cht/3/pcRatio?down_type=&queryStartDate=2023%2F10%2F01&queryEndDate=2023%2F10%2F31'\n",
    "df2 = pd.read_html(url)[3]\n",
    "df = pd.concat([df1, df2], ignore_index = True)\n",
    "df['日期'] = df['日期'].apply(lambda x: dt.datetime.strptime(x, '%Y/%m/%d'))\n",
    "df.sort_values(['日期'])"
   ]
  },
  {
   "cell_type": "markdown",
   "id": "21a3ff94",
   "metadata": {},
   "source": [
    "### axis = 1，水平合併，會依據index為主\n",
    "### axis = 0，垂直合併\n",
    "兩個Serise合併，變成一個Dataframe"
   ]
  },
  {
   "cell_type": "code",
   "execution_count": 2,
   "id": "3dfe34ac",
   "metadata": {},
   "outputs": [
    {
     "data": {
      "text/html": [
       "<div>\n",
       "<style scoped>\n",
       "    .dataframe tbody tr th:only-of-type {\n",
       "        vertical-align: middle;\n",
       "    }\n",
       "\n",
       "    .dataframe tbody tr th {\n",
       "        vertical-align: top;\n",
       "    }\n",
       "\n",
       "    .dataframe thead th {\n",
       "        text-align: right;\n",
       "    }\n",
       "</style>\n",
       "<table border=\"1\" class=\"dataframe\">\n",
       "  <thead>\n",
       "    <tr style=\"text-align: right;\">\n",
       "      <th></th>\n",
       "      <th>0</th>\n",
       "      <th>1</th>\n",
       "    </tr>\n",
       "  </thead>\n",
       "  <tbody>\n",
       "    <tr>\n",
       "      <th>1</th>\n",
       "      <td>99.0</td>\n",
       "      <td>NaN</td>\n",
       "    </tr>\n",
       "    <tr>\n",
       "      <th>2</th>\n",
       "      <td>78.0</td>\n",
       "      <td>100.0</td>\n",
       "    </tr>\n",
       "    <tr>\n",
       "      <th>3</th>\n",
       "      <td>61.0</td>\n",
       "      <td>NaN</td>\n",
       "    </tr>\n",
       "    <tr>\n",
       "      <th>4</th>\n",
       "      <td>16.0</td>\n",
       "      <td>15.0</td>\n",
       "    </tr>\n",
       "    <tr>\n",
       "      <th>5</th>\n",
       "      <td>73.0</td>\n",
       "      <td>NaN</td>\n",
       "    </tr>\n",
       "    <tr>\n",
       "      <th>0</th>\n",
       "      <td>NaN</td>\n",
       "      <td>9.0</td>\n",
       "    </tr>\n",
       "    <tr>\n",
       "      <th>6</th>\n",
       "      <td>NaN</td>\n",
       "      <td>64.0</td>\n",
       "    </tr>\n",
       "    <tr>\n",
       "      <th>8</th>\n",
       "      <td>NaN</td>\n",
       "      <td>28.0</td>\n",
       "    </tr>\n",
       "  </tbody>\n",
       "</table>\n",
       "</div>"
      ],
      "text/plain": [
       "      0      1\n",
       "1  99.0    NaN\n",
       "2  78.0  100.0\n",
       "3  61.0    NaN\n",
       "4  16.0   15.0\n",
       "5  73.0    NaN\n",
       "0   NaN    9.0\n",
       "6   NaN   64.0\n",
       "8   NaN   28.0"
      ]
     },
     "execution_count": 2,
     "metadata": {},
     "output_type": "execute_result"
    }
   ],
   "source": [
    "import pandas as pd\n",
    "import numpy as np\n",
    "\n",
    "np.random.seed(5)\n",
    "s1 = pd.Series(np.random.randint(101,size = 5), index = [1,2,3,4,5])\n",
    "np.random.seed(10)\n",
    "s2 = pd.Series(np.random.randint(101,size = 5), index = [0,2,4,6,8])\n",
    "s3 = pd.concat([s1, s2], axis = 1)\n",
    "s3"
   ]
  },
  {
   "cell_type": "code",
   "execution_count": 3,
   "id": "24117f16",
   "metadata": {},
   "outputs": [
    {
     "data": {
      "text/plain": [
       "pandas.core.frame.DataFrame"
      ]
     },
     "execution_count": 3,
     "metadata": {},
     "output_type": "execute_result"
    }
   ],
   "source": [
    "type(s3)"
   ]
  },
  {
   "cell_type": "code",
   "execution_count": 4,
   "id": "a3715d36",
   "metadata": {},
   "outputs": [
    {
     "data": {
      "text/html": [
       "<div>\n",
       "<style scoped>\n",
       "    .dataframe tbody tr th:only-of-type {\n",
       "        vertical-align: middle;\n",
       "    }\n",
       "\n",
       "    .dataframe tbody tr th {\n",
       "        vertical-align: top;\n",
       "    }\n",
       "\n",
       "    .dataframe thead th {\n",
       "        text-align: right;\n",
       "    }\n",
       "</style>\n",
       "<table border=\"1\" class=\"dataframe\">\n",
       "  <thead>\n",
       "    <tr style=\"text-align: right;\">\n",
       "      <th></th>\n",
       "      <th>0</th>\n",
       "      <th>1</th>\n",
       "    </tr>\n",
       "  </thead>\n",
       "  <tbody>\n",
       "    <tr>\n",
       "      <th>1</th>\n",
       "      <td>False</td>\n",
       "      <td>True</td>\n",
       "    </tr>\n",
       "    <tr>\n",
       "      <th>2</th>\n",
       "      <td>False</td>\n",
       "      <td>False</td>\n",
       "    </tr>\n",
       "    <tr>\n",
       "      <th>3</th>\n",
       "      <td>False</td>\n",
       "      <td>True</td>\n",
       "    </tr>\n",
       "    <tr>\n",
       "      <th>4</th>\n",
       "      <td>False</td>\n",
       "      <td>False</td>\n",
       "    </tr>\n",
       "    <tr>\n",
       "      <th>5</th>\n",
       "      <td>False</td>\n",
       "      <td>True</td>\n",
       "    </tr>\n",
       "    <tr>\n",
       "      <th>0</th>\n",
       "      <td>True</td>\n",
       "      <td>False</td>\n",
       "    </tr>\n",
       "    <tr>\n",
       "      <th>6</th>\n",
       "      <td>True</td>\n",
       "      <td>False</td>\n",
       "    </tr>\n",
       "    <tr>\n",
       "      <th>8</th>\n",
       "      <td>True</td>\n",
       "      <td>False</td>\n",
       "    </tr>\n",
       "  </tbody>\n",
       "</table>\n",
       "</div>"
      ],
      "text/plain": [
       "       0      1\n",
       "1  False   True\n",
       "2  False  False\n",
       "3  False   True\n",
       "4  False  False\n",
       "5  False   True\n",
       "0   True  False\n",
       "6   True  False\n",
       "8   True  False"
      ]
     },
     "execution_count": 4,
     "metadata": {},
     "output_type": "execute_result"
    }
   ],
   "source": [
    "s3.isna()"
   ]
  },
  {
   "cell_type": "code",
   "execution_count": 5,
   "id": "08b11b5b",
   "metadata": {},
   "outputs": [
    {
     "data": {
      "text/plain": [
       "0    3\n",
       "1    3\n",
       "dtype: int64"
      ]
     },
     "execution_count": 5,
     "metadata": {},
     "output_type": "execute_result"
    }
   ],
   "source": [
    "s3.isna().sum()"
   ]
  },
  {
   "cell_type": "code",
   "execution_count": 6,
   "id": "2cff8826",
   "metadata": {},
   "outputs": [
    {
     "data": {
      "text/plain": [
       "0    False\n",
       "1    False\n",
       "dtype: bool"
      ]
     },
     "execution_count": 6,
     "metadata": {},
     "output_type": "execute_result"
    }
   ],
   "source": [
    "s3.isna().all()"
   ]
  },
  {
   "cell_type": "code",
   "execution_count": 7,
   "id": "b6fe0960",
   "metadata": {},
   "outputs": [
    {
     "data": {
      "text/html": [
       "<style type=\"text/css\">\n",
       "#T_b98e3_row0_col1, #T_b98e3_row2_col1, #T_b98e3_row4_col1, #T_b98e3_row5_col0, #T_b98e3_row6_col0, #T_b98e3_row7_col0 {\n",
       "  background-color: red;\n",
       "}\n",
       "</style>\n",
       "<table id=\"T_b98e3\">\n",
       "  <thead>\n",
       "    <tr>\n",
       "      <th class=\"blank level0\" >&nbsp;</th>\n",
       "      <th id=\"T_b98e3_level0_col0\" class=\"col_heading level0 col0\" >0</th>\n",
       "      <th id=\"T_b98e3_level0_col1\" class=\"col_heading level0 col1\" >1</th>\n",
       "    </tr>\n",
       "  </thead>\n",
       "  <tbody>\n",
       "    <tr>\n",
       "      <th id=\"T_b98e3_level0_row0\" class=\"row_heading level0 row0\" >1</th>\n",
       "      <td id=\"T_b98e3_row0_col0\" class=\"data row0 col0\" >99.000000</td>\n",
       "      <td id=\"T_b98e3_row0_col1\" class=\"data row0 col1\" >nan</td>\n",
       "    </tr>\n",
       "    <tr>\n",
       "      <th id=\"T_b98e3_level0_row1\" class=\"row_heading level0 row1\" >2</th>\n",
       "      <td id=\"T_b98e3_row1_col0\" class=\"data row1 col0\" >78.000000</td>\n",
       "      <td id=\"T_b98e3_row1_col1\" class=\"data row1 col1\" >100.000000</td>\n",
       "    </tr>\n",
       "    <tr>\n",
       "      <th id=\"T_b98e3_level0_row2\" class=\"row_heading level0 row2\" >3</th>\n",
       "      <td id=\"T_b98e3_row2_col0\" class=\"data row2 col0\" >61.000000</td>\n",
       "      <td id=\"T_b98e3_row2_col1\" class=\"data row2 col1\" >nan</td>\n",
       "    </tr>\n",
       "    <tr>\n",
       "      <th id=\"T_b98e3_level0_row3\" class=\"row_heading level0 row3\" >4</th>\n",
       "      <td id=\"T_b98e3_row3_col0\" class=\"data row3 col0\" >16.000000</td>\n",
       "      <td id=\"T_b98e3_row3_col1\" class=\"data row3 col1\" >15.000000</td>\n",
       "    </tr>\n",
       "    <tr>\n",
       "      <th id=\"T_b98e3_level0_row4\" class=\"row_heading level0 row4\" >5</th>\n",
       "      <td id=\"T_b98e3_row4_col0\" class=\"data row4 col0\" >73.000000</td>\n",
       "      <td id=\"T_b98e3_row4_col1\" class=\"data row4 col1\" >nan</td>\n",
       "    </tr>\n",
       "    <tr>\n",
       "      <th id=\"T_b98e3_level0_row5\" class=\"row_heading level0 row5\" >0</th>\n",
       "      <td id=\"T_b98e3_row5_col0\" class=\"data row5 col0\" >nan</td>\n",
       "      <td id=\"T_b98e3_row5_col1\" class=\"data row5 col1\" >9.000000</td>\n",
       "    </tr>\n",
       "    <tr>\n",
       "      <th id=\"T_b98e3_level0_row6\" class=\"row_heading level0 row6\" >6</th>\n",
       "      <td id=\"T_b98e3_row6_col0\" class=\"data row6 col0\" >nan</td>\n",
       "      <td id=\"T_b98e3_row6_col1\" class=\"data row6 col1\" >64.000000</td>\n",
       "    </tr>\n",
       "    <tr>\n",
       "      <th id=\"T_b98e3_level0_row7\" class=\"row_heading level0 row7\" >8</th>\n",
       "      <td id=\"T_b98e3_row7_col0\" class=\"data row7 col0\" >nan</td>\n",
       "      <td id=\"T_b98e3_row7_col1\" class=\"data row7 col1\" >28.000000</td>\n",
       "    </tr>\n",
       "  </tbody>\n",
       "</table>\n"
      ],
      "text/plain": [
       "<pandas.io.formats.style.Styler at 0x192c0682230>"
      ]
     },
     "execution_count": 7,
     "metadata": {},
     "output_type": "execute_result"
    }
   ],
   "source": [
    "s3.style.highlight_null(\"red\")"
   ]
  },
  {
   "cell_type": "markdown",
   "id": "ea79fa54",
   "metadata": {},
   "source": [
    "rgb\n",
    "https://www.w3schools.com/colors/colors_rgb.asp"
   ]
  },
  {
   "cell_type": "code",
   "execution_count": 8,
   "id": "40e3b9db",
   "metadata": {},
   "outputs": [
    {
     "data": {
      "text/html": [
       "<style type=\"text/css\">\n",
       "#T_178da_row0_col1, #T_178da_row2_col1, #T_178da_row4_col1, #T_178da_row5_col0, #T_178da_row6_col0, #T_178da_row7_col0 {\n",
       "  background-color: #ff00c9;\n",
       "}\n",
       "</style>\n",
       "<table id=\"T_178da\">\n",
       "  <thead>\n",
       "    <tr>\n",
       "      <th class=\"blank level0\" >&nbsp;</th>\n",
       "      <th id=\"T_178da_level0_col0\" class=\"col_heading level0 col0\" >0</th>\n",
       "      <th id=\"T_178da_level0_col1\" class=\"col_heading level0 col1\" >1</th>\n",
       "    </tr>\n",
       "  </thead>\n",
       "  <tbody>\n",
       "    <tr>\n",
       "      <th id=\"T_178da_level0_row0\" class=\"row_heading level0 row0\" >1</th>\n",
       "      <td id=\"T_178da_row0_col0\" class=\"data row0 col0\" >99.000000</td>\n",
       "      <td id=\"T_178da_row0_col1\" class=\"data row0 col1\" >nan</td>\n",
       "    </tr>\n",
       "    <tr>\n",
       "      <th id=\"T_178da_level0_row1\" class=\"row_heading level0 row1\" >2</th>\n",
       "      <td id=\"T_178da_row1_col0\" class=\"data row1 col0\" >78.000000</td>\n",
       "      <td id=\"T_178da_row1_col1\" class=\"data row1 col1\" >100.000000</td>\n",
       "    </tr>\n",
       "    <tr>\n",
       "      <th id=\"T_178da_level0_row2\" class=\"row_heading level0 row2\" >3</th>\n",
       "      <td id=\"T_178da_row2_col0\" class=\"data row2 col0\" >61.000000</td>\n",
       "      <td id=\"T_178da_row2_col1\" class=\"data row2 col1\" >nan</td>\n",
       "    </tr>\n",
       "    <tr>\n",
       "      <th id=\"T_178da_level0_row3\" class=\"row_heading level0 row3\" >4</th>\n",
       "      <td id=\"T_178da_row3_col0\" class=\"data row3 col0\" >16.000000</td>\n",
       "      <td id=\"T_178da_row3_col1\" class=\"data row3 col1\" >15.000000</td>\n",
       "    </tr>\n",
       "    <tr>\n",
       "      <th id=\"T_178da_level0_row4\" class=\"row_heading level0 row4\" >5</th>\n",
       "      <td id=\"T_178da_row4_col0\" class=\"data row4 col0\" >73.000000</td>\n",
       "      <td id=\"T_178da_row4_col1\" class=\"data row4 col1\" >nan</td>\n",
       "    </tr>\n",
       "    <tr>\n",
       "      <th id=\"T_178da_level0_row5\" class=\"row_heading level0 row5\" >0</th>\n",
       "      <td id=\"T_178da_row5_col0\" class=\"data row5 col0\" >nan</td>\n",
       "      <td id=\"T_178da_row5_col1\" class=\"data row5 col1\" >9.000000</td>\n",
       "    </tr>\n",
       "    <tr>\n",
       "      <th id=\"T_178da_level0_row6\" class=\"row_heading level0 row6\" >6</th>\n",
       "      <td id=\"T_178da_row6_col0\" class=\"data row6 col0\" >nan</td>\n",
       "      <td id=\"T_178da_row6_col1\" class=\"data row6 col1\" >64.000000</td>\n",
       "    </tr>\n",
       "    <tr>\n",
       "      <th id=\"T_178da_level0_row7\" class=\"row_heading level0 row7\" >8</th>\n",
       "      <td id=\"T_178da_row7_col0\" class=\"data row7 col0\" >nan</td>\n",
       "      <td id=\"T_178da_row7_col1\" class=\"data row7 col1\" >28.000000</td>\n",
       "    </tr>\n",
       "  </tbody>\n",
       "</table>\n"
      ],
      "text/plain": [
       "<pandas.io.formats.style.Styler at 0x192c0682350>"
      ]
     },
     "execution_count": 8,
     "metadata": {},
     "output_type": "execute_result"
    }
   ],
   "source": [
    "s3.style.highlight_null(\"#ff00c9\")"
   ]
  },
  {
   "cell_type": "code",
   "execution_count": 12,
   "id": "6fffd6d3",
   "metadata": {},
   "outputs": [
    {
     "data": {
      "text/html": [
       "<style type=\"text/css\">\n",
       "#T_1ba17_row0_col0, #T_1ba17_row1_col1 {\n",
       "  background-color: #ff00c9;\n",
       "}\n",
       "#T_1ba17_row0_col1, #T_1ba17_row2_col1, #T_1ba17_row4_col1, #T_1ba17_row5_col0, #T_1ba17_row6_col0, #T_1ba17_row7_col0 {\n",
       "  background-color: red;\n",
       "}\n",
       "#T_1ba17_row3_col0, #T_1ba17_row5_col1 {\n",
       "  background-color: green;\n",
       "}\n",
       "</style>\n",
       "<table id=\"T_1ba17\">\n",
       "  <thead>\n",
       "    <tr>\n",
       "      <th class=\"blank level0\" >&nbsp;</th>\n",
       "      <th id=\"T_1ba17_level0_col0\" class=\"col_heading level0 col0\" >0</th>\n",
       "      <th id=\"T_1ba17_level0_col1\" class=\"col_heading level0 col1\" >1</th>\n",
       "    </tr>\n",
       "  </thead>\n",
       "  <tbody>\n",
       "    <tr>\n",
       "      <th id=\"T_1ba17_level0_row0\" class=\"row_heading level0 row0\" >1</th>\n",
       "      <td id=\"T_1ba17_row0_col0\" class=\"data row0 col0\" >99</td>\n",
       "      <td id=\"T_1ba17_row0_col1\" class=\"data row0 col1\" >nan</td>\n",
       "    </tr>\n",
       "    <tr>\n",
       "      <th id=\"T_1ba17_level0_row1\" class=\"row_heading level0 row1\" >2</th>\n",
       "      <td id=\"T_1ba17_row1_col0\" class=\"data row1 col0\" >78</td>\n",
       "      <td id=\"T_1ba17_row1_col1\" class=\"data row1 col1\" >100</td>\n",
       "    </tr>\n",
       "    <tr>\n",
       "      <th id=\"T_1ba17_level0_row2\" class=\"row_heading level0 row2\" >3</th>\n",
       "      <td id=\"T_1ba17_row2_col0\" class=\"data row2 col0\" >61</td>\n",
       "      <td id=\"T_1ba17_row2_col1\" class=\"data row2 col1\" >nan</td>\n",
       "    </tr>\n",
       "    <tr>\n",
       "      <th id=\"T_1ba17_level0_row3\" class=\"row_heading level0 row3\" >4</th>\n",
       "      <td id=\"T_1ba17_row3_col0\" class=\"data row3 col0\" >16</td>\n",
       "      <td id=\"T_1ba17_row3_col1\" class=\"data row3 col1\" >15</td>\n",
       "    </tr>\n",
       "    <tr>\n",
       "      <th id=\"T_1ba17_level0_row4\" class=\"row_heading level0 row4\" >5</th>\n",
       "      <td id=\"T_1ba17_row4_col0\" class=\"data row4 col0\" >73</td>\n",
       "      <td id=\"T_1ba17_row4_col1\" class=\"data row4 col1\" >nan</td>\n",
       "    </tr>\n",
       "    <tr>\n",
       "      <th id=\"T_1ba17_level0_row5\" class=\"row_heading level0 row5\" >0</th>\n",
       "      <td id=\"T_1ba17_row5_col0\" class=\"data row5 col0\" >nan</td>\n",
       "      <td id=\"T_1ba17_row5_col1\" class=\"data row5 col1\" >9</td>\n",
       "    </tr>\n",
       "    <tr>\n",
       "      <th id=\"T_1ba17_level0_row6\" class=\"row_heading level0 row6\" >6</th>\n",
       "      <td id=\"T_1ba17_row6_col0\" class=\"data row6 col0\" >nan</td>\n",
       "      <td id=\"T_1ba17_row6_col1\" class=\"data row6 col1\" >64</td>\n",
       "    </tr>\n",
       "    <tr>\n",
       "      <th id=\"T_1ba17_level0_row7\" class=\"row_heading level0 row7\" >8</th>\n",
       "      <td id=\"T_1ba17_row7_col0\" class=\"data row7 col0\" >nan</td>\n",
       "      <td id=\"T_1ba17_row7_col1\" class=\"data row7 col1\" >28</td>\n",
       "    </tr>\n",
       "  </tbody>\n",
       "</table>\n"
      ],
      "text/plain": [
       "<pandas.io.formats.style.Styler at 0x192c0680940>"
      ]
     },
     "execution_count": 12,
     "metadata": {},
     "output_type": "execute_result"
    }
   ],
   "source": [
    "(s3.style.highlight_null(\"red\")\n",
    ".highlight_max(color = \"#ff00c9\")\n",
    ".highlight_min(color = \"green\")\n",
    ".format('{:.0f}')) #把小數點拿掉"
   ]
  },
  {
   "cell_type": "code",
   "execution_count": 21,
   "id": "9c9defb1",
   "metadata": {},
   "outputs": [
    {
     "name": "stderr",
     "output_type": "stream",
     "text": [
      "C:\\Users\\Lo yuan\\AppData\\Local\\Temp\\ipykernel_15536\\3606629816.py:8: FutureWarning: Styler.applymap has been deprecated. Use Styler.map instead.\n",
      "  .applymap(f))\n"
     ]
    },
    {
     "data": {
      "text/html": [
       "<style type=\"text/css\">\n",
       "#T_3af8c_row0_col0, #T_3af8c_row1_col1 {\n",
       "  background-color: red;\n",
       "  color: #71d26b;\n",
       "}\n",
       "#T_3af8c_row0_col1, #T_3af8c_row2_col1, #T_3af8c_row4_col1, #T_3af8c_row5_col0, #T_3af8c_row6_col0, #T_3af8c_row7_col0 {\n",
       "  background-color: #eed26b;\n",
       "}\n",
       "#T_3af8c_row1_col0, #T_3af8c_row2_col0, #T_3af8c_row4_col0, #T_3af8c_row6_col1 {\n",
       "  color: #71d26b;\n",
       "}\n",
       "#T_3af8c_row3_col0, #T_3af8c_row5_col1 {\n",
       "  background-color: green;\n",
       "}\n",
       "</style>\n",
       "<table id=\"T_3af8c\">\n",
       "  <thead>\n",
       "    <tr>\n",
       "      <th class=\"blank level0\" >&nbsp;</th>\n",
       "      <th id=\"T_3af8c_level0_col0\" class=\"col_heading level0 col0\" >0</th>\n",
       "      <th id=\"T_3af8c_level0_col1\" class=\"col_heading level0 col1\" >1</th>\n",
       "    </tr>\n",
       "  </thead>\n",
       "  <tbody>\n",
       "    <tr>\n",
       "      <th id=\"T_3af8c_level0_row0\" class=\"row_heading level0 row0\" >1</th>\n",
       "      <td id=\"T_3af8c_row0_col0\" class=\"data row0 col0\" >99</td>\n",
       "      <td id=\"T_3af8c_row0_col1\" class=\"data row0 col1\" >nan</td>\n",
       "    </tr>\n",
       "    <tr>\n",
       "      <th id=\"T_3af8c_level0_row1\" class=\"row_heading level0 row1\" >2</th>\n",
       "      <td id=\"T_3af8c_row1_col0\" class=\"data row1 col0\" >78</td>\n",
       "      <td id=\"T_3af8c_row1_col1\" class=\"data row1 col1\" >100</td>\n",
       "    </tr>\n",
       "    <tr>\n",
       "      <th id=\"T_3af8c_level0_row2\" class=\"row_heading level0 row2\" >3</th>\n",
       "      <td id=\"T_3af8c_row2_col0\" class=\"data row2 col0\" >61</td>\n",
       "      <td id=\"T_3af8c_row2_col1\" class=\"data row2 col1\" >nan</td>\n",
       "    </tr>\n",
       "    <tr>\n",
       "      <th id=\"T_3af8c_level0_row3\" class=\"row_heading level0 row3\" >4</th>\n",
       "      <td id=\"T_3af8c_row3_col0\" class=\"data row3 col0\" >16</td>\n",
       "      <td id=\"T_3af8c_row3_col1\" class=\"data row3 col1\" >15</td>\n",
       "    </tr>\n",
       "    <tr>\n",
       "      <th id=\"T_3af8c_level0_row4\" class=\"row_heading level0 row4\" >5</th>\n",
       "      <td id=\"T_3af8c_row4_col0\" class=\"data row4 col0\" >73</td>\n",
       "      <td id=\"T_3af8c_row4_col1\" class=\"data row4 col1\" >nan</td>\n",
       "    </tr>\n",
       "    <tr>\n",
       "      <th id=\"T_3af8c_level0_row5\" class=\"row_heading level0 row5\" >0</th>\n",
       "      <td id=\"T_3af8c_row5_col0\" class=\"data row5 col0\" >nan</td>\n",
       "      <td id=\"T_3af8c_row5_col1\" class=\"data row5 col1\" >9</td>\n",
       "    </tr>\n",
       "    <tr>\n",
       "      <th id=\"T_3af8c_level0_row6\" class=\"row_heading level0 row6\" >6</th>\n",
       "      <td id=\"T_3af8c_row6_col0\" class=\"data row6 col0\" >nan</td>\n",
       "      <td id=\"T_3af8c_row6_col1\" class=\"data row6 col1\" >64</td>\n",
       "    </tr>\n",
       "    <tr>\n",
       "      <th id=\"T_3af8c_level0_row7\" class=\"row_heading level0 row7\" >8</th>\n",
       "      <td id=\"T_3af8c_row7_col0\" class=\"data row7 col0\" >nan</td>\n",
       "      <td id=\"T_3af8c_row7_col1\" class=\"data row7 col1\" >28</td>\n",
       "    </tr>\n",
       "  </tbody>\n",
       "</table>\n"
      ],
      "text/plain": [
       "<pandas.io.formats.style.Styler at 0x192bd350190>"
      ]
     },
     "execution_count": 21,
     "metadata": {},
     "output_type": "execute_result"
    }
   ],
   "source": [
    "def f(x):\n",
    "    if x>60:\n",
    "        return 'color:#71d26b'\n",
    "(s3.style.highlight_null('#eed26b')\n",
    ".highlight_max(color = 'red')\n",
    ".highlight_min(color = 'green')\n",
    ".format('{:.0f}')\n",
    ".applymap(f))"
   ]
  },
  {
   "cell_type": "code",
   "execution_count": 25,
   "id": "db30c561",
   "metadata": {},
   "outputs": [
    {
     "name": "stderr",
     "output_type": "stream",
     "text": [
      "C:\\Users\\Lo yuan\\AppData\\Local\\Temp\\ipykernel_15536\\34595659.py:13: FutureWarning: Styler.applymap has been deprecated. Use Styler.map instead.\n",
      "  (df.style.applymap(f1, subset = ['買賣權未平倉量比率%', \"買賣權成交量比率%\"])\n"
     ]
    },
    {
     "data": {
      "text/html": [
       "<style type=\"text/css\">\n",
       "#T_b6a31_row3_col3, #T_b6a31_row9_col3, #T_b6a31_row9_col6, #T_b6a31_row10_col3, #T_b6a31_row10_col6, #T_b6a31_row11_col3, #T_b6a31_row17_col3, #T_b6a31_row18_col3, #T_b6a31_row24_col3, #T_b6a31_row35_col3, #T_b6a31_row36_col3, #T_b6a31_row39_col3, #T_b6a31_row39_col6 {\n",
       "  color: red;\n",
       "  background-color: yellow;\n",
       "}\n",
       "#T_b6a31_row5_col6, #T_b6a31_row20_col3, #T_b6a31_row26_col3, #T_b6a31_row37_col6 {\n",
       "  color: gray;\n",
       "  background-color: green;\n",
       "}\n",
       "</style>\n",
       "<table id=\"T_b6a31\">\n",
       "  <thead>\n",
       "    <tr>\n",
       "      <th class=\"blank level0\" >&nbsp;</th>\n",
       "      <th id=\"T_b6a31_level0_col0\" class=\"col_heading level0 col0\" >日期</th>\n",
       "      <th id=\"T_b6a31_level0_col1\" class=\"col_heading level0 col1\" >賣權成交量</th>\n",
       "      <th id=\"T_b6a31_level0_col2\" class=\"col_heading level0 col2\" >買權成交量</th>\n",
       "      <th id=\"T_b6a31_level0_col3\" class=\"col_heading level0 col3\" >買賣權成交量比率%</th>\n",
       "      <th id=\"T_b6a31_level0_col4\" class=\"col_heading level0 col4\" >賣權未平倉量</th>\n",
       "      <th id=\"T_b6a31_level0_col5\" class=\"col_heading level0 col5\" >買權未平倉量</th>\n",
       "      <th id=\"T_b6a31_level0_col6\" class=\"col_heading level0 col6\" >買賣權未平倉量比率%</th>\n",
       "    </tr>\n",
       "  </thead>\n",
       "  <tbody>\n",
       "    <tr>\n",
       "      <th id=\"T_b6a31_level0_row0\" class=\"row_heading level0 row0\" >0</th>\n",
       "      <td id=\"T_b6a31_row0_col0\" class=\"data row0 col0\" >2023-09-28 00:00:00</td>\n",
       "      <td id=\"T_b6a31_row0_col1\" class=\"data row0 col1\" >283833</td>\n",
       "      <td id=\"T_b6a31_row0_col2\" class=\"data row0 col2\" >272022</td>\n",
       "      <td id=\"T_b6a31_row0_col3\" class=\"data row0 col3\" >104.340000</td>\n",
       "      <td id=\"T_b6a31_row0_col4\" class=\"data row0 col4\" >166908</td>\n",
       "      <td id=\"T_b6a31_row0_col5\" class=\"data row0 col5\" >192291</td>\n",
       "      <td id=\"T_b6a31_row0_col6\" class=\"data row0 col6\" >86.800000</td>\n",
       "    </tr>\n",
       "    <tr>\n",
       "      <th id=\"T_b6a31_level0_row1\" class=\"row_heading level0 row1\" >1</th>\n",
       "      <td id=\"T_b6a31_row1_col0\" class=\"data row1 col0\" >2023-09-27 00:00:00</td>\n",
       "      <td id=\"T_b6a31_row1_col1\" class=\"data row1 col1\" >532947</td>\n",
       "      <td id=\"T_b6a31_row1_col2\" class=\"data row1 col2\" >505175</td>\n",
       "      <td id=\"T_b6a31_row1_col3\" class=\"data row1 col3\" >105.500000</td>\n",
       "      <td id=\"T_b6a31_row1_col4\" class=\"data row1 col4\" >120829</td>\n",
       "      <td id=\"T_b6a31_row1_col5\" class=\"data row1 col5\" >147928</td>\n",
       "      <td id=\"T_b6a31_row1_col6\" class=\"data row1 col6\" >81.680000</td>\n",
       "    </tr>\n",
       "    <tr>\n",
       "      <th id=\"T_b6a31_level0_row2\" class=\"row_heading level0 row2\" >2</th>\n",
       "      <td id=\"T_b6a31_row2_col0\" class=\"data row2 col0\" >2023-09-26 00:00:00</td>\n",
       "      <td id=\"T_b6a31_row2_col1\" class=\"data row2 col1\" >421773</td>\n",
       "      <td id=\"T_b6a31_row2_col2\" class=\"data row2 col2\" >409734</td>\n",
       "      <td id=\"T_b6a31_row2_col3\" class=\"data row2 col3\" >102.940000</td>\n",
       "      <td id=\"T_b6a31_row2_col4\" class=\"data row2 col4\" >230982</td>\n",
       "      <td id=\"T_b6a31_row2_col5\" class=\"data row2 col5\" >265937</td>\n",
       "      <td id=\"T_b6a31_row2_col6\" class=\"data row2 col6\" >86.860000</td>\n",
       "    </tr>\n",
       "    <tr>\n",
       "      <th id=\"T_b6a31_level0_row3\" class=\"row_heading level0 row3\" >3</th>\n",
       "      <td id=\"T_b6a31_row3_col0\" class=\"data row3 col0\" >2023-09-25 00:00:00</td>\n",
       "      <td id=\"T_b6a31_row3_col1\" class=\"data row3 col1\" >333852</td>\n",
       "      <td id=\"T_b6a31_row3_col2\" class=\"data row3 col2\" >271788</td>\n",
       "      <td id=\"T_b6a31_row3_col3\" class=\"data row3 col3\" >122.840000</td>\n",
       "      <td id=\"T_b6a31_row3_col4\" class=\"data row3 col4\" >228459</td>\n",
       "      <td id=\"T_b6a31_row3_col5\" class=\"data row3 col5\" >228604</td>\n",
       "      <td id=\"T_b6a31_row3_col6\" class=\"data row3 col6\" >99.940000</td>\n",
       "    </tr>\n",
       "    <tr>\n",
       "      <th id=\"T_b6a31_level0_row4\" class=\"row_heading level0 row4\" >4</th>\n",
       "      <td id=\"T_b6a31_row4_col0\" class=\"data row4 col0\" >2023-09-22 00:00:00</td>\n",
       "      <td id=\"T_b6a31_row4_col1\" class=\"data row4 col1\" >289330</td>\n",
       "      <td id=\"T_b6a31_row4_col2\" class=\"data row4 col2\" >276500</td>\n",
       "      <td id=\"T_b6a31_row4_col3\" class=\"data row4 col3\" >104.640000</td>\n",
       "      <td id=\"T_b6a31_row4_col4\" class=\"data row4 col4\" >189011</td>\n",
       "      <td id=\"T_b6a31_row4_col5\" class=\"data row4 col5\" >228409</td>\n",
       "      <td id=\"T_b6a31_row4_col6\" class=\"data row4 col6\" >82.750000</td>\n",
       "    </tr>\n",
       "    <tr>\n",
       "      <th id=\"T_b6a31_level0_row5\" class=\"row_heading level0 row5\" >5</th>\n",
       "      <td id=\"T_b6a31_row5_col0\" class=\"data row5 col0\" >2023-09-21 00:00:00</td>\n",
       "      <td id=\"T_b6a31_row5_col1\" class=\"data row5 col1\" >286885</td>\n",
       "      <td id=\"T_b6a31_row5_col2\" class=\"data row5 col2\" >344468</td>\n",
       "      <td id=\"T_b6a31_row5_col3\" class=\"data row5 col3\" >83.280000</td>\n",
       "      <td id=\"T_b6a31_row5_col4\" class=\"data row5 col4\" >151640</td>\n",
       "      <td id=\"T_b6a31_row5_col5\" class=\"data row5 col5\" >202302</td>\n",
       "      <td id=\"T_b6a31_row5_col6\" class=\"data row5 col6\" >74.960000</td>\n",
       "    </tr>\n",
       "    <tr>\n",
       "      <th id=\"T_b6a31_level0_row6\" class=\"row_heading level0 row6\" >6</th>\n",
       "      <td id=\"T_b6a31_row6_col0\" class=\"data row6 col0\" >2023-09-20 00:00:00</td>\n",
       "      <td id=\"T_b6a31_row6_col1\" class=\"data row6 col1\" >564784</td>\n",
       "      <td id=\"T_b6a31_row6_col2\" class=\"data row6 col2\" >546200</td>\n",
       "      <td id=\"T_b6a31_row6_col3\" class=\"data row6 col3\" >103.400000</td>\n",
       "      <td id=\"T_b6a31_row6_col4\" class=\"data row6 col4\" >96992</td>\n",
       "      <td id=\"T_b6a31_row6_col5\" class=\"data row6 col5\" >119608</td>\n",
       "      <td id=\"T_b6a31_row6_col6\" class=\"data row6 col6\" >81.090000</td>\n",
       "    </tr>\n",
       "    <tr>\n",
       "      <th id=\"T_b6a31_level0_row7\" class=\"row_heading level0 row7\" >7</th>\n",
       "      <td id=\"T_b6a31_row7_col0\" class=\"data row7 col0\" >2023-09-19 00:00:00</td>\n",
       "      <td id=\"T_b6a31_row7_col1\" class=\"data row7 col1\" >343279</td>\n",
       "      <td id=\"T_b6a31_row7_col2\" class=\"data row7 col2\" >384271</td>\n",
       "      <td id=\"T_b6a31_row7_col3\" class=\"data row7 col3\" >89.330000</td>\n",
       "      <td id=\"T_b6a31_row7_col4\" class=\"data row7 col4\" >276245</td>\n",
       "      <td id=\"T_b6a31_row7_col5\" class=\"data row7 col5\" >302503</td>\n",
       "      <td id=\"T_b6a31_row7_col6\" class=\"data row7 col6\" >91.320000</td>\n",
       "    </tr>\n",
       "    <tr>\n",
       "      <th id=\"T_b6a31_level0_row8\" class=\"row_heading level0 row8\" >8</th>\n",
       "      <td id=\"T_b6a31_row8_col0\" class=\"data row8 col0\" >2023-09-18 00:00:00</td>\n",
       "      <td id=\"T_b6a31_row8_col1\" class=\"data row8 col1\" >292397</td>\n",
       "      <td id=\"T_b6a31_row8_col2\" class=\"data row8 col2\" >352765</td>\n",
       "      <td id=\"T_b6a31_row8_col3\" class=\"data row8 col3\" >82.890000</td>\n",
       "      <td id=\"T_b6a31_row8_col4\" class=\"data row8 col4\" >274693</td>\n",
       "      <td id=\"T_b6a31_row8_col5\" class=\"data row8 col5\" >275187</td>\n",
       "      <td id=\"T_b6a31_row8_col6\" class=\"data row8 col6\" >99.820000</td>\n",
       "    </tr>\n",
       "    <tr>\n",
       "      <th id=\"T_b6a31_level0_row9\" class=\"row_heading level0 row9\" >9</th>\n",
       "      <td id=\"T_b6a31_row9_col0\" class=\"data row9 col0\" >2023-09-15 00:00:00</td>\n",
       "      <td id=\"T_b6a31_row9_col1\" class=\"data row9 col1\" >278525</td>\n",
       "      <td id=\"T_b6a31_row9_col2\" class=\"data row9 col2\" >231973</td>\n",
       "      <td id=\"T_b6a31_row9_col3\" class=\"data row9 col3\" >120.070000</td>\n",
       "      <td id=\"T_b6a31_row9_col4\" class=\"data row9 col4\" >261610</td>\n",
       "      <td id=\"T_b6a31_row9_col5\" class=\"data row9 col5\" >221675</td>\n",
       "      <td id=\"T_b6a31_row9_col6\" class=\"data row9 col6\" >118.020000</td>\n",
       "    </tr>\n",
       "    <tr>\n",
       "      <th id=\"T_b6a31_level0_row10\" class=\"row_heading level0 row10\" >10</th>\n",
       "      <td id=\"T_b6a31_row10_col0\" class=\"data row10 col0\" >2023-09-14 00:00:00</td>\n",
       "      <td id=\"T_b6a31_row10_col1\" class=\"data row10 col1\" >339219</td>\n",
       "      <td id=\"T_b6a31_row10_col2\" class=\"data row10 col2\" >273437</td>\n",
       "      <td id=\"T_b6a31_row10_col3\" class=\"data row10 col3\" >124.060000</td>\n",
       "      <td id=\"T_b6a31_row10_col4\" class=\"data row10 col4\" >243539</td>\n",
       "      <td id=\"T_b6a31_row10_col5\" class=\"data row10 col5\" >206315</td>\n",
       "      <td id=\"T_b6a31_row10_col6\" class=\"data row10 col6\" >118.040000</td>\n",
       "    </tr>\n",
       "    <tr>\n",
       "      <th id=\"T_b6a31_level0_row11\" class=\"row_heading level0 row11\" >11</th>\n",
       "      <td id=\"T_b6a31_row11_col0\" class=\"data row11 col0\" >2023-09-13 00:00:00</td>\n",
       "      <td id=\"T_b6a31_row11_col1\" class=\"data row11 col1\" >489468</td>\n",
       "      <td id=\"T_b6a31_row11_col2\" class=\"data row11 col2\" >436268</td>\n",
       "      <td id=\"T_b6a31_row11_col3\" class=\"data row11 col3\" >112.190000</td>\n",
       "      <td id=\"T_b6a31_row11_col4\" class=\"data row11 col4\" >179325</td>\n",
       "      <td id=\"T_b6a31_row11_col5\" class=\"data row11 col5\" >178957</td>\n",
       "      <td id=\"T_b6a31_row11_col6\" class=\"data row11 col6\" >100.210000</td>\n",
       "    </tr>\n",
       "    <tr>\n",
       "      <th id=\"T_b6a31_level0_row12\" class=\"row_heading level0 row12\" >12</th>\n",
       "      <td id=\"T_b6a31_row12_col0\" class=\"data row12 col0\" >2023-09-12 00:00:00</td>\n",
       "      <td id=\"T_b6a31_row12_col1\" class=\"data row12 col1\" >374338</td>\n",
       "      <td id=\"T_b6a31_row12_col2\" class=\"data row12 col2\" >347670</td>\n",
       "      <td id=\"T_b6a31_row12_col3\" class=\"data row12 col3\" >107.670000</td>\n",
       "      <td id=\"T_b6a31_row12_col4\" class=\"data row12 col4\" >277003</td>\n",
       "      <td id=\"T_b6a31_row12_col5\" class=\"data row12 col5\" >275107</td>\n",
       "      <td id=\"T_b6a31_row12_col6\" class=\"data row12 col6\" >100.690000</td>\n",
       "    </tr>\n",
       "    <tr>\n",
       "      <th id=\"T_b6a31_level0_row13\" class=\"row_heading level0 row13\" >13</th>\n",
       "      <td id=\"T_b6a31_row13_col0\" class=\"data row13 col0\" >2023-09-11 00:00:00</td>\n",
       "      <td id=\"T_b6a31_row13_col1\" class=\"data row13 col1\" >314001</td>\n",
       "      <td id=\"T_b6a31_row13_col2\" class=\"data row13 col2\" >390462</td>\n",
       "      <td id=\"T_b6a31_row13_col3\" class=\"data row13 col3\" >80.420000</td>\n",
       "      <td id=\"T_b6a31_row13_col4\" class=\"data row13 col4\" >246445</td>\n",
       "      <td id=\"T_b6a31_row13_col5\" class=\"data row13 col5\" >274340</td>\n",
       "      <td id=\"T_b6a31_row13_col6\" class=\"data row13 col6\" >89.830000</td>\n",
       "    </tr>\n",
       "    <tr>\n",
       "      <th id=\"T_b6a31_level0_row14\" class=\"row_heading level0 row14\" >14</th>\n",
       "      <td id=\"T_b6a31_row14_col0\" class=\"data row14 col0\" >2023-09-08 00:00:00</td>\n",
       "      <td id=\"T_b6a31_row14_col1\" class=\"data row14 col1\" >263273</td>\n",
       "      <td id=\"T_b6a31_row14_col2\" class=\"data row14 col2\" >254575</td>\n",
       "      <td id=\"T_b6a31_row14_col3\" class=\"data row14 col3\" >103.420000</td>\n",
       "      <td id=\"T_b6a31_row14_col4\" class=\"data row14 col4\" >240248</td>\n",
       "      <td id=\"T_b6a31_row14_col5\" class=\"data row14 col5\" >236515</td>\n",
       "      <td id=\"T_b6a31_row14_col6\" class=\"data row14 col6\" >101.580000</td>\n",
       "    </tr>\n",
       "    <tr>\n",
       "      <th id=\"T_b6a31_level0_row15\" class=\"row_heading level0 row15\" >15</th>\n",
       "      <td id=\"T_b6a31_row15_col0\" class=\"data row15 col0\" >2023-09-07 00:00:00</td>\n",
       "      <td id=\"T_b6a31_row15_col1\" class=\"data row15 col1\" >249520</td>\n",
       "      <td id=\"T_b6a31_row15_col2\" class=\"data row15 col2\" >252805</td>\n",
       "      <td id=\"T_b6a31_row15_col3\" class=\"data row15 col3\" >98.700000</td>\n",
       "      <td id=\"T_b6a31_row15_col4\" class=\"data row15 col4\" >207695</td>\n",
       "      <td id=\"T_b6a31_row15_col5\" class=\"data row15 col5\" >213423</td>\n",
       "      <td id=\"T_b6a31_row15_col6\" class=\"data row15 col6\" >97.320000</td>\n",
       "    </tr>\n",
       "    <tr>\n",
       "      <th id=\"T_b6a31_level0_row16\" class=\"row_heading level0 row16\" >16</th>\n",
       "      <td id=\"T_b6a31_row16_col0\" class=\"data row16 col0\" >2023-09-06 00:00:00</td>\n",
       "      <td id=\"T_b6a31_row16_col1\" class=\"data row16 col1\" >436335</td>\n",
       "      <td id=\"T_b6a31_row16_col2\" class=\"data row16 col2\" >427740</td>\n",
       "      <td id=\"T_b6a31_row16_col3\" class=\"data row16 col3\" >102.010000</td>\n",
       "      <td id=\"T_b6a31_row16_col4\" class=\"data row16 col4\" >166813</td>\n",
       "      <td id=\"T_b6a31_row16_col5\" class=\"data row16 col5\" >166136</td>\n",
       "      <td id=\"T_b6a31_row16_col6\" class=\"data row16 col6\" >100.410000</td>\n",
       "    </tr>\n",
       "    <tr>\n",
       "      <th id=\"T_b6a31_level0_row17\" class=\"row_heading level0 row17\" >17</th>\n",
       "      <td id=\"T_b6a31_row17_col0\" class=\"data row17 col0\" >2023-09-05 00:00:00</td>\n",
       "      <td id=\"T_b6a31_row17_col1\" class=\"data row17 col1\" >219787</td>\n",
       "      <td id=\"T_b6a31_row17_col2\" class=\"data row17 col2\" >194175</td>\n",
       "      <td id=\"T_b6a31_row17_col3\" class=\"data row17 col3\" >113.190000</td>\n",
       "      <td id=\"T_b6a31_row17_col4\" class=\"data row17 col4\" >259908</td>\n",
       "      <td id=\"T_b6a31_row17_col5\" class=\"data row17 col5\" >240893</td>\n",
       "      <td id=\"T_b6a31_row17_col6\" class=\"data row17 col6\" >107.890000</td>\n",
       "    </tr>\n",
       "    <tr>\n",
       "      <th id=\"T_b6a31_level0_row18\" class=\"row_heading level0 row18\" >18</th>\n",
       "      <td id=\"T_b6a31_row18_col0\" class=\"data row18 col0\" >2023-09-04 00:00:00</td>\n",
       "      <td id=\"T_b6a31_row18_col1\" class=\"data row18 col1\" >350127</td>\n",
       "      <td id=\"T_b6a31_row18_col2\" class=\"data row18 col2\" >311603</td>\n",
       "      <td id=\"T_b6a31_row18_col3\" class=\"data row18 col3\" >112.360000</td>\n",
       "      <td id=\"T_b6a31_row18_col4\" class=\"data row18 col4\" >242994</td>\n",
       "      <td id=\"T_b6a31_row18_col5\" class=\"data row18 col5\" >222804</td>\n",
       "      <td id=\"T_b6a31_row18_col6\" class=\"data row18 col6\" >109.060000</td>\n",
       "    </tr>\n",
       "    <tr>\n",
       "      <th id=\"T_b6a31_level0_row19\" class=\"row_heading level0 row19\" >19</th>\n",
       "      <td id=\"T_b6a31_row19_col0\" class=\"data row19 col0\" >2023-09-01 00:00:00</td>\n",
       "      <td id=\"T_b6a31_row19_col1\" class=\"data row19 col1\" >248350</td>\n",
       "      <td id=\"T_b6a31_row19_col2\" class=\"data row19 col2\" >239019</td>\n",
       "      <td id=\"T_b6a31_row19_col3\" class=\"data row19 col3\" >103.900000</td>\n",
       "      <td id=\"T_b6a31_row19_col4\" class=\"data row19 col4\" >212099</td>\n",
       "      <td id=\"T_b6a31_row19_col5\" class=\"data row19 col5\" >208233</td>\n",
       "      <td id=\"T_b6a31_row19_col6\" class=\"data row19 col6\" >101.860000</td>\n",
       "    </tr>\n",
       "    <tr>\n",
       "      <th id=\"T_b6a31_level0_row20\" class=\"row_heading level0 row20\" >20</th>\n",
       "      <td id=\"T_b6a31_row20_col0\" class=\"data row20 col0\" >2023-10-31 00:00:00</td>\n",
       "      <td id=\"T_b6a31_row20_col1\" class=\"data row20 col1\" >411592</td>\n",
       "      <td id=\"T_b6a31_row20_col2\" class=\"data row20 col2\" >538977</td>\n",
       "      <td id=\"T_b6a31_row20_col3\" class=\"data row20 col3\" >76.370000</td>\n",
       "      <td id=\"T_b6a31_row20_col4\" class=\"data row20 col4\" >262079</td>\n",
       "      <td id=\"T_b6a31_row20_col5\" class=\"data row20 col5\" >313515</td>\n",
       "      <td id=\"T_b6a31_row20_col6\" class=\"data row20 col6\" >83.590000</td>\n",
       "    </tr>\n",
       "    <tr>\n",
       "      <th id=\"T_b6a31_level0_row21\" class=\"row_heading level0 row21\" >21</th>\n",
       "      <td id=\"T_b6a31_row21_col0\" class=\"data row21 col0\" >2023-10-30 00:00:00</td>\n",
       "      <td id=\"T_b6a31_row21_col1\" class=\"data row21 col1\" >331785</td>\n",
       "      <td id=\"T_b6a31_row21_col2\" class=\"data row21 col2\" >339871</td>\n",
       "      <td id=\"T_b6a31_row21_col3\" class=\"data row21 col3\" >97.620000</td>\n",
       "      <td id=\"T_b6a31_row21_col4\" class=\"data row21 col4\" >262483</td>\n",
       "      <td id=\"T_b6a31_row21_col5\" class=\"data row21 col5\" >271497</td>\n",
       "      <td id=\"T_b6a31_row21_col6\" class=\"data row21 col6\" >96.680000</td>\n",
       "    </tr>\n",
       "    <tr>\n",
       "      <th id=\"T_b6a31_level0_row22\" class=\"row_heading level0 row22\" >22</th>\n",
       "      <td id=\"T_b6a31_row22_col0\" class=\"data row22 col0\" >2023-10-27 00:00:00</td>\n",
       "      <td id=\"T_b6a31_row22_col1\" class=\"data row22 col1\" >296414</td>\n",
       "      <td id=\"T_b6a31_row22_col2\" class=\"data row22 col2\" >282028</td>\n",
       "      <td id=\"T_b6a31_row22_col3\" class=\"data row22 col3\" >105.100000</td>\n",
       "      <td id=\"T_b6a31_row22_col4\" class=\"data row22 col4\" >246451</td>\n",
       "      <td id=\"T_b6a31_row22_col5\" class=\"data row22 col5\" >239295</td>\n",
       "      <td id=\"T_b6a31_row22_col6\" class=\"data row22 col6\" >102.990000</td>\n",
       "    </tr>\n",
       "    <tr>\n",
       "      <th id=\"T_b6a31_level0_row23\" class=\"row_heading level0 row23\" >23</th>\n",
       "      <td id=\"T_b6a31_row23_col0\" class=\"data row23 col0\" >2023-10-26 00:00:00</td>\n",
       "      <td id=\"T_b6a31_row23_col1\" class=\"data row23 col1\" >322752</td>\n",
       "      <td id=\"T_b6a31_row23_col2\" class=\"data row23 col2\" >366523</td>\n",
       "      <td id=\"T_b6a31_row23_col3\" class=\"data row23 col3\" >88.060000</td>\n",
       "      <td id=\"T_b6a31_row23_col4\" class=\"data row23 col4\" >204850</td>\n",
       "      <td id=\"T_b6a31_row23_col5\" class=\"data row23 col5\" >226813</td>\n",
       "      <td id=\"T_b6a31_row23_col6\" class=\"data row23 col6\" >90.320000</td>\n",
       "    </tr>\n",
       "    <tr>\n",
       "      <th id=\"T_b6a31_level0_row24\" class=\"row_heading level0 row24\" >24</th>\n",
       "      <td id=\"T_b6a31_row24_col0\" class=\"data row24 col0\" >2023-10-25 00:00:00</td>\n",
       "      <td id=\"T_b6a31_row24_col1\" class=\"data row24 col1\" >644419</td>\n",
       "      <td id=\"T_b6a31_row24_col2\" class=\"data row24 col2\" >560472</td>\n",
       "      <td id=\"T_b6a31_row24_col3\" class=\"data row24 col3\" >114.980000</td>\n",
       "      <td id=\"T_b6a31_row24_col4\" class=\"data row24 col4\" >157491</td>\n",
       "      <td id=\"T_b6a31_row24_col5\" class=\"data row24 col5\" >151594</td>\n",
       "      <td id=\"T_b6a31_row24_col6\" class=\"data row24 col6\" >103.890000</td>\n",
       "    </tr>\n",
       "    <tr>\n",
       "      <th id=\"T_b6a31_level0_row25\" class=\"row_heading level0 row25\" >25</th>\n",
       "      <td id=\"T_b6a31_row25_col0\" class=\"data row25 col0\" >2023-10-24 00:00:00</td>\n",
       "      <td id=\"T_b6a31_row25_col1\" class=\"data row25 col1\" >558839</td>\n",
       "      <td id=\"T_b6a31_row25_col2\" class=\"data row25 col2\" >593490</td>\n",
       "      <td id=\"T_b6a31_row25_col3\" class=\"data row25 col3\" >94.160000</td>\n",
       "      <td id=\"T_b6a31_row25_col4\" class=\"data row25 col4\" >265531</td>\n",
       "      <td id=\"T_b6a31_row25_col5\" class=\"data row25 col5\" >268334</td>\n",
       "      <td id=\"T_b6a31_row25_col6\" class=\"data row25 col6\" >98.960000</td>\n",
       "    </tr>\n",
       "    <tr>\n",
       "      <th id=\"T_b6a31_level0_row26\" class=\"row_heading level0 row26\" >26</th>\n",
       "      <td id=\"T_b6a31_row26_col0\" class=\"data row26 col0\" >2023-10-23 00:00:00</td>\n",
       "      <td id=\"T_b6a31_row26_col1\" class=\"data row26 col1\" >279797</td>\n",
       "      <td id=\"T_b6a31_row26_col2\" class=\"data row26 col2\" >364490</td>\n",
       "      <td id=\"T_b6a31_row26_col3\" class=\"data row26 col3\" >76.760000</td>\n",
       "      <td id=\"T_b6a31_row26_col4\" class=\"data row26 col4\" >227770</td>\n",
       "      <td id=\"T_b6a31_row26_col5\" class=\"data row26 col5\" >240800</td>\n",
       "      <td id=\"T_b6a31_row26_col6\" class=\"data row26 col6\" >94.590000</td>\n",
       "    </tr>\n",
       "    <tr>\n",
       "      <th id=\"T_b6a31_level0_row27\" class=\"row_heading level0 row27\" >27</th>\n",
       "      <td id=\"T_b6a31_row27_col0\" class=\"data row27 col0\" >2023-10-20 00:00:00</td>\n",
       "      <td id=\"T_b6a31_row27_col1\" class=\"data row27 col1\" >366192</td>\n",
       "      <td id=\"T_b6a31_row27_col2\" class=\"data row27 col2\" >398481</td>\n",
       "      <td id=\"T_b6a31_row27_col3\" class=\"data row27 col3\" >91.900000</td>\n",
       "      <td id=\"T_b6a31_row27_col4\" class=\"data row27 col4\" >206799</td>\n",
       "      <td id=\"T_b6a31_row27_col5\" class=\"data row27 col5\" >205419</td>\n",
       "      <td id=\"T_b6a31_row27_col6\" class=\"data row27 col6\" >100.670000</td>\n",
       "    </tr>\n",
       "    <tr>\n",
       "      <th id=\"T_b6a31_level0_row28\" class=\"row_heading level0 row28\" >28</th>\n",
       "      <td id=\"T_b6a31_row28_col0\" class=\"data row28 col0\" >2023-10-19 00:00:00</td>\n",
       "      <td id=\"T_b6a31_row28_col1\" class=\"data row28 col1\" >239227</td>\n",
       "      <td id=\"T_b6a31_row28_col2\" class=\"data row28 col2\" >254568</td>\n",
       "      <td id=\"T_b6a31_row28_col3\" class=\"data row28 col3\" >93.970000</td>\n",
       "      <td id=\"T_b6a31_row28_col4\" class=\"data row28 col4\" >167863</td>\n",
       "      <td id=\"T_b6a31_row28_col5\" class=\"data row28 col5\" >179978</td>\n",
       "      <td id=\"T_b6a31_row28_col6\" class=\"data row28 col6\" >93.270000</td>\n",
       "    </tr>\n",
       "    <tr>\n",
       "      <th id=\"T_b6a31_level0_row29\" class=\"row_heading level0 row29\" >29</th>\n",
       "      <td id=\"T_b6a31_row29_col0\" class=\"data row29 col0\" >2023-10-18 00:00:00</td>\n",
       "      <td id=\"T_b6a31_row29_col1\" class=\"data row29 col1\" >743139</td>\n",
       "      <td id=\"T_b6a31_row29_col2\" class=\"data row29 col2\" >752470</td>\n",
       "      <td id=\"T_b6a31_row29_col3\" class=\"data row29 col3\" >98.760000</td>\n",
       "      <td id=\"T_b6a31_row29_col4\" class=\"data row29 col4\" >119632</td>\n",
       "      <td id=\"T_b6a31_row29_col5\" class=\"data row29 col5\" >128759</td>\n",
       "      <td id=\"T_b6a31_row29_col6\" class=\"data row29 col6\" >92.910000</td>\n",
       "    </tr>\n",
       "    <tr>\n",
       "      <th id=\"T_b6a31_level0_row30\" class=\"row_heading level0 row30\" >30</th>\n",
       "      <td id=\"T_b6a31_row30_col0\" class=\"data row30 col0\" >2023-10-17 00:00:00</td>\n",
       "      <td id=\"T_b6a31_row30_col1\" class=\"data row30 col1\" >382496</td>\n",
       "      <td id=\"T_b6a31_row30_col2\" class=\"data row30 col2\" >425899</td>\n",
       "      <td id=\"T_b6a31_row30_col3\" class=\"data row30 col3\" >89.810000</td>\n",
       "      <td id=\"T_b6a31_row30_col4\" class=\"data row30 col4\" >270190</td>\n",
       "      <td id=\"T_b6a31_row30_col5\" class=\"data row30 col5\" >305270</td>\n",
       "      <td id=\"T_b6a31_row30_col6\" class=\"data row30 col6\" >88.510000</td>\n",
       "    </tr>\n",
       "    <tr>\n",
       "      <th id=\"T_b6a31_level0_row31\" class=\"row_heading level0 row31\" >31</th>\n",
       "      <td id=\"T_b6a31_row31_col0\" class=\"data row31 col0\" >2023-10-16 00:00:00</td>\n",
       "      <td id=\"T_b6a31_row31_col1\" class=\"data row31 col1\" >354184</td>\n",
       "      <td id=\"T_b6a31_row31_col2\" class=\"data row31 col2\" >395308</td>\n",
       "      <td id=\"T_b6a31_row31_col3\" class=\"data row31 col3\" >89.600000</td>\n",
       "      <td id=\"T_b6a31_row31_col4\" class=\"data row31 col4\" >253791</td>\n",
       "      <td id=\"T_b6a31_row31_col5\" class=\"data row31 col5\" >292944</td>\n",
       "      <td id=\"T_b6a31_row31_col6\" class=\"data row31 col6\" >86.630000</td>\n",
       "    </tr>\n",
       "    <tr>\n",
       "      <th id=\"T_b6a31_level0_row32\" class=\"row_heading level0 row32\" >32</th>\n",
       "      <td id=\"T_b6a31_row32_col0\" class=\"data row32 col0\" >2023-10-13 00:00:00</td>\n",
       "      <td id=\"T_b6a31_row32_col1\" class=\"data row32 col1\" >264678</td>\n",
       "      <td id=\"T_b6a31_row32_col2\" class=\"data row32 col2\" >282865</td>\n",
       "      <td id=\"T_b6a31_row32_col3\" class=\"data row32 col3\" >93.570000</td>\n",
       "      <td id=\"T_b6a31_row32_col4\" class=\"data row32 col4\" >228307</td>\n",
       "      <td id=\"T_b6a31_row32_col5\" class=\"data row32 col5\" >245467</td>\n",
       "      <td id=\"T_b6a31_row32_col6\" class=\"data row32 col6\" >93.010000</td>\n",
       "    </tr>\n",
       "    <tr>\n",
       "      <th id=\"T_b6a31_level0_row33\" class=\"row_heading level0 row33\" >33</th>\n",
       "      <td id=\"T_b6a31_row33_col0\" class=\"data row33 col0\" >2023-10-12 00:00:00</td>\n",
       "      <td id=\"T_b6a31_row33_col1\" class=\"data row33 col1\" >274461</td>\n",
       "      <td id=\"T_b6a31_row33_col2\" class=\"data row33 col2\" >262294</td>\n",
       "      <td id=\"T_b6a31_row33_col3\" class=\"data row33 col3\" >104.640000</td>\n",
       "      <td id=\"T_b6a31_row33_col4\" class=\"data row33 col4\" >208136</td>\n",
       "      <td id=\"T_b6a31_row33_col5\" class=\"data row33 col5\" >195204</td>\n",
       "      <td id=\"T_b6a31_row33_col6\" class=\"data row33 col6\" >106.620000</td>\n",
       "    </tr>\n",
       "    <tr>\n",
       "      <th id=\"T_b6a31_level0_row34\" class=\"row_heading level0 row34\" >34</th>\n",
       "      <td id=\"T_b6a31_row34_col0\" class=\"data row34 col0\" >2023-10-11 00:00:00</td>\n",
       "      <td id=\"T_b6a31_row34_col1\" class=\"data row34 col1\" >626528</td>\n",
       "      <td id=\"T_b6a31_row34_col2\" class=\"data row34 col2\" >597555</td>\n",
       "      <td id=\"T_b6a31_row34_col3\" class=\"data row34 col3\" >104.850000</td>\n",
       "      <td id=\"T_b6a31_row34_col4\" class=\"data row34 col4\" >151397</td>\n",
       "      <td id=\"T_b6a31_row34_col5\" class=\"data row34 col5\" >162654</td>\n",
       "      <td id=\"T_b6a31_row34_col6\" class=\"data row34 col6\" >93.080000</td>\n",
       "    </tr>\n",
       "    <tr>\n",
       "      <th id=\"T_b6a31_level0_row35\" class=\"row_heading level0 row35\" >35</th>\n",
       "      <td id=\"T_b6a31_row35_col0\" class=\"data row35 col0\" >2023-10-06 00:00:00</td>\n",
       "      <td id=\"T_b6a31_row35_col1\" class=\"data row35 col1\" >281278</td>\n",
       "      <td id=\"T_b6a31_row35_col2\" class=\"data row35 col2\" >254116</td>\n",
       "      <td id=\"T_b6a31_row35_col3\" class=\"data row35 col3\" >110.690000</td>\n",
       "      <td id=\"T_b6a31_row35_col4\" class=\"data row35 col4\" >218779</td>\n",
       "      <td id=\"T_b6a31_row35_col5\" class=\"data row35 col5\" >224696</td>\n",
       "      <td id=\"T_b6a31_row35_col6\" class=\"data row35 col6\" >97.370000</td>\n",
       "    </tr>\n",
       "    <tr>\n",
       "      <th id=\"T_b6a31_level0_row36\" class=\"row_heading level0 row36\" >36</th>\n",
       "      <td id=\"T_b6a31_row36_col0\" class=\"data row36 col0\" >2023-10-05 00:00:00</td>\n",
       "      <td id=\"T_b6a31_row36_col1\" class=\"data row36 col1\" >318689</td>\n",
       "      <td id=\"T_b6a31_row36_col2\" class=\"data row36 col2\" >263610</td>\n",
       "      <td id=\"T_b6a31_row36_col3\" class=\"data row36 col3\" >120.890000</td>\n",
       "      <td id=\"T_b6a31_row36_col4\" class=\"data row36 col4\" >198476</td>\n",
       "      <td id=\"T_b6a31_row36_col5\" class=\"data row36 col5\" >213233</td>\n",
       "      <td id=\"T_b6a31_row36_col6\" class=\"data row36 col6\" >93.080000</td>\n",
       "    </tr>\n",
       "    <tr>\n",
       "      <th id=\"T_b6a31_level0_row37\" class=\"row_heading level0 row37\" >37</th>\n",
       "      <td id=\"T_b6a31_row37_col0\" class=\"data row37 col0\" >2023-10-04 00:00:00</td>\n",
       "      <td id=\"T_b6a31_row37_col1\" class=\"data row37 col1\" >672538</td>\n",
       "      <td id=\"T_b6a31_row37_col2\" class=\"data row37 col2\" >662379</td>\n",
       "      <td id=\"T_b6a31_row37_col3\" class=\"data row37 col3\" >101.530000</td>\n",
       "      <td id=\"T_b6a31_row37_col4\" class=\"data row37 col4\" >130130</td>\n",
       "      <td id=\"T_b6a31_row37_col5\" class=\"data row37 col5\" >171859</td>\n",
       "      <td id=\"T_b6a31_row37_col6\" class=\"data row37 col6\" >75.720000</td>\n",
       "    </tr>\n",
       "    <tr>\n",
       "      <th id=\"T_b6a31_level0_row38\" class=\"row_heading level0 row38\" >38</th>\n",
       "      <td id=\"T_b6a31_row38_col0\" class=\"data row38 col0\" >2023-10-03 00:00:00</td>\n",
       "      <td id=\"T_b6a31_row38_col1\" class=\"data row38 col1\" >384135</td>\n",
       "      <td id=\"T_b6a31_row38_col2\" class=\"data row38 col2\" >364240</td>\n",
       "      <td id=\"T_b6a31_row38_col3\" class=\"data row38 col3\" >105.460000</td>\n",
       "      <td id=\"T_b6a31_row38_col4\" class=\"data row38 col4\" >240901</td>\n",
       "      <td id=\"T_b6a31_row38_col5\" class=\"data row38 col5\" >245358</td>\n",
       "      <td id=\"T_b6a31_row38_col6\" class=\"data row38 col6\" >98.180000</td>\n",
       "    </tr>\n",
       "    <tr>\n",
       "      <th id=\"T_b6a31_level0_row39\" class=\"row_heading level0 row39\" >39</th>\n",
       "      <td id=\"T_b6a31_row39_col0\" class=\"data row39 col0\" >2023-10-02 00:00:00</td>\n",
       "      <td id=\"T_b6a31_row39_col1\" class=\"data row39 col1\" >382790</td>\n",
       "      <td id=\"T_b6a31_row39_col2\" class=\"data row39 col2\" >286967</td>\n",
       "      <td id=\"T_b6a31_row39_col3\" class=\"data row39 col3\" >133.390000</td>\n",
       "      <td id=\"T_b6a31_row39_col4\" class=\"data row39 col4\" >229082</td>\n",
       "      <td id=\"T_b6a31_row39_col5\" class=\"data row39 col5\" >202863</td>\n",
       "      <td id=\"T_b6a31_row39_col6\" class=\"data row39 col6\" >112.920000</td>\n",
       "    </tr>\n",
       "  </tbody>\n",
       "</table>\n"
      ],
      "text/plain": [
       "<pandas.io.formats.style.Styler at 0x192bd351960>"
      ]
     },
     "execution_count": 25,
     "metadata": {},
     "output_type": "execute_result"
    }
   ],
   "source": [
    "def f1(x):\n",
    "    if x>=110:\n",
    "        return \"color:red\"\n",
    "    elif x<=80:\n",
    "        return \"color:gray\"\n",
    "    \n",
    "def f2(x):\n",
    "    if x>=110:\n",
    "        return \"background-color:yellow\"\n",
    "    elif x<=80:\n",
    "        return \"background-color:green\"\n",
    "    \n",
    "(df.style.applymap(f1, subset = ['買賣權未平倉量比率%', \"買賣權成交量比率%\"])\n",
    " .applymap(f2, subset = ['買賣權未平倉量比率%', \"買賣權成交量比率%\"]))"
   ]
  },
  {
   "cell_type": "code",
   "execution_count": 32,
   "id": "2a4c38ee",
   "metadata": {},
   "outputs": [
    {
     "data": {
      "text/html": [
       "<div>\n",
       "<style scoped>\n",
       "    .dataframe tbody tr th:only-of-type {\n",
       "        vertical-align: middle;\n",
       "    }\n",
       "\n",
       "    .dataframe tbody tr th {\n",
       "        vertical-align: top;\n",
       "    }\n",
       "\n",
       "    .dataframe thead th {\n",
       "        text-align: right;\n",
       "    }\n",
       "</style>\n",
       "<table border=\"1\" class=\"dataframe\">\n",
       "  <thead>\n",
       "    <tr style=\"text-align: right;\">\n",
       "      <th></th>\n",
       "      <th>年齡</th>\n",
       "      <th>階層</th>\n",
       "    </tr>\n",
       "  </thead>\n",
       "  <tbody>\n",
       "    <tr>\n",
       "      <th>0</th>\n",
       "      <td>99</td>\n",
       "      <td>高齡族</td>\n",
       "    </tr>\n",
       "    <tr>\n",
       "      <th>1</th>\n",
       "      <td>78</td>\n",
       "      <td>老年人</td>\n",
       "    </tr>\n",
       "    <tr>\n",
       "      <th>2</th>\n",
       "      <td>61</td>\n",
       "      <td>老年人</td>\n",
       "    </tr>\n",
       "    <tr>\n",
       "      <th>3</th>\n",
       "      <td>16</td>\n",
       "      <td>青少年</td>\n",
       "    </tr>\n",
       "    <tr>\n",
       "      <th>4</th>\n",
       "      <td>73</td>\n",
       "      <td>老年人</td>\n",
       "    </tr>\n",
       "    <tr>\n",
       "      <th>5</th>\n",
       "      <td>8</td>\n",
       "      <td>青少年</td>\n",
       "    </tr>\n",
       "    <tr>\n",
       "      <th>6</th>\n",
       "      <td>100</td>\n",
       "      <td>高齡族</td>\n",
       "    </tr>\n",
       "    <tr>\n",
       "      <th>7</th>\n",
       "      <td>62</td>\n",
       "      <td>老年人</td>\n",
       "    </tr>\n",
       "    <tr>\n",
       "      <th>8</th>\n",
       "      <td>27</td>\n",
       "      <td>年輕人</td>\n",
       "    </tr>\n",
       "    <tr>\n",
       "      <th>9</th>\n",
       "      <td>30</td>\n",
       "      <td>年輕人</td>\n",
       "    </tr>\n",
       "  </tbody>\n",
       "</table>\n",
       "</div>"
      ],
      "text/plain": [
       "    年齡   階層\n",
       "0   99  高齡族\n",
       "1   78  老年人\n",
       "2   61  老年人\n",
       "3   16  青少年\n",
       "4   73  老年人\n",
       "5    8  青少年\n",
       "6  100  高齡族\n",
       "7   62  老年人\n",
       "8   27  年輕人\n",
       "9   30  年輕人"
      ]
     },
     "execution_count": 32,
     "metadata": {},
     "output_type": "execute_result"
    }
   ],
   "source": [
    "import pandas as pd\n",
    "import numpy as np\n",
    "\n",
    "bins = [0,20,40,60,80,100]\n",
    "labels = [\"青少年\", \"年輕人\", \"中壯年\", \"老年人\", \"高齡族\"]\n",
    "np.random.seed(5)\n",
    "s = pd.Series(np.random.randint(101,size = 10))\n",
    "\n",
    "df = pd.DataFrame({\n",
    "    \"年齡\":s,\n",
    "    \"階層\":pd.cut(s, bins = bins, labels = labels)\n",
    "})\n",
    "df"
   ]
  },
  {
   "cell_type": "code",
   "execution_count": 34,
   "id": "d22ffe37",
   "metadata": {},
   "outputs": [
    {
     "name": "stderr",
     "output_type": "stream",
     "text": [
      "C:\\Users\\Lo yuan\\AppData\\Local\\Temp\\ipykernel_15536\\730840724.py:1: FutureWarning: The default of observed=False is deprecated and will be changed to True in a future version of pandas. Pass observed=False to retain current behavior or observed=True to adopt the future default and silence this warning.\n",
      "  df1 = df.groupby(\"階層\").count()\n"
     ]
    },
    {
     "data": {
      "text/html": [
       "<div>\n",
       "<style scoped>\n",
       "    .dataframe tbody tr th:only-of-type {\n",
       "        vertical-align: middle;\n",
       "    }\n",
       "\n",
       "    .dataframe tbody tr th {\n",
       "        vertical-align: top;\n",
       "    }\n",
       "\n",
       "    .dataframe thead th {\n",
       "        text-align: right;\n",
       "    }\n",
       "</style>\n",
       "<table border=\"1\" class=\"dataframe\">\n",
       "  <thead>\n",
       "    <tr style=\"text-align: right;\">\n",
       "      <th></th>\n",
       "      <th>年齡</th>\n",
       "    </tr>\n",
       "    <tr>\n",
       "      <th>階層</th>\n",
       "      <th></th>\n",
       "    </tr>\n",
       "  </thead>\n",
       "  <tbody>\n",
       "    <tr>\n",
       "      <th>青少年</th>\n",
       "      <td>2</td>\n",
       "    </tr>\n",
       "    <tr>\n",
       "      <th>年輕人</th>\n",
       "      <td>2</td>\n",
       "    </tr>\n",
       "    <tr>\n",
       "      <th>中壯年</th>\n",
       "      <td>0</td>\n",
       "    </tr>\n",
       "    <tr>\n",
       "      <th>老年人</th>\n",
       "      <td>4</td>\n",
       "    </tr>\n",
       "    <tr>\n",
       "      <th>高齡族</th>\n",
       "      <td>2</td>\n",
       "    </tr>\n",
       "  </tbody>\n",
       "</table>\n",
       "</div>"
      ],
      "text/plain": [
       "     年齡\n",
       "階層     \n",
       "青少年   2\n",
       "年輕人   2\n",
       "中壯年   0\n",
       "老年人   4\n",
       "高齡族   2"
      ]
     },
     "execution_count": 34,
     "metadata": {},
     "output_type": "execute_result"
    }
   ],
   "source": [
    "df1 = df.groupby(\"階層\").count()\n",
    "df1"
   ]
  },
  {
   "cell_type": "code",
   "execution_count": 43,
   "id": "8e467bed",
   "metadata": {},
   "outputs": [
    {
     "data": {
      "image/png": "[encoded data removed]",
      "text/plain": [
       "<Figure size 500x300 with 1 Axes>"
      ]
     },
     "metadata": {},
     "output_type": "display_data"
    }
   ],
   "source": [
    "import matplotlib.pyplot as plt\n",
    "plt.rcParams[\"font.family\"] =  \"Microsoft Yahei\"\n",
    "df1.plot(kind = \"bar\", figsize = (5, 3))\n",
    "plt.ylim(0,6)\n",
    "\n",
    "for idx, value in enumerate(df1.values):\n",
    "    text = \"{}\".format(value[0])\n",
    "    plt.annotate(text, (idx, value[0] + 2), ha = \"center\")"
   ]
  },
  {
   "cell_type": "markdown",
   "id": "a8edae4d",
   "metadata": {},
   "source": [
    "```Python\n",
    "#產生日期\n",
    "#指定日期格式:2023/1/1、2023-1-1\n",
    "\n",
    "pd.date_range(\"指定日期\", periods = 指定數量, freq = offset單位)\n",
    "\n",
    "#產生週期\n",
    "#指定日期格式:2023/1/1、2023-1-1\n",
    "\n",
    "pd.periods_range(\"指定日期\", periods = 指定數量, freq = offset單位)\n",
    "```\n",
    "\n",
    "[offset aliases](https://pandas.pydata.org/docs/user_guide/timeseries.html#offset-aliases)"
   ]
  },
  {
   "cell_type": "code",
   "execution_count": 56,
   "id": "2e8a9170",
   "metadata": {},
   "outputs": [
    {
     "data": {
      "text/plain": [
       "2022-01-01      9\n",
       "2022-01-02    100\n",
       "2022-01-03     15\n",
       "2022-01-04     64\n",
       "2022-01-05     28\n",
       "2022-01-06     89\n",
       "2022-01-07     93\n",
       "2022-01-08     29\n",
       "2022-01-09      8\n",
       "2022-01-10     73\n",
       "Freq: D, dtype: int32"
      ]
     },
     "execution_count": 56,
     "metadata": {},
     "output_type": "execute_result"
    }
   ],
   "source": [
    "import pandas as pd\n",
    "import numpy as np\n",
    "\n",
    "size = 10\n",
    "np.random.seed(10)\n",
    "datelist = pd.date_range(\"2022/1/1\", periods = size, freq = \"D\")\n",
    "s = pd.Series(np.random.randint(101,size = size), index = datelist)\n",
    "s"
   ]
  },
  {
   "cell_type": "code",
   "execution_count": 54,
   "id": "b31f38c9",
   "metadata": {},
   "outputs": [
    {
     "data": {
      "text/plain": [
       "DatetimeIndex(['2022-03-31', '2022-06-30', '2022-09-30', '2022-12-31',\n",
       "               '2023-03-31', '2023-06-30', '2023-09-30', '2023-12-31',\n",
       "               '2024-03-31', '2024-06-30'],\n",
       "              dtype='datetime64[ns]', freq='Q-DEC')"
      ]
     },
     "execution_count": 54,
     "metadata": {},
     "output_type": "execute_result"
    }
   ],
   "source": [
    "pd.date_range(\"2022/1/1\", periods = 10, freq = \"Q\")"
   ]
  },
  {
   "cell_type": "code",
   "execution_count": 48,
   "id": "f7e1ea23",
   "metadata": {},
   "outputs": [
    {
     "data": {
      "text/plain": [
       "(Timestamp('1677-09-21 00:12:43.145224193'),\n",
       " Timestamp('2262-04-11 23:47:16.854775807'))"
      ]
     },
     "execution_count": 48,
     "metadata": {},
     "output_type": "execute_result"
    }
   ],
   "source": [
    "pd.Timestamp.min, pd.Timestamp.max"
   ]
  },
  {
   "cell_type": "code",
   "execution_count": 49,
   "id": "c2ee6ebe",
   "metadata": {},
   "outputs": [
    {
     "ename": "OutOfBoundsDatetime",
     "evalue": "Out of bounds nanosecond timestamp: 2262-06-30 00:00:00",
     "output_type": "error",
     "traceback": [
      "\u001b[1;31m---------------------------------------------------------------------------\u001b[0m",
      "\u001b[1;31mOutOfBoundsDatetime\u001b[0m                       Traceback (most recent call last)",
      "Cell \u001b[1;32mIn[49], line 1\u001b[0m\n\u001b[1;32m----> 1\u001b[0m \u001b[43mpd\u001b[49m\u001b[38;5;241;43m.\u001b[39;49m\u001b[43mdate_range\u001b[49m\u001b[43m(\u001b[49m\u001b[38;5;124;43m\"\u001b[39;49m\u001b[38;5;124;43m2262-04-11\u001b[39;49m\u001b[38;5;124;43m\"\u001b[39;49m\u001b[43m,\u001b[49m\u001b[43m \u001b[49m\u001b[43mperiods\u001b[49m\u001b[43m \u001b[49m\u001b[38;5;241;43m=\u001b[39;49m\u001b[43m \u001b[49m\u001b[43msize\u001b[49m\u001b[43m,\u001b[49m\u001b[43m \u001b[49m\u001b[43mfreq\u001b[49m\u001b[43m \u001b[49m\u001b[38;5;241;43m=\u001b[39;49m\u001b[43m \u001b[49m\u001b[38;5;124;43m\"\u001b[39;49m\u001b[38;5;124;43mQ\u001b[39;49m\u001b[38;5;124;43m\"\u001b[39;49m\u001b[43m)\u001b[49m\n",
      "File \u001b[1;32m~\\anaconda3\\lib\\site-packages\\pandas\\core\\indexes\\datetimes.py:1009\u001b[0m, in \u001b[0;36mdate_range\u001b[1;34m(start, end, periods, freq, tz, normalize, name, inclusive, unit, **kwargs)\u001b[0m\n\u001b[0;32m   1006\u001b[0m \u001b[38;5;28;01mif\u001b[39;00m freq \u001b[38;5;129;01mis\u001b[39;00m \u001b[38;5;28;01mNone\u001b[39;00m \u001b[38;5;129;01mand\u001b[39;00m com\u001b[38;5;241m.\u001b[39many_none(periods, start, end):\n\u001b[0;32m   1007\u001b[0m     freq \u001b[38;5;241m=\u001b[39m \u001b[38;5;124m\"\u001b[39m\u001b[38;5;124mD\u001b[39m\u001b[38;5;124m\"\u001b[39m\n\u001b[1;32m-> 1009\u001b[0m dtarr \u001b[38;5;241m=\u001b[39m DatetimeArray\u001b[38;5;241m.\u001b[39m_generate_range(\n\u001b[0;32m   1010\u001b[0m     start\u001b[38;5;241m=\u001b[39mstart,\n\u001b[0;32m   1011\u001b[0m     end\u001b[38;5;241m=\u001b[39mend,\n\u001b[0;32m   1012\u001b[0m     periods\u001b[38;5;241m=\u001b[39mperiods,\n\u001b[0;32m   1013\u001b[0m     freq\u001b[38;5;241m=\u001b[39mfreq,\n\u001b[0;32m   1014\u001b[0m     tz\u001b[38;5;241m=\u001b[39mtz,\n\u001b[0;32m   1015\u001b[0m     normalize\u001b[38;5;241m=\u001b[39mnormalize,\n\u001b[0;32m   1016\u001b[0m     inclusive\u001b[38;5;241m=\u001b[39minclusive,\n\u001b[0;32m   1017\u001b[0m     unit\u001b[38;5;241m=\u001b[39munit,\n\u001b[0;32m   1018\u001b[0m     \u001b[38;5;241m*\u001b[39m\u001b[38;5;241m*\u001b[39mkwargs,\n\u001b[0;32m   1019\u001b[0m )\n\u001b[0;32m   1020\u001b[0m \u001b[38;5;28;01mreturn\u001b[39;00m DatetimeIndex\u001b[38;5;241m.\u001b[39m_simple_new(dtarr, name\u001b[38;5;241m=\u001b[39mname)\n",
      "File \u001b[1;32m~\\anaconda3\\lib\\site-packages\\pandas\\core\\arrays\\datetimes.py:457\u001b[0m, in \u001b[0;36mDatetimeArray._generate_range\u001b[1;34m(cls, start, end, periods, freq, tz, normalize, ambiguous, nonexistent, inclusive, unit)\u001b[0m\n\u001b[0;32m    453\u001b[0m \u001b[38;5;28;01melse\u001b[39;00m:\n\u001b[0;32m    454\u001b[0m     xdr \u001b[38;5;241m=\u001b[39m _generate_range(\n\u001b[0;32m    455\u001b[0m         start\u001b[38;5;241m=\u001b[39mstart, end\u001b[38;5;241m=\u001b[39mend, periods\u001b[38;5;241m=\u001b[39mperiods, offset\u001b[38;5;241m=\u001b[39mfreq, unit\u001b[38;5;241m=\u001b[39munit\n\u001b[0;32m    456\u001b[0m     )\n\u001b[1;32m--> 457\u001b[0m     i8values \u001b[38;5;241m=\u001b[39m np\u001b[38;5;241m.\u001b[39marray([x\u001b[38;5;241m.\u001b[39m_value \u001b[38;5;28;01mfor\u001b[39;00m x \u001b[38;5;129;01min\u001b[39;00m xdr], dtype\u001b[38;5;241m=\u001b[39mnp\u001b[38;5;241m.\u001b[39mint64)\n\u001b[0;32m    459\u001b[0m endpoint_tz \u001b[38;5;241m=\u001b[39m start\u001b[38;5;241m.\u001b[39mtz \u001b[38;5;28;01mif\u001b[39;00m start \u001b[38;5;129;01mis\u001b[39;00m \u001b[38;5;129;01mnot\u001b[39;00m \u001b[38;5;28;01mNone\u001b[39;00m \u001b[38;5;28;01melse\u001b[39;00m end\u001b[38;5;241m.\u001b[39mtz\n\u001b[0;32m    461\u001b[0m \u001b[38;5;28;01mif\u001b[39;00m tz \u001b[38;5;129;01mis\u001b[39;00m \u001b[38;5;129;01mnot\u001b[39;00m \u001b[38;5;28;01mNone\u001b[39;00m \u001b[38;5;129;01mand\u001b[39;00m endpoint_tz \u001b[38;5;129;01mis\u001b[39;00m \u001b[38;5;28;01mNone\u001b[39;00m:\n",
      "File \u001b[1;32m~\\anaconda3\\lib\\site-packages\\pandas\\core\\arrays\\datetimes.py:457\u001b[0m, in \u001b[0;36m<listcomp>\u001b[1;34m(.0)\u001b[0m\n\u001b[0;32m    453\u001b[0m \u001b[38;5;28;01melse\u001b[39;00m:\n\u001b[0;32m    454\u001b[0m     xdr \u001b[38;5;241m=\u001b[39m _generate_range(\n\u001b[0;32m    455\u001b[0m         start\u001b[38;5;241m=\u001b[39mstart, end\u001b[38;5;241m=\u001b[39mend, periods\u001b[38;5;241m=\u001b[39mperiods, offset\u001b[38;5;241m=\u001b[39mfreq, unit\u001b[38;5;241m=\u001b[39munit\n\u001b[0;32m    456\u001b[0m     )\n\u001b[1;32m--> 457\u001b[0m     i8values \u001b[38;5;241m=\u001b[39m np\u001b[38;5;241m.\u001b[39marray([x\u001b[38;5;241m.\u001b[39m_value \u001b[38;5;28;01mfor\u001b[39;00m x \u001b[38;5;129;01min\u001b[39;00m xdr], dtype\u001b[38;5;241m=\u001b[39mnp\u001b[38;5;241m.\u001b[39mint64)\n\u001b[0;32m    459\u001b[0m endpoint_tz \u001b[38;5;241m=\u001b[39m start\u001b[38;5;241m.\u001b[39mtz \u001b[38;5;28;01mif\u001b[39;00m start \u001b[38;5;129;01mis\u001b[39;00m \u001b[38;5;129;01mnot\u001b[39;00m \u001b[38;5;28;01mNone\u001b[39;00m \u001b[38;5;28;01melse\u001b[39;00m end\u001b[38;5;241m.\u001b[39mtz\n\u001b[0;32m    461\u001b[0m \u001b[38;5;28;01mif\u001b[39;00m tz \u001b[38;5;129;01mis\u001b[39;00m \u001b[38;5;129;01mnot\u001b[39;00m \u001b[38;5;28;01mNone\u001b[39;00m \u001b[38;5;129;01mand\u001b[39;00m endpoint_tz \u001b[38;5;129;01mis\u001b[39;00m \u001b[38;5;28;01mNone\u001b[39;00m:\n",
      "File \u001b[1;32m~\\anaconda3\\lib\\site-packages\\pandas\\core\\arrays\\datetimes.py:2715\u001b[0m, in \u001b[0;36m_generate_range\u001b[1;34m(start, end, periods, offset, unit)\u001b[0m\n\u001b[0;32m   2710\u001b[0m     end \u001b[38;5;241m=\u001b[39m \u001b[38;5;28;01mNone\u001b[39;00m\n\u001b[0;32m   2712\u001b[0m \u001b[38;5;28;01mif\u001b[39;00m start \u001b[38;5;129;01mand\u001b[39;00m \u001b[38;5;129;01mnot\u001b[39;00m offset\u001b[38;5;241m.\u001b[39mis_on_offset(start):\n\u001b[0;32m   2713\u001b[0m     \u001b[38;5;66;03m# Incompatible types in assignment (expression has type \"datetime\",\u001b[39;00m\n\u001b[0;32m   2714\u001b[0m     \u001b[38;5;66;03m# variable has type \"Optional[Timestamp]\")\u001b[39;00m\n\u001b[1;32m-> 2715\u001b[0m     start \u001b[38;5;241m=\u001b[39m \u001b[43moffset\u001b[49m\u001b[38;5;241;43m.\u001b[39;49m\u001b[43mrollforward\u001b[49m\u001b[43m(\u001b[49m\u001b[43mstart\u001b[49m\u001b[43m)\u001b[49m  \u001b[38;5;66;03m# type: ignore[assignment]\u001b[39;00m\n\u001b[0;32m   2717\u001b[0m \u001b[38;5;28;01melif\u001b[39;00m end \u001b[38;5;129;01mand\u001b[39;00m \u001b[38;5;129;01mnot\u001b[39;00m offset\u001b[38;5;241m.\u001b[39mis_on_offset(end):\n\u001b[0;32m   2718\u001b[0m     \u001b[38;5;66;03m# Incompatible types in assignment (expression has type \"datetime\",\u001b[39;00m\n\u001b[0;32m   2719\u001b[0m     \u001b[38;5;66;03m# variable has type \"Optional[Timestamp]\")\u001b[39;00m\n\u001b[0;32m   2720\u001b[0m     end \u001b[38;5;241m=\u001b[39m offset\u001b[38;5;241m.\u001b[39mrollback(end)  \u001b[38;5;66;03m# type: ignore[assignment]\u001b[39;00m\n",
      "File \u001b[1;32moffsets.pyx:688\u001b[0m, in \u001b[0;36mpandas._libs.tslibs.offsets.BaseOffset.rollforward\u001b[1;34m()\u001b[0m\n",
      "File \u001b[1;32moffsets.pyx:485\u001b[0m, in \u001b[0;36mpandas._libs.tslibs.offsets.BaseOffset.__add__\u001b[1;34m()\u001b[0m\n",
      "File \u001b[1;32moffsets.pyx:491\u001b[0m, in \u001b[0;36mpandas._libs.tslibs.offsets.BaseOffset.__add__\u001b[1;34m()\u001b[0m\n",
      "File \u001b[1;32moffsets.pyx:164\u001b[0m, in \u001b[0;36mpandas._libs.tslibs.offsets.apply_wraps.wrapper\u001b[1;34m()\u001b[0m\n",
      "File \u001b[1;32moffsets.pyx:2588\u001b[0m, in \u001b[0;36mpandas._libs.tslibs.offsets.QuarterOffset._apply\u001b[1;34m()\u001b[0m\n",
      "File \u001b[1;32moffsets.pyx:4821\u001b[0m, in \u001b[0;36mpandas._libs.tslibs.offsets.shift_month\u001b[1;34m()\u001b[0m\n",
      "File \u001b[1;32mtimestamps.pyx:2512\u001b[0m, in \u001b[0;36mpandas._libs.tslibs.timestamps.Timestamp.replace\u001b[1;34m()\u001b[0m\n",
      "File \u001b[1;32mnp_datetime.pyx:231\u001b[0m, in \u001b[0;36mpandas._libs.tslibs.np_datetime.check_dts_bounds\u001b[1;34m()\u001b[0m\n",
      "\u001b[1;31mOutOfBoundsDatetime\u001b[0m: Out of bounds nanosecond timestamp: 2262-06-30 00:00:00"
     ]
    }
   ],
   "source": [
    "pd.date_range(\"2262-04-11\", periods = size, freq = \"Q\")"
   ]
  },
  {
   "cell_type": "code",
   "execution_count": 51,
   "id": "78934cc6",
   "metadata": {},
   "outputs": [
    {
     "data": {
      "text/plain": [
       "PeriodIndex(['2022Q1', '2022Q2', '2022Q3', '2022Q4', '2023Q1', '2023Q2',\n",
       "             '2023Q3', '2023Q4', '2024Q1', '2024Q2'],\n",
       "            dtype='period[Q-DEC]')"
      ]
     },
     "execution_count": 51,
     "metadata": {},
     "output_type": "execute_result"
    }
   ],
   "source": [
    "pd.period_range(\"2022/1/1\", periods = 10, freq = \"Q\")"
   ]
  },
  {
   "cell_type": "code",
   "execution_count": 52,
   "id": "fd03f09a",
   "metadata": {},
   "outputs": [
    {
     "data": {
      "text/plain": [
       "PeriodIndex(['2262Q2', '2262Q3', '2262Q4', '2263Q1', '2263Q2', '2263Q3',\n",
       "             '2263Q4', '2264Q1', '2264Q2', '2264Q3'],\n",
       "            dtype='period[Q-DEC]')"
      ]
     },
     "execution_count": 52,
     "metadata": {},
     "output_type": "execute_result"
    }
   ],
   "source": [
    "pd.period_range(\"2262-04-11\", periods = 10, freq = \"Q\")"
   ]
  },
  {
   "cell_type": "code",
   "execution_count": 57,
   "id": "84e61047",
   "metadata": {},
   "outputs": [
    {
     "data": {
      "text/plain": [
       "2022-01-01      9\n",
       "2022-01-02    100\n",
       "2022-01-03     15\n",
       "2022-01-04     64\n",
       "2022-01-05     28\n",
       "2022-01-06     89\n",
       "2022-01-07     93\n",
       "2022-01-08     29\n",
       "2022-01-09      8\n",
       "2022-01-10     73\n",
       "Freq: D, dtype: int32"
      ]
     },
     "execution_count": 57,
     "metadata": {},
     "output_type": "execute_result"
    }
   ],
   "source": [
    "import pandas as pd\n",
    "import numpy as np\n",
    "\n",
    "size = 10\n",
    "np.random.seed(10)\n",
    "datelist = pd.date_range(\"2022/1/1\", periods = size, freq = \"D\")\n",
    "s = pd.Series(np.random.randint(101,size = size), index = datelist)\n",
    "s"
   ]
  },
  {
   "cell_type": "code",
   "execution_count": 59,
   "id": "b0c54984",
   "metadata": {},
   "outputs": [
    {
     "data": {
      "text/plain": [
       "2022-01-02    100\n",
       "2022-01-03     15\n",
       "2022-01-04     64\n",
       "2022-01-05     28\n",
       "2022-01-06     89\n",
       "2022-01-07     93\n",
       "Freq: D, dtype: int32"
      ]
     },
     "execution_count": 59,
     "metadata": {},
     "output_type": "execute_result"
    }
   ],
   "source": [
    "s[\"2022-01-02\":\"2022-01-07\"]"
   ]
  },
  {
   "cell_type": "code",
   "execution_count": 62,
   "id": "85845b55",
   "metadata": {},
   "outputs": [
    {
     "data": {
      "text/plain": [
       "2022-03-31    15\n",
       "2022-04-30    64\n",
       "2022-05-31    28\n",
       "2022-06-30    89\n",
       "Freq: M, dtype: int32"
      ]
     },
     "execution_count": 62,
     "metadata": {},
     "output_type": "execute_result"
    }
   ],
   "source": [
    "import pandas as pd\n",
    "import numpy as np\n",
    "\n",
    "size = 10\n",
    "np.random.seed(10)\n",
    "datelist = pd.date_range(\"2022/1/1\", periods = size, freq = \"M\")\n",
    "s = pd.Series(np.random.randint(101,size = size), index = datelist)\n",
    "s[\"2022-03\":\"2022-06\"]"
   ]
  },
  {
   "cell_type": "code",
   "execution_count": 63,
   "id": "e41c45f8",
   "metadata": {},
   "outputs": [
    {
     "data": {
      "text/plain": [
       "2025-12-31    64\n",
       "2026-12-31    28\n",
       "2027-12-31    89\n",
       "2028-12-31    93\n",
       "2029-12-31    29\n",
       "2030-12-31     8\n",
       "Freq: A-DEC, dtype: int32"
      ]
     },
     "execution_count": 63,
     "metadata": {},
     "output_type": "execute_result"
    }
   ],
   "source": [
    "import pandas as pd\n",
    "import numpy as np\n",
    "\n",
    "size = 10\n",
    "np.random.seed(10)\n",
    "datelist = pd.date_range(\"2022/1/1\", periods = size, freq = \"Y\")\n",
    "s = pd.Series(np.random.randint(101,size = size), index = datelist)\n",
    "s[\"2025\":\"2030\"]"
   ]
  },
  {
   "cell_type": "code",
   "execution_count": 104,
   "id": "3fec9b97",
   "metadata": {},
   "outputs": [
    {
     "data": {
      "text/html": [
       "<div>\n",
       "<style scoped>\n",
       "    .dataframe tbody tr th:only-of-type {\n",
       "        vertical-align: middle;\n",
       "    }\n",
       "\n",
       "    .dataframe tbody tr th {\n",
       "        vertical-align: top;\n",
       "    }\n",
       "\n",
       "    .dataframe thead th {\n",
       "        text-align: right;\n",
       "    }\n",
       "</style>\n",
       "<table border=\"1\" class=\"dataframe\">\n",
       "  <thead>\n",
       "    <tr style=\"text-align: right;\">\n",
       "      <th></th>\n",
       "      <th>Date</th>\n",
       "      <th>Close Price</th>\n",
       "      <th>High Price</th>\n",
       "      <th>Low Price</th>\n",
       "      <th>Open Price</th>\n",
       "      <th>Volume</th>\n",
       "    </tr>\n",
       "  </thead>\n",
       "  <tbody>\n",
       "    <tr>\n",
       "      <th>0</th>\n",
       "      <td>2021-12-10 05AM</td>\n",
       "      <td>48246.57</td>\n",
       "      <td>48359.35</td>\n",
       "      <td>48051.08</td>\n",
       "      <td>48170.66</td>\n",
       "      <td>827.39761</td>\n",
       "    </tr>\n",
       "    <tr>\n",
       "      <th>1</th>\n",
       "      <td>2021-12-10 06AM</td>\n",
       "      <td>47847.59</td>\n",
       "      <td>48430.00</td>\n",
       "      <td>47810.81</td>\n",
       "      <td>48249.78</td>\n",
       "      <td>1296.18883</td>\n",
       "    </tr>\n",
       "    <tr>\n",
       "      <th>2</th>\n",
       "      <td>2021-12-10 07AM</td>\n",
       "      <td>47694.62</td>\n",
       "      <td>48037.48</td>\n",
       "      <td>47550.00</td>\n",
       "      <td>47847.59</td>\n",
       "      <td>2299.85298</td>\n",
       "    </tr>\n",
       "    <tr>\n",
       "      <th>3</th>\n",
       "      <td>2021-12-10 08AM</td>\n",
       "      <td>48090.35</td>\n",
       "      <td>48169.06</td>\n",
       "      <td>47587.39</td>\n",
       "      <td>47694.62</td>\n",
       "      <td>1371.25447</td>\n",
       "    </tr>\n",
       "    <tr>\n",
       "      <th>4</th>\n",
       "      <td>2021-12-10 09AM</td>\n",
       "      <td>48366.37</td>\n",
       "      <td>48495.00</td>\n",
       "      <td>47869.80</td>\n",
       "      <td>48090.35</td>\n",
       "      <td>1232.30238</td>\n",
       "    </tr>\n",
       "    <tr>\n",
       "      <th>...</th>\n",
       "      <td>...</td>\n",
       "      <td>...</td>\n",
       "      <td>...</td>\n",
       "      <td>...</td>\n",
       "      <td>...</td>\n",
       "      <td>...</td>\n",
       "    </tr>\n",
       "    <tr>\n",
       "      <th>332</th>\n",
       "      <td>2021-12-24 01AM</td>\n",
       "      <td>51350.01</td>\n",
       "      <td>51375.00</td>\n",
       "      <td>50843.12</td>\n",
       "      <td>50877.38</td>\n",
       "      <td>3037.17958</td>\n",
       "    </tr>\n",
       "    <tr>\n",
       "      <th>333</th>\n",
       "      <td>2021-12-24 02AM</td>\n",
       "      <td>51044.02</td>\n",
       "      <td>51527.58</td>\n",
       "      <td>51015.55</td>\n",
       "      <td>51350.01</td>\n",
       "      <td>2286.33021</td>\n",
       "    </tr>\n",
       "    <tr>\n",
       "      <th>334</th>\n",
       "      <td>2021-12-24 03AM</td>\n",
       "      <td>51029.99</td>\n",
       "      <td>51167.46</td>\n",
       "      <td>50851.02</td>\n",
       "      <td>51044.02</td>\n",
       "      <td>1260.66778</td>\n",
       "    </tr>\n",
       "    <tr>\n",
       "      <th>335</th>\n",
       "      <td>2021-12-24 04AM</td>\n",
       "      <td>50951.47</td>\n",
       "      <td>51109.09</td>\n",
       "      <td>50926.55</td>\n",
       "      <td>51030.00</td>\n",
       "      <td>560.59259</td>\n",
       "    </tr>\n",
       "    <tr>\n",
       "      <th>336</th>\n",
       "      <td>2021-12-24 05AM</td>\n",
       "      <td>51012.73</td>\n",
       "      <td>51026.34</td>\n",
       "      <td>50828.99</td>\n",
       "      <td>50951.41</td>\n",
       "      <td>765.92466</td>\n",
       "    </tr>\n",
       "  </tbody>\n",
       "</table>\n",
       "<p>337 rows × 6 columns</p>\n",
       "</div>"
      ],
      "text/plain": [
       "                Date  Close Price  High Price  Low Price  Open Price  \\\n",
       "0    2021-12-10 05AM     48246.57    48359.35   48051.08    48170.66   \n",
       "1    2021-12-10 06AM     47847.59    48430.00   47810.81    48249.78   \n",
       "2    2021-12-10 07AM     47694.62    48037.48   47550.00    47847.59   \n",
       "3    2021-12-10 08AM     48090.35    48169.06   47587.39    47694.62   \n",
       "4    2021-12-10 09AM     48366.37    48495.00   47869.80    48090.35   \n",
       "..               ...          ...         ...        ...         ...   \n",
       "332  2021-12-24 01AM     51350.01    51375.00   50843.12    50877.38   \n",
       "333  2021-12-24 02AM     51044.02    51527.58   51015.55    51350.01   \n",
       "334  2021-12-24 03AM     51029.99    51167.46   50851.02    51044.02   \n",
       "335  2021-12-24 04AM     50951.47    51109.09   50926.55    51030.00   \n",
       "336  2021-12-24 05AM     51012.73    51026.34   50828.99    50951.41   \n",
       "\n",
       "         Volume  \n",
       "0     827.39761  \n",
       "1    1296.18883  \n",
       "2    2299.85298  \n",
       "3    1371.25447  \n",
       "4    1232.30238  \n",
       "..          ...  \n",
       "332  3037.17958  \n",
       "333  2286.33021  \n",
       "334  1260.66778  \n",
       "335   560.59259  \n",
       "336   765.92466  \n",
       "\n",
       "[337 rows x 6 columns]"
      ]
     },
     "execution_count": 104,
     "metadata": {},
     "output_type": "execute_result"
    }
   ],
   "source": [
    "import pandas as pd\n",
    "\n",
    "df = pd.read_csv(\"time_data.csv\")\n",
    "df"
   ]
  },
  {
   "cell_type": "code",
   "execution_count": 66,
   "id": "3dd985bc",
   "metadata": {},
   "outputs": [
    {
     "name": "stdout",
     "output_type": "stream",
     "text": [
      "<class 'pandas.core.frame.DataFrame'>\n",
      "RangeIndex: 337 entries, 0 to 336\n",
      "Data columns (total 6 columns):\n",
      " #   Column       Non-Null Count  Dtype  \n",
      "---  ------       --------------  -----  \n",
      " 0   Date         337 non-null    object \n",
      " 1   Close Price  337 non-null    float64\n",
      " 2   High Price   337 non-null    float64\n",
      " 3   Low Price    337 non-null    float64\n",
      " 4   Open Price   337 non-null    float64\n",
      " 5   Volume       337 non-null    float64\n",
      "dtypes: float64(5), object(1)\n",
      "memory usage: 15.9+ KB\n"
     ]
    }
   ],
   "source": [
    "df.info()"
   ]
  },
  {
   "cell_type": "code",
   "execution_count": 105,
   "id": "d6841cbf",
   "metadata": {},
   "outputs": [
    {
     "data": {
      "text/html": [
       "<div>\n",
       "<style scoped>\n",
       "    .dataframe tbody tr th:only-of-type {\n",
       "        vertical-align: middle;\n",
       "    }\n",
       "\n",
       "    .dataframe tbody tr th {\n",
       "        vertical-align: top;\n",
       "    }\n",
       "\n",
       "    .dataframe thead th {\n",
       "        text-align: right;\n",
       "    }\n",
       "</style>\n",
       "<table border=\"1\" class=\"dataframe\">\n",
       "  <thead>\n",
       "    <tr style=\"text-align: right;\">\n",
       "      <th></th>\n",
       "      <th>Date</th>\n",
       "      <th>Close Price</th>\n",
       "      <th>High Price</th>\n",
       "      <th>Low Price</th>\n",
       "      <th>Open Price</th>\n",
       "      <th>Volume</th>\n",
       "    </tr>\n",
       "  </thead>\n",
       "  <tbody>\n",
       "    <tr>\n",
       "      <th>0</th>\n",
       "      <td>2021-12-10 05:00:00</td>\n",
       "      <td>48246.57</td>\n",
       "      <td>48359.35</td>\n",
       "      <td>48051.08</td>\n",
       "      <td>48170.66</td>\n",
       "      <td>827.39761</td>\n",
       "    </tr>\n",
       "    <tr>\n",
       "      <th>1</th>\n",
       "      <td>2021-12-10 06:00:00</td>\n",
       "      <td>47847.59</td>\n",
       "      <td>48430.00</td>\n",
       "      <td>47810.81</td>\n",
       "      <td>48249.78</td>\n",
       "      <td>1296.18883</td>\n",
       "    </tr>\n",
       "    <tr>\n",
       "      <th>2</th>\n",
       "      <td>2021-12-10 07:00:00</td>\n",
       "      <td>47694.62</td>\n",
       "      <td>48037.48</td>\n",
       "      <td>47550.00</td>\n",
       "      <td>47847.59</td>\n",
       "      <td>2299.85298</td>\n",
       "    </tr>\n",
       "    <tr>\n",
       "      <th>3</th>\n",
       "      <td>2021-12-10 08:00:00</td>\n",
       "      <td>48090.35</td>\n",
       "      <td>48169.06</td>\n",
       "      <td>47587.39</td>\n",
       "      <td>47694.62</td>\n",
       "      <td>1371.25447</td>\n",
       "    </tr>\n",
       "    <tr>\n",
       "      <th>4</th>\n",
       "      <td>2021-12-10 09:00:00</td>\n",
       "      <td>48366.37</td>\n",
       "      <td>48495.00</td>\n",
       "      <td>47869.80</td>\n",
       "      <td>48090.35</td>\n",
       "      <td>1232.30238</td>\n",
       "    </tr>\n",
       "    <tr>\n",
       "      <th>...</th>\n",
       "      <td>...</td>\n",
       "      <td>...</td>\n",
       "      <td>...</td>\n",
       "      <td>...</td>\n",
       "      <td>...</td>\n",
       "      <td>...</td>\n",
       "    </tr>\n",
       "    <tr>\n",
       "      <th>332</th>\n",
       "      <td>2021-12-24 01:00:00</td>\n",
       "      <td>51350.01</td>\n",
       "      <td>51375.00</td>\n",
       "      <td>50843.12</td>\n",
       "      <td>50877.38</td>\n",
       "      <td>3037.17958</td>\n",
       "    </tr>\n",
       "    <tr>\n",
       "      <th>333</th>\n",
       "      <td>2021-12-24 02:00:00</td>\n",
       "      <td>51044.02</td>\n",
       "      <td>51527.58</td>\n",
       "      <td>51015.55</td>\n",
       "      <td>51350.01</td>\n",
       "      <td>2286.33021</td>\n",
       "    </tr>\n",
       "    <tr>\n",
       "      <th>334</th>\n",
       "      <td>2021-12-24 03:00:00</td>\n",
       "      <td>51029.99</td>\n",
       "      <td>51167.46</td>\n",
       "      <td>50851.02</td>\n",
       "      <td>51044.02</td>\n",
       "      <td>1260.66778</td>\n",
       "    </tr>\n",
       "    <tr>\n",
       "      <th>335</th>\n",
       "      <td>2021-12-24 04:00:00</td>\n",
       "      <td>50951.47</td>\n",
       "      <td>51109.09</td>\n",
       "      <td>50926.55</td>\n",
       "      <td>51030.00</td>\n",
       "      <td>560.59259</td>\n",
       "    </tr>\n",
       "    <tr>\n",
       "      <th>336</th>\n",
       "      <td>2021-12-24 05:00:00</td>\n",
       "      <td>51012.73</td>\n",
       "      <td>51026.34</td>\n",
       "      <td>50828.99</td>\n",
       "      <td>50951.41</td>\n",
       "      <td>765.92466</td>\n",
       "    </tr>\n",
       "  </tbody>\n",
       "</table>\n",
       "<p>337 rows × 6 columns</p>\n",
       "</div>"
      ],
      "text/plain": [
       "                   Date  Close Price  High Price  Low Price  Open Price  \\\n",
       "0   2021-12-10 05:00:00     48246.57    48359.35   48051.08    48170.66   \n",
       "1   2021-12-10 06:00:00     47847.59    48430.00   47810.81    48249.78   \n",
       "2   2021-12-10 07:00:00     47694.62    48037.48   47550.00    47847.59   \n",
       "3   2021-12-10 08:00:00     48090.35    48169.06   47587.39    47694.62   \n",
       "4   2021-12-10 09:00:00     48366.37    48495.00   47869.80    48090.35   \n",
       "..                  ...          ...         ...        ...         ...   \n",
       "332 2021-12-24 01:00:00     51350.01    51375.00   50843.12    50877.38   \n",
       "333 2021-12-24 02:00:00     51044.02    51527.58   51015.55    51350.01   \n",
       "334 2021-12-24 03:00:00     51029.99    51167.46   50851.02    51044.02   \n",
       "335 2021-12-24 04:00:00     50951.47    51109.09   50926.55    51030.00   \n",
       "336 2021-12-24 05:00:00     51012.73    51026.34   50828.99    50951.41   \n",
       "\n",
       "         Volume  \n",
       "0     827.39761  \n",
       "1    1296.18883  \n",
       "2    2299.85298  \n",
       "3    1371.25447  \n",
       "4    1232.30238  \n",
       "..          ...  \n",
       "332  3037.17958  \n",
       "333  2286.33021  \n",
       "334  1260.66778  \n",
       "335   560.59259  \n",
       "336   765.92466  \n",
       "\n",
       "[337 rows x 6 columns]"
      ]
     },
     "execution_count": 105,
     "metadata": {},
     "output_type": "execute_result"
    }
   ],
   "source": [
    "import datetime as dt\n",
    "df[\"Date\"] = df[\"Date\"].apply(lambda x: dt.datetime.strptime(x, \"%Y-%m-%d %H%p\"))\n",
    "df"
   ]
  },
  {
   "cell_type": "code",
   "execution_count": 69,
   "id": "5d78fab2",
   "metadata": {},
   "outputs": [
    {
     "name": "stdout",
     "output_type": "stream",
     "text": [
      "<class 'pandas.core.frame.DataFrame'>\n",
      "RangeIndex: 337 entries, 0 to 336\n",
      "Data columns (total 6 columns):\n",
      " #   Column       Non-Null Count  Dtype         \n",
      "---  ------       --------------  -----         \n",
      " 0   Date         337 non-null    datetime64[ns]\n",
      " 1   Close Price  337 non-null    float64       \n",
      " 2   High Price   337 non-null    float64       \n",
      " 3   Low Price    337 non-null    float64       \n",
      " 4   Open Price   337 non-null    float64       \n",
      " 5   Volume       337 non-null    float64       \n",
      "dtypes: datetime64[ns](1), float64(5)\n",
      "memory usage: 15.9 KB\n"
     ]
    }
   ],
   "source": [
    "df.info()"
   ]
  },
  {
   "cell_type": "code",
   "execution_count": 79,
   "id": "aaa2c78f",
   "metadata": {},
   "outputs": [
    {
     "data": {
      "text/plain": [
       "Date\n",
       "2021-12-10 04:00:00     827.39761\n",
       "2021-12-10 06:00:00    3596.04181\n",
       "2021-12-10 08:00:00    2603.55685\n",
       "2021-12-10 10:00:00    2775.02096\n",
       "2021-12-10 12:00:00    6016.20315\n",
       "                          ...    \n",
       "2021-12-23 20:00:00    3116.01720\n",
       "2021-12-23 22:00:00    1907.10467\n",
       "2021-12-24 00:00:00    4295.75029\n",
       "2021-12-24 02:00:00    3546.99799\n",
       "2021-12-24 04:00:00    1326.51725\n",
       "Freq: 2H, Name: Volume, Length: 169, dtype: float64"
      ]
     },
     "execution_count": 79,
     "metadata": {},
     "output_type": "execute_result"
    }
   ],
   "source": [
    "period = \"2H\"\n",
    "df.set_index(\"Date\").resample(period)[\"Volume\"].sum()"
   ]
  },
  {
   "cell_type": "code",
   "execution_count": 85,
   "id": "9b39ef49",
   "metadata": {},
   "outputs": [
    {
     "data": {
      "text/html": [
       "<div>\n",
       "<style scoped>\n",
       "    .dataframe tbody tr th:only-of-type {\n",
       "        vertical-align: middle;\n",
       "    }\n",
       "\n",
       "    .dataframe tbody tr th {\n",
       "        vertical-align: top;\n",
       "    }\n",
       "\n",
       "    .dataframe thead th {\n",
       "        text-align: right;\n",
       "    }\n",
       "</style>\n",
       "<table border=\"1\" class=\"dataframe\">\n",
       "  <thead>\n",
       "    <tr style=\"text-align: right;\">\n",
       "      <th></th>\n",
       "      <th>open</th>\n",
       "      <th>heigh</th>\n",
       "      <th>low</th>\n",
       "      <th>close</th>\n",
       "      <th>Volume</th>\n",
       "    </tr>\n",
       "    <tr>\n",
       "      <th>Date</th>\n",
       "      <th></th>\n",
       "      <th></th>\n",
       "      <th></th>\n",
       "      <th></th>\n",
       "      <th></th>\n",
       "    </tr>\n",
       "  </thead>\n",
       "  <tbody>\n",
       "    <tr>\n",
       "      <th>2021-12-10</th>\n",
       "      <td>48170.66</td>\n",
       "      <td>50125.00</td>\n",
       "      <td>46852.00</td>\n",
       "      <td>47140.54</td>\n",
       "      <td>37030.49192</td>\n",
       "    </tr>\n",
       "    <tr>\n",
       "      <th>2021-12-11</th>\n",
       "      <td>47140.54</td>\n",
       "      <td>49485.71</td>\n",
       "      <td>46751.00</td>\n",
       "      <td>49389.99</td>\n",
       "      <td>28889.19358</td>\n",
       "    </tr>\n",
       "    <tr>\n",
       "      <th>2021-12-12</th>\n",
       "      <td>49389.99</td>\n",
       "      <td>50777.00</td>\n",
       "      <td>48638.00</td>\n",
       "      <td>50053.90</td>\n",
       "      <td>26017.93421</td>\n",
       "    </tr>\n",
       "    <tr>\n",
       "      <th>2021-12-13</th>\n",
       "      <td>50053.90</td>\n",
       "      <td>50189.97</td>\n",
       "      <td>45672.75</td>\n",
       "      <td>46702.75</td>\n",
       "      <td>50869.52093</td>\n",
       "    </tr>\n",
       "    <tr>\n",
       "      <th>2021-12-14</th>\n",
       "      <td>46702.76</td>\n",
       "      <td>48700.41</td>\n",
       "      <td>46290.00</td>\n",
       "      <td>48343.28</td>\n",
       "      <td>39955.98445</td>\n",
       "    </tr>\n",
       "    <tr>\n",
       "      <th>2021-12-15</th>\n",
       "      <td>48336.95</td>\n",
       "      <td>49500.00</td>\n",
       "      <td>46547.00</td>\n",
       "      <td>48864.98</td>\n",
       "      <td>51629.18100</td>\n",
       "    </tr>\n",
       "    <tr>\n",
       "      <th>2021-12-16</th>\n",
       "      <td>48864.98</td>\n",
       "      <td>49436.43</td>\n",
       "      <td>47511.00</td>\n",
       "      <td>47632.38</td>\n",
       "      <td>31949.86739</td>\n",
       "    </tr>\n",
       "    <tr>\n",
       "      <th>2021-12-17</th>\n",
       "      <td>47632.38</td>\n",
       "      <td>47995.96</td>\n",
       "      <td>45456.00</td>\n",
       "      <td>46131.20</td>\n",
       "      <td>43104.48870</td>\n",
       "    </tr>\n",
       "    <tr>\n",
       "      <th>2021-12-18</th>\n",
       "      <td>46133.83</td>\n",
       "      <td>47392.37</td>\n",
       "      <td>45500.00</td>\n",
       "      <td>46834.48</td>\n",
       "      <td>25020.05271</td>\n",
       "    </tr>\n",
       "    <tr>\n",
       "      <th>2021-12-19</th>\n",
       "      <td>46834.47</td>\n",
       "      <td>48300.01</td>\n",
       "      <td>46406.91</td>\n",
       "      <td>46681.23</td>\n",
       "      <td>29305.70665</td>\n",
       "    </tr>\n",
       "    <tr>\n",
       "      <th>2021-12-20</th>\n",
       "      <td>46681.24</td>\n",
       "      <td>47537.57</td>\n",
       "      <td>45558.85</td>\n",
       "      <td>46914.16</td>\n",
       "      <td>35848.50609</td>\n",
       "    </tr>\n",
       "    <tr>\n",
       "      <th>2021-12-21</th>\n",
       "      <td>46914.17</td>\n",
       "      <td>49328.96</td>\n",
       "      <td>46630.00</td>\n",
       "      <td>48889.88</td>\n",
       "      <td>37713.92924</td>\n",
       "    </tr>\n",
       "    <tr>\n",
       "      <th>2021-12-22</th>\n",
       "      <td>48887.59</td>\n",
       "      <td>49576.13</td>\n",
       "      <td>48421.87</td>\n",
       "      <td>48588.16</td>\n",
       "      <td>27004.20220</td>\n",
       "    </tr>\n",
       "    <tr>\n",
       "      <th>2021-12-23</th>\n",
       "      <td>48588.17</td>\n",
       "      <td>51375.00</td>\n",
       "      <td>47920.42</td>\n",
       "      <td>50838.81</td>\n",
       "      <td>35192.54046</td>\n",
       "    </tr>\n",
       "    <tr>\n",
       "      <th>2021-12-24</th>\n",
       "      <td>50838.82</td>\n",
       "      <td>51527.58</td>\n",
       "      <td>50644.48</td>\n",
       "      <td>51012.73</td>\n",
       "      <td>9169.26553</td>\n",
       "    </tr>\n",
       "  </tbody>\n",
       "</table>\n",
       "</div>"
      ],
      "text/plain": [
       "                open     heigh       low     close       Volume\n",
       "Date                                                           \n",
       "2021-12-10  48170.66  50125.00  46852.00  47140.54  37030.49192\n",
       "2021-12-11  47140.54  49485.71  46751.00  49389.99  28889.19358\n",
       "2021-12-12  49389.99  50777.00  48638.00  50053.90  26017.93421\n",
       "2021-12-13  50053.90  50189.97  45672.75  46702.75  50869.52093\n",
       "2021-12-14  46702.76  48700.41  46290.00  48343.28  39955.98445\n",
       "2021-12-15  48336.95  49500.00  46547.00  48864.98  51629.18100\n",
       "2021-12-16  48864.98  49436.43  47511.00  47632.38  31949.86739\n",
       "2021-12-17  47632.38  47995.96  45456.00  46131.20  43104.48870\n",
       "2021-12-18  46133.83  47392.37  45500.00  46834.48  25020.05271\n",
       "2021-12-19  46834.47  48300.01  46406.91  46681.23  29305.70665\n",
       "2021-12-20  46681.24  47537.57  45558.85  46914.16  35848.50609\n",
       "2021-12-21  46914.17  49328.96  46630.00  48889.88  37713.92924\n",
       "2021-12-22  48887.59  49576.13  48421.87  48588.16  27004.20220\n",
       "2021-12-23  48588.17  51375.00  47920.42  50838.81  35192.54046\n",
       "2021-12-24  50838.82  51527.58  50644.48  51012.73   9169.26553"
      ]
     },
     "execution_count": 85,
     "metadata": {},
     "output_type": "execute_result"
    }
   ],
   "source": [
    "#資料時間週期轉換\n",
    "period = \"D\"\n",
    "df1 = pd.DataFrame({\n",
    "    \"open\":df.set_index(\"Date\").resample(period)[\"Open Price\"].first(),\n",
    "    \"heigh\":df.set_index(\"Date\").resample(period)[\"High Price\"].max(),\n",
    "    \"low\":df.set_index(\"Date\").resample(period)[\"Low Price\"].min(),\n",
    "    \"close\":df.set_index(\"Date\").resample(period)[\"Close Price\"].last(),\n",
    "    \"Volume\":df.set_index(\"Date\").resample(period)[\"Volume\"].sum()\n",
    "})\n",
    "df1"
   ]
  },
  {
   "cell_type": "markdown",
   "id": "ca53d753",
   "metadata": {},
   "source": [
    "## 時間分三種格式\n",
    "```Python\n",
    "#結構化時間\n",
    "dt.datetime.today().year\n",
    "dt.datetime.today().month\n",
    "dt.datetime.today().day\n",
    "dt.datetime.today().hour\n",
    "dt.datetime.today().minute\n",
    "dt.datetime.today().second\n",
    "\n",
    "#時間戳記:\n",
    "從 1970/1/1 00:00:00 紀錄至今的所有秒數，長度10位\n",
    "        \n",
    "#格式化時間:時間轉成字串\n",
    "```"
   ]
  },
  {
   "cell_type": "code",
   "execution_count": 86,
   "id": "2d2aea46",
   "metadata": {
    "scrolled": true
   },
   "outputs": [
    {
     "data": {
      "text/plain": [
       "(datetime.datetime(2023, 11, 5, 14, 6, 18, 598781),\n",
       " datetime.datetime(2023, 11, 5, 14, 6, 18, 598781))"
      ]
     },
     "execution_count": 86,
     "metadata": {},
     "output_type": "execute_result"
    }
   ],
   "source": [
    "import datetime as dt\n",
    "\n",
    "dt.datetime.today(), dt.datetime.now()"
   ]
  },
  {
   "cell_type": "markdown",
   "id": "6d613323",
   "metadata": {},
   "source": [
    "### 結構化時間"
   ]
  },
  {
   "cell_type": "code",
   "execution_count": 89,
   "id": "1b41d637",
   "metadata": {},
   "outputs": [
    {
     "name": "stdout",
     "output_type": "stream",
     "text": [
      "Year: 2023\n",
      "month: 11\n",
      "day: 5\n",
      "hour: 14\n",
      "minute: 9\n",
      "second: 32\n"
     ]
    }
   ],
   "source": [
    "print(\"Year:\", dt.datetime.today().year)\n",
    "print(\"month:\", dt.datetime.today().month)\n",
    "print(\"day:\", dt.datetime.today().day)\n",
    "print(\"hour:\", dt.datetime.today().hour)\n",
    "print(\"minute:\", dt.datetime.today().minute)\n",
    "print(\"second:\", dt.datetime.today().second)"
   ]
  },
  {
   "cell_type": "code",
   "execution_count": 90,
   "id": "40ae00de",
   "metadata": {},
   "outputs": [
    {
     "name": "stdout",
     "output_type": "stream",
     "text": [
      "Year: 2023\n",
      "month: 11\n",
      "day: 5\n",
      "hour: 14\n",
      "minute: 9\n",
      "second: 33\n"
     ]
    }
   ],
   "source": [
    "print(\"Year:\", dt.datetime.now().year)\n",
    "print(\"month:\", dt.datetime.now().month)\n",
    "print(\"day:\", dt.datetime.now().day)\n",
    "print(\"hour:\", dt.datetime.now().hour)\n",
    "print(\"minute:\", dt.datetime.now().minute)\n",
    "print(\"second:\", dt.datetime.now().second)"
   ]
  },
  {
   "cell_type": "code",
   "execution_count": 92,
   "id": "d365a2d8",
   "metadata": {},
   "outputs": [
    {
     "data": {
      "text/plain": [
       "datetime.datetime(2022, 3, 1, 5, 30, 20)"
      ]
     },
     "execution_count": 92,
     "metadata": {},
     "output_type": "execute_result"
    }
   ],
   "source": [
    "dt.datetime(2022, 3, 1, 5, 30, 20) #2022/3/1 17:30:20"
   ]
  },
  {
   "cell_type": "markdown",
   "id": "a981ea1e",
   "metadata": {},
   "source": [
    "### 時間戳記"
   ]
  },
  {
   "cell_type": "code",
   "execution_count": 95,
   "id": "5c4e4849",
   "metadata": {},
   "outputs": [
    {
     "data": {
      "text/plain": [
       "1699165170.017923"
      ]
     },
     "execution_count": 95,
     "metadata": {},
     "output_type": "execute_result"
    }
   ],
   "source": [
    "dt.datetime.today().timestamp()"
   ]
  },
  {
   "cell_type": "code",
   "execution_count": 96,
   "id": "36c12ef6",
   "metadata": {},
   "outputs": [
    {
     "data": {
      "text/plain": [
       "1699165170"
      ]
     },
     "execution_count": 96,
     "metadata": {},
     "output_type": "execute_result"
    }
   ],
   "source": [
    "int(dt.datetime.today().timestamp())"
   ]
  },
  {
   "cell_type": "code",
   "execution_count": 100,
   "id": "58d18cf6",
   "metadata": {},
   "outputs": [
    {
     "data": {
      "text/plain": [
       "datetime.datetime(2023, 11, 5, 14, 21, 49, 51832)"
      ]
     },
     "execution_count": 100,
     "metadata": {},
     "output_type": "execute_result"
    }
   ],
   "source": [
    "#時間戳記轉換回時間\n",
    "timestamp = dt.datetime.today().timestamp()\n",
    "dt.datetime.fromtimestamp(timestamp)"
   ]
  },
  {
   "cell_type": "markdown",
   "id": "46dd07c1",
   "metadata": {},
   "source": [
    "### 格式化時間"
   ]
  },
  {
   "cell_type": "markdown",
   "id": "0684514f",
   "metadata": {},
   "source": [
    "#### 時間轉字串"
   ]
  },
  {
   "cell_type": "code",
   "execution_count": 101,
   "id": "40652b6e",
   "metadata": {},
   "outputs": [
    {
     "name": "stdout",
     "output_type": "stream",
     "text": [
      "2023-11-05\n",
      "2023-11-05\n"
     ]
    }
   ],
   "source": [
    "t = dt.datetime.today()\n",
    "print(t.strftime(\"%Y-%m-%d\"))\n",
    "print(dt.datetime.strftime(t, \"%Y-%m-%d\"))"
   ]
  },
  {
   "cell_type": "markdown",
   "id": "37bfa81f",
   "metadata": {},
   "source": [
    "#### 字串轉時間"
   ]
  },
  {
   "cell_type": "code",
   "execution_count": 103,
   "id": "b06738f3",
   "metadata": {},
   "outputs": [
    {
     "name": "stdout",
     "output_type": "stream",
     "text": [
      "2023-11-05 00:00:00\n"
     ]
    }
   ],
   "source": [
    "s = \"2023-11-05\"\n",
    "print(dt.datetime.strptime(s, \"%Y-%m-%d\"))"
   ]
  },
  {
   "cell_type": "code",
   "execution_count": 108,
   "id": "9981fc05",
   "metadata": {},
   "outputs": [
    {
     "data": {
      "text/html": [
       "<div>\n",
       "<style scoped>\n",
       "    .dataframe tbody tr th:only-of-type {\n",
       "        vertical-align: middle;\n",
       "    }\n",
       "\n",
       "    .dataframe tbody tr th {\n",
       "        vertical-align: top;\n",
       "    }\n",
       "\n",
       "    .dataframe thead th {\n",
       "        text-align: right;\n",
       "    }\n",
       "</style>\n",
       "<table border=\"1\" class=\"dataframe\">\n",
       "  <thead>\n",
       "    <tr style=\"text-align: right;\">\n",
       "      <th></th>\n",
       "      <th>0</th>\n",
       "      <th>1</th>\n",
       "      <th>2</th>\n",
       "    </tr>\n",
       "  </thead>\n",
       "  <tbody>\n",
       "    <tr>\n",
       "      <th>0</th>\n",
       "      <td>47</td>\n",
       "      <td>68</td>\n",
       "      <td>25</td>\n",
       "    </tr>\n",
       "    <tr>\n",
       "      <th>1</th>\n",
       "      <td>67</td>\n",
       "      <td>83</td>\n",
       "      <td>23</td>\n",
       "    </tr>\n",
       "    <tr>\n",
       "      <th>2</th>\n",
       "      <td>92</td>\n",
       "      <td>57</td>\n",
       "      <td>14</td>\n",
       "    </tr>\n",
       "    <tr>\n",
       "      <th>3</th>\n",
       "      <td>23</td>\n",
       "      <td>72</td>\n",
       "      <td>89</td>\n",
       "    </tr>\n",
       "  </tbody>\n",
       "</table>\n",
       "</div>"
      ],
      "text/plain": [
       "    0   1   2\n",
       "0  47  68  25\n",
       "1  67  83  23\n",
       "2  92  57  14\n",
       "3  23  72  89"
      ]
     },
     "execution_count": 108,
     "metadata": {},
     "output_type": "execute_result"
    }
   ],
   "source": [
    "import pandas as pd\n",
    "import numpy as np\n",
    "\n",
    "np.random.seed(7)\n",
    "df = pd.DataFrame(np.random.randint(101, size = (4, 3)))\n",
    "df"
   ]
  },
  {
   "cell_type": "code",
   "execution_count": 109,
   "id": "5856bf09",
   "metadata": {},
   "outputs": [
    {
     "data": {
      "text/plain": [
       "0    47\n",
       "1    68\n",
       "2    25\n",
       "3    67\n",
       "dtype: int32"
      ]
     },
     "execution_count": 109,
     "metadata": {},
     "output_type": "execute_result"
    }
   ],
   "source": [
    "import pandas as pd\n",
    "import numpy as np\n",
    "\n",
    "np.random.seed(7)\n",
    "s = pd.Series(np.random.randint(101, size = 4))\n",
    "s"
   ]
  },
  {
   "cell_type": "code",
   "execution_count": 110,
   "id": "fbfcef30",
   "metadata": {},
   "outputs": [
    {
     "data": {
      "text/plain": [
       "RangeIndex(start=0, stop=3, step=1)"
      ]
     },
     "execution_count": 110,
     "metadata": {},
     "output_type": "execute_result"
    }
   ],
   "source": [
    "df.columns"
   ]
  },
  {
   "cell_type": "code",
   "execution_count": 111,
   "id": "c58a7282",
   "metadata": {},
   "outputs": [
    {
     "data": {
      "text/plain": [
       "RangeIndex(start=0, stop=4, step=1)"
      ]
     },
     "execution_count": 111,
     "metadata": {},
     "output_type": "execute_result"
    }
   ],
   "source": [
    "df.index"
   ]
  },
  {
   "cell_type": "code",
   "execution_count": 112,
   "id": "d4ac6a07",
   "metadata": {},
   "outputs": [
    {
     "name": "stdout",
     "output_type": "stream",
     "text": [
      "<class 'pandas.core.frame.DataFrame'>\n",
      "RangeIndex: 4 entries, 0 to 3\n",
      "Data columns (total 3 columns):\n",
      " #   Column  Non-Null Count  Dtype\n",
      "---  ------  --------------  -----\n",
      " 0   0       4 non-null      int32\n",
      " 1   1       4 non-null      int32\n",
      " 2   2       4 non-null      int32\n",
      "dtypes: int32(3)\n",
      "memory usage: 176.0 bytes\n"
     ]
    }
   ],
   "source": [
    "df.info()"
   ]
  },
  {
   "cell_type": "code",
   "execution_count": 114,
   "id": "8eac0a13",
   "metadata": {},
   "outputs": [
    {
     "data": {
      "text/html": [
       "<div>\n",
       "<style scoped>\n",
       "    .dataframe tbody tr th:only-of-type {\n",
       "        vertical-align: middle;\n",
       "    }\n",
       "\n",
       "    .dataframe tbody tr th {\n",
       "        vertical-align: top;\n",
       "    }\n",
       "\n",
       "    .dataframe thead th {\n",
       "        text-align: right;\n",
       "    }\n",
       "</style>\n",
       "<table border=\"1\" class=\"dataframe\">\n",
       "  <thead>\n",
       "    <tr style=\"text-align: right;\">\n",
       "      <th></th>\n",
       "      <th>0</th>\n",
       "      <th>1</th>\n",
       "      <th>2</th>\n",
       "    </tr>\n",
       "  </thead>\n",
       "  <tbody>\n",
       "    <tr>\n",
       "      <th>count</th>\n",
       "      <td>4.000000</td>\n",
       "      <td>4.000000</td>\n",
       "      <td>4.00</td>\n",
       "    </tr>\n",
       "    <tr>\n",
       "      <th>mean</th>\n",
       "      <td>57.250000</td>\n",
       "      <td>70.000000</td>\n",
       "      <td>37.75</td>\n",
       "    </tr>\n",
       "    <tr>\n",
       "      <th>std</th>\n",
       "      <td>29.330019</td>\n",
       "      <td>10.739336</td>\n",
       "      <td>34.50</td>\n",
       "    </tr>\n",
       "    <tr>\n",
       "      <th>min</th>\n",
       "      <td>23.000000</td>\n",
       "      <td>57.000000</td>\n",
       "      <td>14.00</td>\n",
       "    </tr>\n",
       "    <tr>\n",
       "      <th>25%</th>\n",
       "      <td>41.000000</td>\n",
       "      <td>65.250000</td>\n",
       "      <td>20.75</td>\n",
       "    </tr>\n",
       "    <tr>\n",
       "      <th>50%</th>\n",
       "      <td>57.000000</td>\n",
       "      <td>70.000000</td>\n",
       "      <td>24.00</td>\n",
       "    </tr>\n",
       "    <tr>\n",
       "      <th>75%</th>\n",
       "      <td>73.250000</td>\n",
       "      <td>74.750000</td>\n",
       "      <td>41.00</td>\n",
       "    </tr>\n",
       "    <tr>\n",
       "      <th>max</th>\n",
       "      <td>92.000000</td>\n",
       "      <td>83.000000</td>\n",
       "      <td>89.00</td>\n",
       "    </tr>\n",
       "  </tbody>\n",
       "</table>\n",
       "</div>"
      ],
      "text/plain": [
       "               0          1      2\n",
       "count   4.000000   4.000000   4.00\n",
       "mean   57.250000  70.000000  37.75\n",
       "std    29.330019  10.739336  34.50\n",
       "min    23.000000  57.000000  14.00\n",
       "25%    41.000000  65.250000  20.75\n",
       "50%    57.000000  70.000000  24.00\n",
       "75%    73.250000  74.750000  41.00\n",
       "max    92.000000  83.000000  89.00"
      ]
     },
     "execution_count": 114,
     "metadata": {},
     "output_type": "execute_result"
    }
   ],
   "source": [
    "df.describe() #描述性統計"
   ]
  },
  {
   "cell_type": "code",
   "execution_count": 115,
   "id": "ea97a8e0",
   "metadata": {},
   "outputs": [
    {
     "data": {
      "text/plain": [
       "Index    128\n",
       "0         16\n",
       "1         16\n",
       "2         16\n",
       "dtype: int64"
      ]
     },
     "execution_count": 115,
     "metadata": {},
     "output_type": "execute_result"
    }
   ],
   "source": [
    "df.memory_usage()"
   ]
  },
  {
   "cell_type": "code",
   "execution_count": 116,
   "id": "5dac71e9",
   "metadata": {},
   "outputs": [
    {
     "data": {
      "text/plain": [
       "176"
      ]
     },
     "execution_count": 116,
     "metadata": {},
     "output_type": "execute_result"
    }
   ],
   "source": [
    "df.memory_usage().sum()"
   ]
  },
  {
   "cell_type": "code",
   "execution_count": 117,
   "id": "5bf8e9bb",
   "metadata": {},
   "outputs": [
    {
     "data": {
      "text/plain": [
       "176"
      ]
     },
     "execution_count": 117,
     "metadata": {},
     "output_type": "execute_result"
    }
   ],
   "source": [
    "df.memory_usage(deep = True).sum()"
   ]
  },
  {
   "cell_type": "code",
   "execution_count": 118,
   "id": "b86d8846",
   "metadata": {},
   "outputs": [
    {
     "name": "stdout",
     "output_type": "stream",
     "text": [
      "<class 'pandas.core.frame.DataFrame'>\n",
      "RangeIndex: 4 entries, 0 to 3\n",
      "Data columns (total 3 columns):\n",
      " #   Column  Non-Null Count  Dtype\n",
      "---  ------  --------------  -----\n",
      " 0   0       4 non-null      int16\n",
      " 1   1       4 non-null      int16\n",
      " 2   2       4 non-null      int16\n",
      "dtypes: int16(3)\n",
      "memory usage: 152.0 bytes\n"
     ]
    }
   ],
   "source": [
    "df.astype(\"int16\").info() #這樣只是查詢，要更改要複寫進去"
   ]
  },
  {
   "cell_type": "code",
   "execution_count": 120,
   "id": "c2214d21",
   "metadata": {},
   "outputs": [
    {
     "name": "stdout",
     "output_type": "stream",
     "text": [
      "<class 'pandas.core.frame.DataFrame'>\n",
      "RangeIndex: 4 entries, 0 to 3\n",
      "Data columns (total 3 columns):\n",
      " #   Column  Non-Null Count  Dtype\n",
      "---  ------  --------------  -----\n",
      " 0   0       4 non-null      int32\n",
      " 1   1       4 non-null      int32\n",
      " 2   2       4 non-null      int32\n",
      "dtypes: int32(3)\n",
      "memory usage: 176.0 bytes\n"
     ]
    }
   ],
   "source": [
    "df.info()"
   ]
  },
  {
   "cell_type": "code",
   "execution_count": 121,
   "id": "be0d45bf",
   "metadata": {},
   "outputs": [
    {
     "name": "stdout",
     "output_type": "stream",
     "text": [
      "<class 'pandas.core.frame.DataFrame'>\n",
      "RangeIndex: 4 entries, 0 to 3\n",
      "Data columns (total 3 columns):\n",
      " #   Column  Non-Null Count  Dtype\n",
      "---  ------  --------------  -----\n",
      " 0   0       4 non-null      int16\n",
      " 1   1       4 non-null      int16\n",
      " 2   2       4 non-null      int16\n",
      "dtypes: int16(3)\n",
      "memory usage: 152.0 bytes\n"
     ]
    }
   ],
   "source": [
    "df = df.astype(\"int16\")\n",
    "df.info()"
   ]
  },
  {
   "cell_type": "code",
   "execution_count": 122,
   "id": "fe6b1d2b",
   "metadata": {},
   "outputs": [
    {
     "data": {
      "text/plain": [
       "152"
      ]
     },
     "execution_count": 122,
     "metadata": {},
     "output_type": "execute_result"
    }
   ],
   "source": [
    "df.memory_usage(deep = True).sum()"
   ]
  },
  {
   "cell_type": "markdown",
   "id": "ccdb0a1d",
   "metadata": {},
   "source": [
    "- 1MB = 1024KB\n",
    "- 1KB = 1024B"
   ]
  },
  {
   "cell_type": "code",
   "execution_count": 1,
   "id": "a6e4bc0f",
   "metadata": {},
   "outputs": [
    {
     "data": {
      "text/html": [
       "<div>\n",
       "<style scoped>\n",
       "    .dataframe tbody tr th:only-of-type {\n",
       "        vertical-align: middle;\n",
       "    }\n",
       "\n",
       "    .dataframe tbody tr th {\n",
       "        vertical-align: top;\n",
       "    }\n",
       "\n",
       "    .dataframe thead th {\n",
       "        text-align: right;\n",
       "    }\n",
       "</style>\n",
       "<table border=\"1\" class=\"dataframe\">\n",
       "  <thead>\n",
       "    <tr style=\"text-align: right;\">\n",
       "      <th></th>\n",
       "      <th>座號</th>\n",
       "      <th>姓名</th>\n",
       "      <th>國文</th>\n",
       "      <th>英文</th>\n",
       "    </tr>\n",
       "  </thead>\n",
       "  <tbody>\n",
       "    <tr>\n",
       "      <th>0</th>\n",
       "      <td>0</td>\n",
       "      <td>張大光</td>\n",
       "      <td>47</td>\n",
       "      <td>23</td>\n",
       "    </tr>\n",
       "    <tr>\n",
       "      <th>1</th>\n",
       "      <td>1</td>\n",
       "      <td>王小名</td>\n",
       "      <td>68</td>\n",
       "      <td>92</td>\n",
       "    </tr>\n",
       "    <tr>\n",
       "      <th>2</th>\n",
       "      <td>2</td>\n",
       "      <td>吳大志</td>\n",
       "      <td>25</td>\n",
       "      <td>57</td>\n",
       "    </tr>\n",
       "    <tr>\n",
       "      <th>3</th>\n",
       "      <td>3</td>\n",
       "      <td>曾美麗</td>\n",
       "      <td>67</td>\n",
       "      <td>14</td>\n",
       "    </tr>\n",
       "    <tr>\n",
       "      <th>4</th>\n",
       "      <td>4</td>\n",
       "      <td>曾高興</td>\n",
       "      <td>83</td>\n",
       "      <td>23</td>\n",
       "    </tr>\n",
       "  </tbody>\n",
       "</table>\n",
       "</div>"
      ],
      "text/plain": [
       "   座號   姓名  國文  英文\n",
       "0   0  張大光  47  23\n",
       "1   1  王小名  68  92\n",
       "2   2  吳大志  25  57\n",
       "3   3  曾美麗  67  14\n",
       "4   4  曾高興  83  23"
      ]
     },
     "execution_count": 1,
     "metadata": {},
     "output_type": "execute_result"
    }
   ],
   "source": [
    "import pandas as pd\n",
    "import numpy as np\n",
    "\n",
    "size = 5\n",
    "np.random.seed(7)\n",
    "df = pd.DataFrame({\n",
    "    \"座號\":range(size),\n",
    "    \"姓名\":[\"張大光\",\"王小名\",\"吳大志\",\"曾美麗\",\"曾高興\"],\n",
    "    \"國文\":np.random.randint(101, size = size),\n",
    "    \"英文\":np.random.randint(101, size = size),\n",
    "})\n",
    "df"
   ]
  },
  {
   "cell_type": "markdown",
   "id": "af64e48a",
   "metadata": {},
   "source": [
    "#### 新增資料"
   ]
  },
  {
   "cell_type": "markdown",
   "id": "e7f52e85",
   "metadata": {},
   "source": [
    "```Python\n",
    "df.insert(資料插入的索引位置, 資料的名稱, 資料序列)\n",
    "```"
   ]
  },
  {
   "cell_type": "code",
   "execution_count": 2,
   "id": "52fd405b",
   "metadata": {},
   "outputs": [
    {
     "data": {
      "text/html": [
       "<div>\n",
       "<style scoped>\n",
       "    .dataframe tbody tr th:only-of-type {\n",
       "        vertical-align: middle;\n",
       "    }\n",
       "\n",
       "    .dataframe tbody tr th {\n",
       "        vertical-align: top;\n",
       "    }\n",
       "\n",
       "    .dataframe thead th {\n",
       "        text-align: right;\n",
       "    }\n",
       "</style>\n",
       "<table border=\"1\" class=\"dataframe\">\n",
       "  <thead>\n",
       "    <tr style=\"text-align: right;\">\n",
       "      <th></th>\n",
       "      <th>座號</th>\n",
       "      <th>姓名</th>\n",
       "      <th>國文</th>\n",
       "      <th>英文</th>\n",
       "      <th>自然</th>\n",
       "    </tr>\n",
       "  </thead>\n",
       "  <tbody>\n",
       "    <tr>\n",
       "      <th>0</th>\n",
       "      <td>0</td>\n",
       "      <td>張大光</td>\n",
       "      <td>47</td>\n",
       "      <td>23</td>\n",
       "      <td>72</td>\n",
       "    </tr>\n",
       "    <tr>\n",
       "      <th>1</th>\n",
       "      <td>1</td>\n",
       "      <td>王小名</td>\n",
       "      <td>68</td>\n",
       "      <td>92</td>\n",
       "      <td>89</td>\n",
       "    </tr>\n",
       "    <tr>\n",
       "      <th>2</th>\n",
       "      <td>2</td>\n",
       "      <td>吳大志</td>\n",
       "      <td>25</td>\n",
       "      <td>57</td>\n",
       "      <td>42</td>\n",
       "    </tr>\n",
       "    <tr>\n",
       "      <th>3</th>\n",
       "      <td>3</td>\n",
       "      <td>曾美麗</td>\n",
       "      <td>67</td>\n",
       "      <td>14</td>\n",
       "      <td>90</td>\n",
       "    </tr>\n",
       "    <tr>\n",
       "      <th>4</th>\n",
       "      <td>4</td>\n",
       "      <td>曾高興</td>\n",
       "      <td>83</td>\n",
       "      <td>23</td>\n",
       "      <td>8</td>\n",
       "    </tr>\n",
       "  </tbody>\n",
       "</table>\n",
       "</div>"
      ],
      "text/plain": [
       "   座號   姓名  國文  英文  自然\n",
       "0   0  張大光  47  23  72\n",
       "1   1  王小名  68  92  89\n",
       "2   2  吳大志  25  57  42\n",
       "3   3  曾美麗  67  14  90\n",
       "4   4  曾高興  83  23   8"
      ]
     },
     "execution_count": 2,
     "metadata": {},
     "output_type": "execute_result"
    }
   ],
   "source": [
    "#法1\n",
    "df.insert(4, \"自然\", np.random.randint(101, size = size))\n",
    "df"
   ]
  },
  {
   "cell_type": "code",
   "execution_count": 3,
   "id": "5fed564f",
   "metadata": {},
   "outputs": [
    {
     "data": {
      "text/html": [
       "<div>\n",
       "<style scoped>\n",
       "    .dataframe tbody tr th:only-of-type {\n",
       "        vertical-align: middle;\n",
       "    }\n",
       "\n",
       "    .dataframe tbody tr th {\n",
       "        vertical-align: top;\n",
       "    }\n",
       "\n",
       "    .dataframe thead th {\n",
       "        text-align: right;\n",
       "    }\n",
       "</style>\n",
       "<table border=\"1\" class=\"dataframe\">\n",
       "  <thead>\n",
       "    <tr style=\"text-align: right;\">\n",
       "      <th></th>\n",
       "      <th>座號</th>\n",
       "      <th>姓名</th>\n",
       "      <th>國文</th>\n",
       "      <th>英文</th>\n",
       "      <th>自然</th>\n",
       "      <th>歷史</th>\n",
       "    </tr>\n",
       "  </thead>\n",
       "  <tbody>\n",
       "    <tr>\n",
       "      <th>0</th>\n",
       "      <td>0</td>\n",
       "      <td>張大光</td>\n",
       "      <td>47</td>\n",
       "      <td>23</td>\n",
       "      <td>72</td>\n",
       "      <td>39</td>\n",
       "    </tr>\n",
       "    <tr>\n",
       "      <th>1</th>\n",
       "      <td>1</td>\n",
       "      <td>王小名</td>\n",
       "      <td>68</td>\n",
       "      <td>92</td>\n",
       "      <td>89</td>\n",
       "      <td>68</td>\n",
       "    </tr>\n",
       "    <tr>\n",
       "      <th>2</th>\n",
       "      <td>2</td>\n",
       "      <td>吳大志</td>\n",
       "      <td>25</td>\n",
       "      <td>57</td>\n",
       "      <td>42</td>\n",
       "      <td>48</td>\n",
       "    </tr>\n",
       "    <tr>\n",
       "      <th>3</th>\n",
       "      <td>3</td>\n",
       "      <td>曾美麗</td>\n",
       "      <td>67</td>\n",
       "      <td>14</td>\n",
       "      <td>90</td>\n",
       "      <td>7</td>\n",
       "    </tr>\n",
       "    <tr>\n",
       "      <th>4</th>\n",
       "      <td>4</td>\n",
       "      <td>曾高興</td>\n",
       "      <td>83</td>\n",
       "      <td>23</td>\n",
       "      <td>8</td>\n",
       "      <td>44</td>\n",
       "    </tr>\n",
       "  </tbody>\n",
       "</table>\n",
       "</div>"
      ],
      "text/plain": [
       "   座號   姓名  國文  英文  自然  歷史\n",
       "0   0  張大光  47  23  72  39\n",
       "1   1  王小名  68  92  89  68\n",
       "2   2  吳大志  25  57  42  48\n",
       "3   3  曾美麗  67  14  90   7\n",
       "4   4  曾高興  83  23   8  44"
      ]
     },
     "execution_count": 3,
     "metadata": {},
     "output_type": "execute_result"
    }
   ],
   "source": [
    "#法2\n",
    "df.loc[: ,\"歷史\"] = np.random.randint(101, size = size)\n",
    "df"
   ]
  },
  {
   "cell_type": "code",
   "execution_count": 4,
   "id": "dccb1434",
   "metadata": {},
   "outputs": [
    {
     "data": {
      "text/html": [
       "<div>\n",
       "<style scoped>\n",
       "    .dataframe tbody tr th:only-of-type {\n",
       "        vertical-align: middle;\n",
       "    }\n",
       "\n",
       "    .dataframe tbody tr th {\n",
       "        vertical-align: top;\n",
       "    }\n",
       "\n",
       "    .dataframe thead th {\n",
       "        text-align: right;\n",
       "    }\n",
       "</style>\n",
       "<table border=\"1\" class=\"dataframe\">\n",
       "  <thead>\n",
       "    <tr style=\"text-align: right;\">\n",
       "      <th></th>\n",
       "      <th>座號</th>\n",
       "      <th>姓名</th>\n",
       "      <th>國文</th>\n",
       "      <th>英文</th>\n",
       "      <th>自然</th>\n",
       "      <th>歷史</th>\n",
       "      <th>地理</th>\n",
       "    </tr>\n",
       "  </thead>\n",
       "  <tbody>\n",
       "    <tr>\n",
       "      <th>0</th>\n",
       "      <td>0</td>\n",
       "      <td>張大光</td>\n",
       "      <td>47</td>\n",
       "      <td>23</td>\n",
       "      <td>72</td>\n",
       "      <td>39</td>\n",
       "      <td>0</td>\n",
       "    </tr>\n",
       "    <tr>\n",
       "      <th>1</th>\n",
       "      <td>1</td>\n",
       "      <td>王小名</td>\n",
       "      <td>68</td>\n",
       "      <td>92</td>\n",
       "      <td>89</td>\n",
       "      <td>68</td>\n",
       "      <td>75</td>\n",
       "    </tr>\n",
       "    <tr>\n",
       "      <th>2</th>\n",
       "      <td>2</td>\n",
       "      <td>吳大志</td>\n",
       "      <td>25</td>\n",
       "      <td>57</td>\n",
       "      <td>42</td>\n",
       "      <td>48</td>\n",
       "      <td>55</td>\n",
       "    </tr>\n",
       "    <tr>\n",
       "      <th>3</th>\n",
       "      <td>3</td>\n",
       "      <td>曾美麗</td>\n",
       "      <td>67</td>\n",
       "      <td>14</td>\n",
       "      <td>90</td>\n",
       "      <td>7</td>\n",
       "      <td>6</td>\n",
       "    </tr>\n",
       "    <tr>\n",
       "      <th>4</th>\n",
       "      <td>4</td>\n",
       "      <td>曾高興</td>\n",
       "      <td>83</td>\n",
       "      <td>23</td>\n",
       "      <td>8</td>\n",
       "      <td>44</td>\n",
       "      <td>19</td>\n",
       "    </tr>\n",
       "  </tbody>\n",
       "</table>\n",
       "</div>"
      ],
      "text/plain": [
       "   座號   姓名  國文  英文  自然  歷史  地理\n",
       "0   0  張大光  47  23  72  39   0\n",
       "1   1  王小名  68  92  89  68  75\n",
       "2   2  吳大志  25  57  42  48  55\n",
       "3   3  曾美麗  67  14  90   7   6\n",
       "4   4  曾高興  83  23   8  44  19"
      ]
     },
     "execution_count": 4,
     "metadata": {},
     "output_type": "execute_result"
    }
   ],
   "source": [
    "#法3\n",
    "\n",
    "df1 = pd.DataFrame(np.random.randint(101, size = size), columns = [\"地理\"])\n",
    "df = pd.concat([df,df1], axis = 1)\n",
    "df"
   ]
  },
  {
   "cell_type": "markdown",
   "id": "7e9c7829",
   "metadata": {},
   "source": [
    " #### 新增紀錄"
   ]
  },
  {
   "cell_type": "code",
   "execution_count": 5,
   "id": "545abd81",
   "metadata": {},
   "outputs": [
    {
     "data": {
      "text/html": [
       "<div>\n",
       "<style scoped>\n",
       "    .dataframe tbody tr th:only-of-type {\n",
       "        vertical-align: middle;\n",
       "    }\n",
       "\n",
       "    .dataframe tbody tr th {\n",
       "        vertical-align: top;\n",
       "    }\n",
       "\n",
       "    .dataframe thead th {\n",
       "        text-align: right;\n",
       "    }\n",
       "</style>\n",
       "<table border=\"1\" class=\"dataframe\">\n",
       "  <thead>\n",
       "    <tr style=\"text-align: right;\">\n",
       "      <th></th>\n",
       "      <th>座號</th>\n",
       "      <th>姓名</th>\n",
       "      <th>國文</th>\n",
       "      <th>英文</th>\n",
       "      <th>自然</th>\n",
       "      <th>歷史</th>\n",
       "      <th>地理</th>\n",
       "    </tr>\n",
       "  </thead>\n",
       "  <tbody>\n",
       "    <tr>\n",
       "      <th>0</th>\n",
       "      <td>0</td>\n",
       "      <td>張大光</td>\n",
       "      <td>47</td>\n",
       "      <td>23</td>\n",
       "      <td>72</td>\n",
       "      <td>39</td>\n",
       "      <td>0</td>\n",
       "    </tr>\n",
       "    <tr>\n",
       "      <th>1</th>\n",
       "      <td>1</td>\n",
       "      <td>王小名</td>\n",
       "      <td>68</td>\n",
       "      <td>92</td>\n",
       "      <td>89</td>\n",
       "      <td>68</td>\n",
       "      <td>75</td>\n",
       "    </tr>\n",
       "    <tr>\n",
       "      <th>2</th>\n",
       "      <td>2</td>\n",
       "      <td>吳大志</td>\n",
       "      <td>25</td>\n",
       "      <td>57</td>\n",
       "      <td>42</td>\n",
       "      <td>48</td>\n",
       "      <td>55</td>\n",
       "    </tr>\n",
       "    <tr>\n",
       "      <th>3</th>\n",
       "      <td>3</td>\n",
       "      <td>曾美麗</td>\n",
       "      <td>67</td>\n",
       "      <td>14</td>\n",
       "      <td>90</td>\n",
       "      <td>7</td>\n",
       "      <td>6</td>\n",
       "    </tr>\n",
       "    <tr>\n",
       "      <th>4</th>\n",
       "      <td>4</td>\n",
       "      <td>曾高興</td>\n",
       "      <td>83</td>\n",
       "      <td>23</td>\n",
       "      <td>8</td>\n",
       "      <td>44</td>\n",
       "      <td>19</td>\n",
       "    </tr>\n",
       "    <tr>\n",
       "      <th>5</th>\n",
       "      <td>5</td>\n",
       "      <td>陳小美</td>\n",
       "      <td>35</td>\n",
       "      <td>40</td>\n",
       "      <td>80</td>\n",
       "      <td>67</td>\n",
       "      <td>95</td>\n",
       "    </tr>\n",
       "  </tbody>\n",
       "</table>\n",
       "</div>"
      ],
      "text/plain": [
       "   座號   姓名  國文  英文  自然  歷史  地理\n",
       "0   0  張大光  47  23  72  39   0\n",
       "1   1  王小名  68  92  89  68  75\n",
       "2   2  吳大志  25  57  42  48  55\n",
       "3   3  曾美麗  67  14  90   7   6\n",
       "4   4  曾高興  83  23   8  44  19\n",
       "5   5  陳小美  35  40  80  67  95"
      ]
     },
     "execution_count": 5,
     "metadata": {},
     "output_type": "execute_result"
    }
   ],
   "source": [
    "#法1\n",
    "df.loc[5] = [5, \"陳小美\", 35, 40, 80, 67, 95]\n",
    "df"
   ]
  },
  {
   "cell_type": "code",
   "execution_count": 6,
   "id": "dc3b4372",
   "metadata": {},
   "outputs": [
    {
     "data": {
      "text/html": [
       "<div>\n",
       "<style scoped>\n",
       "    .dataframe tbody tr th:only-of-type {\n",
       "        vertical-align: middle;\n",
       "    }\n",
       "\n",
       "    .dataframe tbody tr th {\n",
       "        vertical-align: top;\n",
       "    }\n",
       "\n",
       "    .dataframe thead th {\n",
       "        text-align: right;\n",
       "    }\n",
       "</style>\n",
       "<table border=\"1\" class=\"dataframe\">\n",
       "  <thead>\n",
       "    <tr style=\"text-align: right;\">\n",
       "      <th></th>\n",
       "      <th>座號</th>\n",
       "      <th>姓名</th>\n",
       "      <th>國文</th>\n",
       "      <th>英文</th>\n",
       "      <th>自然</th>\n",
       "      <th>歷史</th>\n",
       "      <th>地理</th>\n",
       "    </tr>\n",
       "  </thead>\n",
       "  <tbody>\n",
       "    <tr>\n",
       "      <th>0</th>\n",
       "      <td>0</td>\n",
       "      <td>張大光</td>\n",
       "      <td>47</td>\n",
       "      <td>23</td>\n",
       "      <td>72</td>\n",
       "      <td>39</td>\n",
       "      <td>0</td>\n",
       "    </tr>\n",
       "    <tr>\n",
       "      <th>1</th>\n",
       "      <td>1</td>\n",
       "      <td>王小名</td>\n",
       "      <td>68</td>\n",
       "      <td>92</td>\n",
       "      <td>89</td>\n",
       "      <td>68</td>\n",
       "      <td>75</td>\n",
       "    </tr>\n",
       "    <tr>\n",
       "      <th>2</th>\n",
       "      <td>2</td>\n",
       "      <td>吳大志</td>\n",
       "      <td>25</td>\n",
       "      <td>57</td>\n",
       "      <td>42</td>\n",
       "      <td>48</td>\n",
       "      <td>55</td>\n",
       "    </tr>\n",
       "    <tr>\n",
       "      <th>3</th>\n",
       "      <td>3</td>\n",
       "      <td>曾美麗</td>\n",
       "      <td>67</td>\n",
       "      <td>14</td>\n",
       "      <td>90</td>\n",
       "      <td>7</td>\n",
       "      <td>6</td>\n",
       "    </tr>\n",
       "    <tr>\n",
       "      <th>4</th>\n",
       "      <td>4</td>\n",
       "      <td>曾高興</td>\n",
       "      <td>83</td>\n",
       "      <td>23</td>\n",
       "      <td>8</td>\n",
       "      <td>44</td>\n",
       "      <td>19</td>\n",
       "    </tr>\n",
       "    <tr>\n",
       "      <th>5</th>\n",
       "      <td>5</td>\n",
       "      <td>陳小美</td>\n",
       "      <td>35</td>\n",
       "      <td>40</td>\n",
       "      <td>80</td>\n",
       "      <td>67</td>\n",
       "      <td>95</td>\n",
       "    </tr>\n",
       "    <tr>\n",
       "      <th>6</th>\n",
       "      <td>6</td>\n",
       "      <td>李大同</td>\n",
       "      <td>62</td>\n",
       "      <td>71</td>\n",
       "      <td>43</td>\n",
       "      <td>52</td>\n",
       "      <td>96</td>\n",
       "    </tr>\n",
       "  </tbody>\n",
       "</table>\n",
       "</div>"
      ],
      "text/plain": [
       "  座號   姓名  國文  英文  自然  歷史  地理\n",
       "0  0  張大光  47  23  72  39   0\n",
       "1  1  王小名  68  92  89  68  75\n",
       "2  2  吳大志  25  57  42  48  55\n",
       "3  3  曾美麗  67  14  90   7   6\n",
       "4  4  曾高興  83  23   8  44  19\n",
       "5  5  陳小美  35  40  80  67  95\n",
       "6  6  李大同  62  71  43  52  96"
      ]
     },
     "execution_count": 6,
     "metadata": {},
     "output_type": "execute_result"
    }
   ],
   "source": [
    "#法2\n",
    "\n",
    "df1 = pd.DataFrame([6, \"李大同\", 62, 71, 43, 52, 96], index = df.columns)\n",
    "df = pd.concat([df, df1.T], ignore_index = True)\n",
    "df"
   ]
  },
  {
   "cell_type": "code",
   "execution_count": 7,
   "id": "5377aae6",
   "metadata": {},
   "outputs": [
    {
     "name": "stderr",
     "output_type": "stream",
     "text": [
      "C:\\Users\\Lo yuan\\AppData\\Local\\Temp\\ipykernel_22324\\2334869714.py:8: FutureWarning: Styler.applymap has been deprecated. Use Styler.map instead.\n",
      "  df.style.applymap(f1, subset = df.columns[2:]).applymap(f2, subset = df.columns[2:])\n"
     ]
    },
    {
     "data": {
      "text/html": [
       "<style type=\"text/css\">\n",
       "#T_6e448_row0_col2, #T_6e448_row0_col3, #T_6e448_row0_col5, #T_6e448_row0_col6, #T_6e448_row2_col2, #T_6e448_row2_col3, #T_6e448_row2_col4, #T_6e448_row2_col5, #T_6e448_row2_col6, #T_6e448_row3_col3, #T_6e448_row3_col5, #T_6e448_row3_col6, #T_6e448_row4_col3, #T_6e448_row4_col4, #T_6e448_row4_col5, #T_6e448_row4_col6, #T_6e448_row5_col2, #T_6e448_row5_col3, #T_6e448_row6_col4, #T_6e448_row6_col5 {\n",
       "  color: red;\n",
       "  background-color: yellow;\n",
       "}\n",
       "</style>\n",
       "<table id=\"T_6e448\">\n",
       "  <thead>\n",
       "    <tr>\n",
       "      <th class=\"blank level0\" >&nbsp;</th>\n",
       "      <th id=\"T_6e448_level0_col0\" class=\"col_heading level0 col0\" >座號</th>\n",
       "      <th id=\"T_6e448_level0_col1\" class=\"col_heading level0 col1\" >姓名</th>\n",
       "      <th id=\"T_6e448_level0_col2\" class=\"col_heading level0 col2\" >國文</th>\n",
       "      <th id=\"T_6e448_level0_col3\" class=\"col_heading level0 col3\" >英文</th>\n",
       "      <th id=\"T_6e448_level0_col4\" class=\"col_heading level0 col4\" >自然</th>\n",
       "      <th id=\"T_6e448_level0_col5\" class=\"col_heading level0 col5\" >歷史</th>\n",
       "      <th id=\"T_6e448_level0_col6\" class=\"col_heading level0 col6\" >地理</th>\n",
       "    </tr>\n",
       "  </thead>\n",
       "  <tbody>\n",
       "    <tr>\n",
       "      <th id=\"T_6e448_level0_row0\" class=\"row_heading level0 row0\" >0</th>\n",
       "      <td id=\"T_6e448_row0_col0\" class=\"data row0 col0\" >0</td>\n",
       "      <td id=\"T_6e448_row0_col1\" class=\"data row0 col1\" >張大光</td>\n",
       "      <td id=\"T_6e448_row0_col2\" class=\"data row0 col2\" >47</td>\n",
       "      <td id=\"T_6e448_row0_col3\" class=\"data row0 col3\" >23</td>\n",
       "      <td id=\"T_6e448_row0_col4\" class=\"data row0 col4\" >72</td>\n",
       "      <td id=\"T_6e448_row0_col5\" class=\"data row0 col5\" >39</td>\n",
       "      <td id=\"T_6e448_row0_col6\" class=\"data row0 col6\" >0</td>\n",
       "    </tr>\n",
       "    <tr>\n",
       "      <th id=\"T_6e448_level0_row1\" class=\"row_heading level0 row1\" >1</th>\n",
       "      <td id=\"T_6e448_row1_col0\" class=\"data row1 col0\" >1</td>\n",
       "      <td id=\"T_6e448_row1_col1\" class=\"data row1 col1\" >王小名</td>\n",
       "      <td id=\"T_6e448_row1_col2\" class=\"data row1 col2\" >68</td>\n",
       "      <td id=\"T_6e448_row1_col3\" class=\"data row1 col3\" >92</td>\n",
       "      <td id=\"T_6e448_row1_col4\" class=\"data row1 col4\" >89</td>\n",
       "      <td id=\"T_6e448_row1_col5\" class=\"data row1 col5\" >68</td>\n",
       "      <td id=\"T_6e448_row1_col6\" class=\"data row1 col6\" >75</td>\n",
       "    </tr>\n",
       "    <tr>\n",
       "      <th id=\"T_6e448_level0_row2\" class=\"row_heading level0 row2\" >2</th>\n",
       "      <td id=\"T_6e448_row2_col0\" class=\"data row2 col0\" >2</td>\n",
       "      <td id=\"T_6e448_row2_col1\" class=\"data row2 col1\" >吳大志</td>\n",
       "      <td id=\"T_6e448_row2_col2\" class=\"data row2 col2\" >25</td>\n",
       "      <td id=\"T_6e448_row2_col3\" class=\"data row2 col3\" >57</td>\n",
       "      <td id=\"T_6e448_row2_col4\" class=\"data row2 col4\" >42</td>\n",
       "      <td id=\"T_6e448_row2_col5\" class=\"data row2 col5\" >48</td>\n",
       "      <td id=\"T_6e448_row2_col6\" class=\"data row2 col6\" >55</td>\n",
       "    </tr>\n",
       "    <tr>\n",
       "      <th id=\"T_6e448_level0_row3\" class=\"row_heading level0 row3\" >3</th>\n",
       "      <td id=\"T_6e448_row3_col0\" class=\"data row3 col0\" >3</td>\n",
       "      <td id=\"T_6e448_row3_col1\" class=\"data row3 col1\" >曾美麗</td>\n",
       "      <td id=\"T_6e448_row3_col2\" class=\"data row3 col2\" >67</td>\n",
       "      <td id=\"T_6e448_row3_col3\" class=\"data row3 col3\" >14</td>\n",
       "      <td id=\"T_6e448_row3_col4\" class=\"data row3 col4\" >90</td>\n",
       "      <td id=\"T_6e448_row3_col5\" class=\"data row3 col5\" >7</td>\n",
       "      <td id=\"T_6e448_row3_col6\" class=\"data row3 col6\" >6</td>\n",
       "    </tr>\n",
       "    <tr>\n",
       "      <th id=\"T_6e448_level0_row4\" class=\"row_heading level0 row4\" >4</th>\n",
       "      <td id=\"T_6e448_row4_col0\" class=\"data row4 col0\" >4</td>\n",
       "      <td id=\"T_6e448_row4_col1\" class=\"data row4 col1\" >曾高興</td>\n",
       "      <td id=\"T_6e448_row4_col2\" class=\"data row4 col2\" >83</td>\n",
       "      <td id=\"T_6e448_row4_col3\" class=\"data row4 col3\" >23</td>\n",
       "      <td id=\"T_6e448_row4_col4\" class=\"data row4 col4\" >8</td>\n",
       "      <td id=\"T_6e448_row4_col5\" class=\"data row4 col5\" >44</td>\n",
       "      <td id=\"T_6e448_row4_col6\" class=\"data row4 col6\" >19</td>\n",
       "    </tr>\n",
       "    <tr>\n",
       "      <th id=\"T_6e448_level0_row5\" class=\"row_heading level0 row5\" >5</th>\n",
       "      <td id=\"T_6e448_row5_col0\" class=\"data row5 col0\" >5</td>\n",
       "      <td id=\"T_6e448_row5_col1\" class=\"data row5 col1\" >陳小美</td>\n",
       "      <td id=\"T_6e448_row5_col2\" class=\"data row5 col2\" >35</td>\n",
       "      <td id=\"T_6e448_row5_col3\" class=\"data row5 col3\" >40</td>\n",
       "      <td id=\"T_6e448_row5_col4\" class=\"data row5 col4\" >80</td>\n",
       "      <td id=\"T_6e448_row5_col5\" class=\"data row5 col5\" >67</td>\n",
       "      <td id=\"T_6e448_row5_col6\" class=\"data row5 col6\" >95</td>\n",
       "    </tr>\n",
       "    <tr>\n",
       "      <th id=\"T_6e448_level0_row6\" class=\"row_heading level0 row6\" >6</th>\n",
       "      <td id=\"T_6e448_row6_col0\" class=\"data row6 col0\" >6</td>\n",
       "      <td id=\"T_6e448_row6_col1\" class=\"data row6 col1\" >李大同</td>\n",
       "      <td id=\"T_6e448_row6_col2\" class=\"data row6 col2\" >62</td>\n",
       "      <td id=\"T_6e448_row6_col3\" class=\"data row6 col3\" >71</td>\n",
       "      <td id=\"T_6e448_row6_col4\" class=\"data row6 col4\" >43</td>\n",
       "      <td id=\"T_6e448_row6_col5\" class=\"data row6 col5\" >52</td>\n",
       "      <td id=\"T_6e448_row6_col6\" class=\"data row6 col6\" >96</td>\n",
       "    </tr>\n",
       "  </tbody>\n",
       "</table>\n"
      ],
      "text/plain": [
       "<pandas.io.formats.style.Styler at 0x1b5ccfb9270>"
      ]
     },
     "execution_count": 7,
     "metadata": {},
     "output_type": "execute_result"
    }
   ],
   "source": [
    "def f1(x):\n",
    "    if x < 60:\n",
    "        return \"color:red\"\n",
    "    \n",
    "def f2(x):\n",
    "    if x < 60:\n",
    "        return \"background-color:yellow\"\n",
    "df.style.applymap(f1, subset = df.columns[2:]).applymap(f2, subset = df.columns[2:])"
   ]
  },
  {
   "cell_type": "code",
   "execution_count": 8,
   "id": "afc9e941",
   "metadata": {},
   "outputs": [
    {
     "data": {
      "text/html": [
       "<div>\n",
       "<style scoped>\n",
       "    .dataframe tbody tr th:only-of-type {\n",
       "        vertical-align: middle;\n",
       "    }\n",
       "\n",
       "    .dataframe tbody tr th {\n",
       "        vertical-align: top;\n",
       "    }\n",
       "\n",
       "    .dataframe thead th {\n",
       "        text-align: right;\n",
       "    }\n",
       "</style>\n",
       "<table border=\"1\" class=\"dataframe\">\n",
       "  <thead>\n",
       "    <tr style=\"text-align: right;\">\n",
       "      <th></th>\n",
       "      <th>座號</th>\n",
       "      <th>姓名</th>\n",
       "      <th>國文</th>\n",
       "      <th>英文</th>\n",
       "      <th>自然</th>\n",
       "      <th>歷史</th>\n",
       "      <th>地理</th>\n",
       "      <th>總分</th>\n",
       "      <th>平均</th>\n",
       "    </tr>\n",
       "  </thead>\n",
       "  <tbody>\n",
       "    <tr>\n",
       "      <th>0</th>\n",
       "      <td>0</td>\n",
       "      <td>張大光</td>\n",
       "      <td>47</td>\n",
       "      <td>23</td>\n",
       "      <td>72</td>\n",
       "      <td>39</td>\n",
       "      <td>0</td>\n",
       "      <td>181</td>\n",
       "      <td>36.2</td>\n",
       "    </tr>\n",
       "    <tr>\n",
       "      <th>1</th>\n",
       "      <td>1</td>\n",
       "      <td>王小名</td>\n",
       "      <td>68</td>\n",
       "      <td>92</td>\n",
       "      <td>89</td>\n",
       "      <td>68</td>\n",
       "      <td>75</td>\n",
       "      <td>392</td>\n",
       "      <td>78.4</td>\n",
       "    </tr>\n",
       "    <tr>\n",
       "      <th>2</th>\n",
       "      <td>2</td>\n",
       "      <td>吳大志</td>\n",
       "      <td>25</td>\n",
       "      <td>57</td>\n",
       "      <td>42</td>\n",
       "      <td>48</td>\n",
       "      <td>55</td>\n",
       "      <td>227</td>\n",
       "      <td>45.4</td>\n",
       "    </tr>\n",
       "    <tr>\n",
       "      <th>3</th>\n",
       "      <td>3</td>\n",
       "      <td>曾美麗</td>\n",
       "      <td>67</td>\n",
       "      <td>14</td>\n",
       "      <td>90</td>\n",
       "      <td>7</td>\n",
       "      <td>6</td>\n",
       "      <td>184</td>\n",
       "      <td>36.8</td>\n",
       "    </tr>\n",
       "    <tr>\n",
       "      <th>4</th>\n",
       "      <td>4</td>\n",
       "      <td>曾高興</td>\n",
       "      <td>83</td>\n",
       "      <td>23</td>\n",
       "      <td>8</td>\n",
       "      <td>44</td>\n",
       "      <td>19</td>\n",
       "      <td>177</td>\n",
       "      <td>35.4</td>\n",
       "    </tr>\n",
       "    <tr>\n",
       "      <th>5</th>\n",
       "      <td>5</td>\n",
       "      <td>陳小美</td>\n",
       "      <td>35</td>\n",
       "      <td>40</td>\n",
       "      <td>80</td>\n",
       "      <td>67</td>\n",
       "      <td>95</td>\n",
       "      <td>317</td>\n",
       "      <td>63.4</td>\n",
       "    </tr>\n",
       "    <tr>\n",
       "      <th>6</th>\n",
       "      <td>6</td>\n",
       "      <td>李大同</td>\n",
       "      <td>62</td>\n",
       "      <td>71</td>\n",
       "      <td>43</td>\n",
       "      <td>52</td>\n",
       "      <td>96</td>\n",
       "      <td>324</td>\n",
       "      <td>64.8</td>\n",
       "    </tr>\n",
       "  </tbody>\n",
       "</table>\n",
       "</div>"
      ],
      "text/plain": [
       "  座號   姓名  國文  英文  自然  歷史  地理   總分    平均\n",
       "0  0  張大光  47  23  72  39   0  181  36.2\n",
       "1  1  王小名  68  92  89  68  75  392  78.4\n",
       "2  2  吳大志  25  57  42  48  55  227  45.4\n",
       "3  3  曾美麗  67  14  90   7   6  184  36.8\n",
       "4  4  曾高興  83  23   8  44  19  177  35.4\n",
       "5  5  陳小美  35  40  80  67  95  317  63.4\n",
       "6  6  李大同  62  71  43  52  96  324  64.8"
      ]
     },
     "execution_count": 8,
     "metadata": {},
     "output_type": "execute_result"
    }
   ],
   "source": [
    "df[\"總分\"] = df.apply(lambda x:x[2:7].sum(), axis = 1)\n",
    "df[\"平均\"] = df.apply(lambda x:x[2:7].sum()/5, axis = 1)\n",
    "df"
   ]
  },
  {
   "cell_type": "code",
   "execution_count": 12,
   "id": "3decc909",
   "metadata": {},
   "outputs": [],
   "source": [
    "df.to_csv(\"成績.csv\", encoding = \"big5\", index = False) #big5, big5hkscs, utf_8_sig，輸出顯示中文字"
   ]
  },
  {
   "cell_type": "code",
   "execution_count": 13,
   "id": "df2e96c9",
   "metadata": {},
   "outputs": [
    {
     "data": {
      "text/html": [
       "<div>\n",
       "<style scoped>\n",
       "    .dataframe tbody tr th:only-of-type {\n",
       "        vertical-align: middle;\n",
       "    }\n",
       "\n",
       "    .dataframe tbody tr th {\n",
       "        vertical-align: top;\n",
       "    }\n",
       "\n",
       "    .dataframe thead th {\n",
       "        text-align: right;\n",
       "    }\n",
       "</style>\n",
       "<table border=\"1\" class=\"dataframe\">\n",
       "  <thead>\n",
       "    <tr style=\"text-align: right;\">\n",
       "      <th></th>\n",
       "      <th>座號</th>\n",
       "      <th>姓名</th>\n",
       "      <th>國文</th>\n",
       "      <th>英文</th>\n",
       "      <th>自然</th>\n",
       "      <th>歷史</th>\n",
       "      <th>地理</th>\n",
       "      <th>總分</th>\n",
       "      <th>平均</th>\n",
       "    </tr>\n",
       "  </thead>\n",
       "  <tbody>\n",
       "    <tr>\n",
       "      <th>0</th>\n",
       "      <td>0</td>\n",
       "      <td>張大光</td>\n",
       "      <td>47</td>\n",
       "      <td>23</td>\n",
       "      <td>72</td>\n",
       "      <td>39</td>\n",
       "      <td>0</td>\n",
       "      <td>181</td>\n",
       "      <td>36.2</td>\n",
       "    </tr>\n",
       "    <tr>\n",
       "      <th>1</th>\n",
       "      <td>1</td>\n",
       "      <td>王小名</td>\n",
       "      <td>68</td>\n",
       "      <td>92</td>\n",
       "      <td>89</td>\n",
       "      <td>68</td>\n",
       "      <td>75</td>\n",
       "      <td>392</td>\n",
       "      <td>78.4</td>\n",
       "    </tr>\n",
       "    <tr>\n",
       "      <th>2</th>\n",
       "      <td>2</td>\n",
       "      <td>吳大志</td>\n",
       "      <td>25</td>\n",
       "      <td>57</td>\n",
       "      <td>42</td>\n",
       "      <td>48</td>\n",
       "      <td>55</td>\n",
       "      <td>227</td>\n",
       "      <td>45.4</td>\n",
       "    </tr>\n",
       "    <tr>\n",
       "      <th>3</th>\n",
       "      <td>3</td>\n",
       "      <td>曾美麗</td>\n",
       "      <td>67</td>\n",
       "      <td>14</td>\n",
       "      <td>90</td>\n",
       "      <td>7</td>\n",
       "      <td>6</td>\n",
       "      <td>184</td>\n",
       "      <td>36.8</td>\n",
       "    </tr>\n",
       "    <tr>\n",
       "      <th>4</th>\n",
       "      <td>4</td>\n",
       "      <td>曾高興</td>\n",
       "      <td>83</td>\n",
       "      <td>23</td>\n",
       "      <td>8</td>\n",
       "      <td>44</td>\n",
       "      <td>19</td>\n",
       "      <td>177</td>\n",
       "      <td>35.4</td>\n",
       "    </tr>\n",
       "    <tr>\n",
       "      <th>5</th>\n",
       "      <td>5</td>\n",
       "      <td>陳小美</td>\n",
       "      <td>35</td>\n",
       "      <td>40</td>\n",
       "      <td>80</td>\n",
       "      <td>67</td>\n",
       "      <td>95</td>\n",
       "      <td>317</td>\n",
       "      <td>63.4</td>\n",
       "    </tr>\n",
       "    <tr>\n",
       "      <th>6</th>\n",
       "      <td>6</td>\n",
       "      <td>李大同</td>\n",
       "      <td>62</td>\n",
       "      <td>71</td>\n",
       "      <td>43</td>\n",
       "      <td>52</td>\n",
       "      <td>96</td>\n",
       "      <td>324</td>\n",
       "      <td>64.8</td>\n",
       "    </tr>\n",
       "  </tbody>\n",
       "</table>\n",
       "</div>"
      ],
      "text/plain": [
       "   座號   姓名  國文  英文  自然  歷史  地理   總分    平均\n",
       "0   0  張大光  47  23  72  39   0  181  36.2\n",
       "1   1  王小名  68  92  89  68  75  392  78.4\n",
       "2   2  吳大志  25  57  42  48  55  227  45.4\n",
       "3   3  曾美麗  67  14  90   7   6  184  36.8\n",
       "4   4  曾高興  83  23   8  44  19  177  35.4\n",
       "5   5  陳小美  35  40  80  67  95  317  63.4\n",
       "6   6  李大同  62  71  43  52  96  324  64.8"
      ]
     },
     "execution_count": 13,
     "metadata": {},
     "output_type": "execute_result"
    }
   ],
   "source": [
    "df1 = pd.read_csv(\"成績.csv\", encoding = \"big5\")\n",
    "df1"
   ]
  },
  {
   "cell_type": "code",
   "execution_count": 15,
   "id": "c954f85c",
   "metadata": {},
   "outputs": [],
   "source": [
    "df.to_excel(\"成績.xlsx\", index = False)"
   ]
  },
  {
   "cell_type": "code",
   "execution_count": 19,
   "id": "51de9214",
   "metadata": {},
   "outputs": [
    {
     "data": {
      "text/html": [
       "<div>\n",
       "<style scoped>\n",
       "    .dataframe tbody tr th:only-of-type {\n",
       "        vertical-align: middle;\n",
       "    }\n",
       "\n",
       "    .dataframe tbody tr th {\n",
       "        vertical-align: top;\n",
       "    }\n",
       "\n",
       "    .dataframe thead th {\n",
       "        text-align: right;\n",
       "    }\n",
       "</style>\n",
       "<table border=\"1\" class=\"dataframe\">\n",
       "  <thead>\n",
       "    <tr style=\"text-align: right;\">\n",
       "      <th></th>\n",
       "      <th>座號</th>\n",
       "      <th>姓名</th>\n",
       "      <th>國文</th>\n",
       "      <th>英文</th>\n",
       "      <th>自然</th>\n",
       "      <th>歷史</th>\n",
       "      <th>地理</th>\n",
       "      <th>總分</th>\n",
       "      <th>平均</th>\n",
       "    </tr>\n",
       "  </thead>\n",
       "  <tbody>\n",
       "    <tr>\n",
       "      <th>0</th>\n",
       "      <td>0</td>\n",
       "      <td>張大光</td>\n",
       "      <td>47</td>\n",
       "      <td>23</td>\n",
       "      <td>72</td>\n",
       "      <td>39</td>\n",
       "      <td>0</td>\n",
       "      <td>181</td>\n",
       "      <td>36.2</td>\n",
       "    </tr>\n",
       "    <tr>\n",
       "      <th>1</th>\n",
       "      <td>1</td>\n",
       "      <td>王小名</td>\n",
       "      <td>68</td>\n",
       "      <td>92</td>\n",
       "      <td>89</td>\n",
       "      <td>68</td>\n",
       "      <td>75</td>\n",
       "      <td>392</td>\n",
       "      <td>78.4</td>\n",
       "    </tr>\n",
       "    <tr>\n",
       "      <th>2</th>\n",
       "      <td>2</td>\n",
       "      <td>吳大志</td>\n",
       "      <td>25</td>\n",
       "      <td>57</td>\n",
       "      <td>42</td>\n",
       "      <td>48</td>\n",
       "      <td>55</td>\n",
       "      <td>227</td>\n",
       "      <td>45.4</td>\n",
       "    </tr>\n",
       "    <tr>\n",
       "      <th>3</th>\n",
       "      <td>3</td>\n",
       "      <td>曾美麗</td>\n",
       "      <td>67</td>\n",
       "      <td>14</td>\n",
       "      <td>90</td>\n",
       "      <td>7</td>\n",
       "      <td>6</td>\n",
       "      <td>184</td>\n",
       "      <td>36.8</td>\n",
       "    </tr>\n",
       "    <tr>\n",
       "      <th>4</th>\n",
       "      <td>4</td>\n",
       "      <td>曾高興</td>\n",
       "      <td>83</td>\n",
       "      <td>23</td>\n",
       "      <td>8</td>\n",
       "      <td>44</td>\n",
       "      <td>19</td>\n",
       "      <td>177</td>\n",
       "      <td>35.4</td>\n",
       "    </tr>\n",
       "    <tr>\n",
       "      <th>5</th>\n",
       "      <td>5</td>\n",
       "      <td>陳小美</td>\n",
       "      <td>35</td>\n",
       "      <td>40</td>\n",
       "      <td>80</td>\n",
       "      <td>67</td>\n",
       "      <td>95</td>\n",
       "      <td>317</td>\n",
       "      <td>63.4</td>\n",
       "    </tr>\n",
       "    <tr>\n",
       "      <th>6</th>\n",
       "      <td>6</td>\n",
       "      <td>李大同</td>\n",
       "      <td>62</td>\n",
       "      <td>71</td>\n",
       "      <td>43</td>\n",
       "      <td>52</td>\n",
       "      <td>96</td>\n",
       "      <td>324</td>\n",
       "      <td>64.8</td>\n",
       "    </tr>\n",
       "  </tbody>\n",
       "</table>\n",
       "</div>"
      ],
      "text/plain": [
       "   座號   姓名  國文  英文  自然  歷史  地理   總分    平均\n",
       "0   0  張大光  47  23  72  39   0  181  36.2\n",
       "1   1  王小名  68  92  89  68  75  392  78.4\n",
       "2   2  吳大志  25  57  42  48  55  227  45.4\n",
       "3   3  曾美麗  67  14  90   7   6  184  36.8\n",
       "4   4  曾高興  83  23   8  44  19  177  35.4\n",
       "5   5  陳小美  35  40  80  67  95  317  63.4\n",
       "6   6  李大同  62  71  43  52  96  324  64.8"
      ]
     },
     "execution_count": 19,
     "metadata": {},
     "output_type": "execute_result"
    }
   ],
   "source": [
    "df1 = pd.read_excel(\"成績.xlsx\")\n",
    "df1"
   ]
  },
  {
   "cell_type": "code",
   "execution_count": 23,
   "id": "ca575f2d",
   "metadata": {},
   "outputs": [],
   "source": [
    "import sqlite3 as lite\n",
    "with lite.connect(\"學生成績.db\") as con:\n",
    "    df.to_sql('成績', con = con, if_exists = \"replace\")"
   ]
  },
  {
   "cell_type": "code",
   "execution_count": 24,
   "id": "a6336bd4",
   "metadata": {},
   "outputs": [
    {
     "ename": "DatabaseError",
     "evalue": "Execution failed on sql 'SELECT * FROM 考試成績;': no such table: 考試成績",
     "output_type": "error",
     "traceback": [
      "\u001b[1;31m---------------------------------------------------------------------------\u001b[0m",
      "\u001b[1;31mOperationalError\u001b[0m                          Traceback (most recent call last)",
      "File \u001b[1;32m~\\anaconda3\\lib\\site-packages\\pandas\\io\\sql.py:2264\u001b[0m, in \u001b[0;36mSQLiteDatabase.execute\u001b[1;34m(self, sql, params)\u001b[0m\n\u001b[0;32m   2263\u001b[0m \u001b[38;5;28;01mtry\u001b[39;00m:\n\u001b[1;32m-> 2264\u001b[0m     \u001b[43mcur\u001b[49m\u001b[38;5;241;43m.\u001b[39;49m\u001b[43mexecute\u001b[49m\u001b[43m(\u001b[49m\u001b[43msql\u001b[49m\u001b[43m,\u001b[49m\u001b[43m \u001b[49m\u001b[38;5;241;43m*\u001b[39;49m\u001b[43margs\u001b[49m\u001b[43m)\u001b[49m\n\u001b[0;32m   2265\u001b[0m     \u001b[38;5;28;01mreturn\u001b[39;00m cur\n",
      "\u001b[1;31mOperationalError\u001b[0m: no such table: 考試成績",
      "\nThe above exception was the direct cause of the following exception:\n",
      "\u001b[1;31mDatabaseError\u001b[0m                             Traceback (most recent call last)",
      "Cell \u001b[1;32mIn[24], line 3\u001b[0m\n\u001b[0;32m      1\u001b[0m \u001b[38;5;28;01mimport\u001b[39;00m \u001b[38;5;21;01msqlite3\u001b[39;00m \u001b[38;5;28;01mas\u001b[39;00m \u001b[38;5;21;01mlite\u001b[39;00m\n\u001b[0;32m      2\u001b[0m \u001b[38;5;28;01mwith\u001b[39;00m lite\u001b[38;5;241m.\u001b[39mconnect(\u001b[38;5;124m\"\u001b[39m\u001b[38;5;124m學生成績.db\u001b[39m\u001b[38;5;124m\"\u001b[39m) \u001b[38;5;28;01mas\u001b[39;00m con:\n\u001b[1;32m----> 3\u001b[0m     df1 \u001b[38;5;241m=\u001b[39m \u001b[43mpd\u001b[49m\u001b[38;5;241;43m.\u001b[39;49m\u001b[43mread_sql_query\u001b[49m\u001b[43m(\u001b[49m\u001b[38;5;124;43m\"\u001b[39;49m\u001b[38;5;124;43mSELECT * FROM 考試成績;\u001b[39;49m\u001b[38;5;124;43m\"\u001b[39;49m\u001b[43m,\u001b[49m\u001b[43m \u001b[49m\u001b[43mcon\u001b[49m\u001b[43m \u001b[49m\u001b[38;5;241;43m=\u001b[39;49m\u001b[43m \u001b[49m\u001b[43mcon\u001b[49m\u001b[43m,\u001b[49m\u001b[43m \u001b[49m\u001b[43mindex_col\u001b[49m\u001b[43m \u001b[49m\u001b[38;5;241;43m=\u001b[39;49m\u001b[43m \u001b[49m\u001b[38;5;124;43m\"\u001b[39;49m\u001b[38;5;124;43mindex\u001b[39;49m\u001b[38;5;124;43m\"\u001b[39;49m\u001b[43m)\u001b[49m\n\u001b[0;32m      4\u001b[0m df1\n",
      "File \u001b[1;32m~\\anaconda3\\lib\\site-packages\\pandas\\io\\sql.py:486\u001b[0m, in \u001b[0;36mread_sql_query\u001b[1;34m(sql, con, index_col, coerce_float, params, parse_dates, chunksize, dtype, dtype_backend)\u001b[0m\n\u001b[0;32m    483\u001b[0m \u001b[38;5;28;01massert\u001b[39;00m dtype_backend \u001b[38;5;129;01mis\u001b[39;00m \u001b[38;5;129;01mnot\u001b[39;00m lib\u001b[38;5;241m.\u001b[39mno_default\n\u001b[0;32m    485\u001b[0m \u001b[38;5;28;01mwith\u001b[39;00m pandasSQL_builder(con) \u001b[38;5;28;01mas\u001b[39;00m pandas_sql:\n\u001b[1;32m--> 486\u001b[0m     \u001b[38;5;28;01mreturn\u001b[39;00m \u001b[43mpandas_sql\u001b[49m\u001b[38;5;241;43m.\u001b[39;49m\u001b[43mread_query\u001b[49m\u001b[43m(\u001b[49m\n\u001b[0;32m    487\u001b[0m \u001b[43m        \u001b[49m\u001b[43msql\u001b[49m\u001b[43m,\u001b[49m\n\u001b[0;32m    488\u001b[0m \u001b[43m        \u001b[49m\u001b[43mindex_col\u001b[49m\u001b[38;5;241;43m=\u001b[39;49m\u001b[43mindex_col\u001b[49m\u001b[43m,\u001b[49m\n\u001b[0;32m    489\u001b[0m \u001b[43m        \u001b[49m\u001b[43mparams\u001b[49m\u001b[38;5;241;43m=\u001b[39;49m\u001b[43mparams\u001b[49m\u001b[43m,\u001b[49m\n\u001b[0;32m    490\u001b[0m \u001b[43m        \u001b[49m\u001b[43mcoerce_float\u001b[49m\u001b[38;5;241;43m=\u001b[39;49m\u001b[43mcoerce_float\u001b[49m\u001b[43m,\u001b[49m\n\u001b[0;32m    491\u001b[0m \u001b[43m        \u001b[49m\u001b[43mparse_dates\u001b[49m\u001b[38;5;241;43m=\u001b[39;49m\u001b[43mparse_dates\u001b[49m\u001b[43m,\u001b[49m\n\u001b[0;32m    492\u001b[0m \u001b[43m        \u001b[49m\u001b[43mchunksize\u001b[49m\u001b[38;5;241;43m=\u001b[39;49m\u001b[43mchunksize\u001b[49m\u001b[43m,\u001b[49m\n\u001b[0;32m    493\u001b[0m \u001b[43m        \u001b[49m\u001b[43mdtype\u001b[49m\u001b[38;5;241;43m=\u001b[39;49m\u001b[43mdtype\u001b[49m\u001b[43m,\u001b[49m\n\u001b[0;32m    494\u001b[0m \u001b[43m        \u001b[49m\u001b[43mdtype_backend\u001b[49m\u001b[38;5;241;43m=\u001b[39;49m\u001b[43mdtype_backend\u001b[49m\u001b[43m,\u001b[49m\n\u001b[0;32m    495\u001b[0m \u001b[43m    \u001b[49m\u001b[43m)\u001b[49m\n",
      "File \u001b[1;32m~\\anaconda3\\lib\\site-packages\\pandas\\io\\sql.py:2328\u001b[0m, in \u001b[0;36mSQLiteDatabase.read_query\u001b[1;34m(self, sql, index_col, coerce_float, parse_dates, params, chunksize, dtype, dtype_backend)\u001b[0m\n\u001b[0;32m   2317\u001b[0m \u001b[38;5;28;01mdef\u001b[39;00m \u001b[38;5;21mread_query\u001b[39m(\n\u001b[0;32m   2318\u001b[0m     \u001b[38;5;28mself\u001b[39m,\n\u001b[0;32m   2319\u001b[0m     sql,\n\u001b[1;32m   (...)\u001b[0m\n\u001b[0;32m   2326\u001b[0m     dtype_backend: DtypeBackend \u001b[38;5;241m|\u001b[39m Literal[\u001b[38;5;124m\"\u001b[39m\u001b[38;5;124mnumpy\u001b[39m\u001b[38;5;124m\"\u001b[39m] \u001b[38;5;241m=\u001b[39m \u001b[38;5;124m\"\u001b[39m\u001b[38;5;124mnumpy\u001b[39m\u001b[38;5;124m\"\u001b[39m,\n\u001b[0;32m   2327\u001b[0m ) \u001b[38;5;241m-\u001b[39m\u001b[38;5;241m>\u001b[39m DataFrame \u001b[38;5;241m|\u001b[39m Iterator[DataFrame]:\n\u001b[1;32m-> 2328\u001b[0m     cursor \u001b[38;5;241m=\u001b[39m \u001b[38;5;28;43mself\u001b[39;49m\u001b[38;5;241;43m.\u001b[39;49m\u001b[43mexecute\u001b[49m\u001b[43m(\u001b[49m\u001b[43msql\u001b[49m\u001b[43m,\u001b[49m\u001b[43m \u001b[49m\u001b[43mparams\u001b[49m\u001b[43m)\u001b[49m\n\u001b[0;32m   2329\u001b[0m     columns \u001b[38;5;241m=\u001b[39m [col_desc[\u001b[38;5;241m0\u001b[39m] \u001b[38;5;28;01mfor\u001b[39;00m col_desc \u001b[38;5;129;01min\u001b[39;00m cursor\u001b[38;5;241m.\u001b[39mdescription]\n\u001b[0;32m   2331\u001b[0m     \u001b[38;5;28;01mif\u001b[39;00m chunksize \u001b[38;5;129;01mis\u001b[39;00m \u001b[38;5;129;01mnot\u001b[39;00m \u001b[38;5;28;01mNone\u001b[39;00m:\n",
      "File \u001b[1;32m~\\anaconda3\\lib\\site-packages\\pandas\\io\\sql.py:2276\u001b[0m, in \u001b[0;36mSQLiteDatabase.execute\u001b[1;34m(self, sql, params)\u001b[0m\n\u001b[0;32m   2273\u001b[0m     \u001b[38;5;28;01mraise\u001b[39;00m ex \u001b[38;5;28;01mfrom\u001b[39;00m \u001b[38;5;21;01minner_exc\u001b[39;00m\n\u001b[0;32m   2275\u001b[0m ex \u001b[38;5;241m=\u001b[39m DatabaseError(\u001b[38;5;124mf\u001b[39m\u001b[38;5;124m\"\u001b[39m\u001b[38;5;124mExecution failed on sql \u001b[39m\u001b[38;5;124m'\u001b[39m\u001b[38;5;132;01m{\u001b[39;00msql\u001b[38;5;132;01m}\u001b[39;00m\u001b[38;5;124m'\u001b[39m\u001b[38;5;124m: \u001b[39m\u001b[38;5;132;01m{\u001b[39;00mexc\u001b[38;5;132;01m}\u001b[39;00m\u001b[38;5;124m\"\u001b[39m)\n\u001b[1;32m-> 2276\u001b[0m \u001b[38;5;28;01mraise\u001b[39;00m ex \u001b[38;5;28;01mfrom\u001b[39;00m \u001b[38;5;21;01mexc\u001b[39;00m\n",
      "\u001b[1;31mDatabaseError\u001b[0m: Execution failed on sql 'SELECT * FROM 考試成績;': no such table: 考試成績"
     ]
    }
   ],
   "source": [
    "import sqlite3 as lite\n",
    "with lite.connect(\"學生成績.db\") as con:\n",
    "    df1 = pd.read_sql_query(\"SELECT * FROM 考試成績;\", con = con, index_col = \"index\")\n",
    "df1"
   ]
  },
  {
   "cell_type": "code",
   "execution_count": null,
   "id": "ecaf336b",
   "metadata": {},
   "outputs": [],
   "source": []
  }
 ],
 "metadata": {
  "kernelspec": {
   "display_name": "Python 3 (ipykernel)",
   "language": "python",
   "name": "python3"
  },
  "language_info": {
   "codemirror_mode": {
    "name": "ipython",
    "version": 3
   },
   "file_extension": ".py",
   "mimetype": "text/x-python",
   "name": "python",
   "nbconvert_exporter": "python",
   "pygments_lexer": "ipython3",
   "version": "3.10.9"
  }
 },
 "nbformat": 4,
 "nbformat_minor": 5
}
