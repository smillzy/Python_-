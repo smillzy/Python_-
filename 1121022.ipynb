{
 "cells": [
  {
   "cell_type": "markdown",
   "id": "d60a72a2",
   "metadata": {},
   "source": [
    "#### 動態輸出"
   ]
  },
  {
   "cell_type": "code",
   "execution_count": 9,
   "id": "d4253d93",
   "metadata": {},
   "outputs": [
    {
     "data": {
      "text/plain": [
       "'abc'"
      ]
     },
     "execution_count": 9,
     "metadata": {},
     "output_type": "execute_result"
    }
   ],
   "source": [
    "'%.*s' % (3, 'abcdefghijk') #一定要放'*', 由3決定輸出長度"
   ]
  },
  {
   "cell_type": "code",
   "execution_count": 11,
   "id": "d257a761",
   "metadata": {},
   "outputs": [
    {
     "name": "stdout",
     "output_type": "stream",
     "text": [
      "  abc\n",
      "  abc\n"
     ]
    }
   ],
   "source": [
    "print('%5.3s' % ('abcdefghijk'))\n",
    "\n",
    "print('%*.*s' % (5, 3, 'abcdefghijk')) #這兩個是一樣的"
   ]
  },
  {
   "cell_type": "markdown",
   "id": "23b1150e",
   "metadata": {},
   "source": [
    "### %f : 浮點數"
   ]
  },
  {
   "cell_type": "code",
   "execution_count": 14,
   "id": "4f4fdbe2",
   "metadata": {},
   "outputs": [
    {
     "data": {
      "text/plain": [
       "'123.456789'"
      ]
     },
     "execution_count": 14,
     "metadata": {},
     "output_type": "execute_result"
    }
   ],
   "source": [
    "'%f' % (123.456789159) #python 小數位數顯示6位"
   ]
  },
  {
   "cell_type": "code",
   "execution_count": 15,
   "id": "368c6d75",
   "metadata": {},
   "outputs": [
    {
     "data": {
      "text/plain": [
       "'123.457'"
      ]
     },
     "execution_count": 15,
     "metadata": {},
     "output_type": "execute_result"
    }
   ],
   "source": [
    "'%.3f' % (123.456789159) #往前取一位，四捨五入"
   ]
  },
  {
   "cell_type": "code",
   "execution_count": 17,
   "id": "f010cb72",
   "metadata": {},
   "outputs": [
    {
     "data": {
      "text/plain": [
       "'987654123.457'"
      ]
     },
     "execution_count": 17,
     "metadata": {},
     "output_type": "execute_result"
    }
   ],
   "source": [
    "'%5.3f' % (987654123.456789159) # 失效"
   ]
  },
  {
   "cell_type": "code",
   "execution_count": 19,
   "id": "dca21acb",
   "metadata": {},
   "outputs": [
    {
     "data": {
      "text/plain": [
       "' 3.142'"
      ]
     },
     "execution_count": 19,
     "metadata": {},
     "output_type": "execute_result"
    }
   ],
   "source": [
    "'%6.3f' % (3.14159)"
   ]
  },
  {
   "cell_type": "code",
   "execution_count": 20,
   "id": "3500f57c",
   "metadata": {},
   "outputs": [
    {
     "data": {
      "text/plain": [
       "'03.142'"
      ]
     },
     "execution_count": 20,
     "metadata": {},
     "output_type": "execute_result"
    }
   ],
   "source": [
    "'%06.3f' % (3.14159) #前面補0"
   ]
  },
  {
   "cell_type": "code",
   "execution_count": 22,
   "id": "23da998b",
   "metadata": {},
   "outputs": [
    {
     "data": {
      "text/plain": [
       "'123.457'"
      ]
     },
     "execution_count": 22,
     "metadata": {},
     "output_type": "execute_result"
    }
   ],
   "source": [
    "'%2.3f' % (123.456789159)"
   ]
  },
  {
   "cell_type": "code",
   "execution_count": 24,
   "id": "b6305815",
   "metadata": {},
   "outputs": [
    {
     "name": "stdout",
     "output_type": "stream",
     "text": [
      " 3.14\n",
      "03.14\n"
     ]
    }
   ],
   "source": [
    "print('%*.*f' % (5, 2, 3.14159))\n",
    "print('%0*.*f' % (5, 2, 3.14159))"
   ]
  },
  {
   "cell_type": "markdown",
   "id": "ba68724a",
   "metadata": {},
   "source": [
    "### 2. format (新制 python3.6之後(含))"
   ]
  },
  {
   "cell_type": "code",
   "execution_count": 26,
   "id": "c9f2b79f",
   "metadata": {},
   "outputs": [
    {
     "data": {
      "text/plain": [
       "'123'"
      ]
     },
     "execution_count": 26,
     "metadata": {},
     "output_type": "execute_result"
    }
   ],
   "source": [
    "'{}'.format(123)"
   ]
  },
  {
   "cell_type": "code",
   "execution_count": 27,
   "id": "cb1206e9",
   "metadata": {},
   "outputs": [
    {
     "data": {
      "text/plain": [
       "'123, 456'"
      ]
     },
     "execution_count": 27,
     "metadata": {},
     "output_type": "execute_result"
    }
   ],
   "source": [
    "'{}, {}'.format(123, 456) #order"
   ]
  },
  {
   "cell_type": "code",
   "execution_count": 28,
   "id": "d4d2f34f",
   "metadata": {},
   "outputs": [
    {
     "data": {
      "text/plain": [
       "'456, 123'"
      ]
     },
     "execution_count": 28,
     "metadata": {},
     "output_type": "execute_result"
    }
   ],
   "source": [
    "'{1}, {0}'.format(123, 456) #index, 可以用丟位置索引直改變順序"
   ]
  },
  {
   "cell_type": "code",
   "execution_count": 29,
   "id": "f3c45c75",
   "metadata": {},
   "outputs": [
    {
     "data": {
      "text/plain": [
       "'456, 123'"
      ]
     },
     "execution_count": 29,
     "metadata": {},
     "output_type": "execute_result"
    }
   ],
   "source": [
    "'{bbb}, {aaa}'.format(aaa = 123, bbb = 456) #name"
   ]
  },
  {
   "cell_type": "markdown",
   "id": "962d5e6d",
   "metadata": {},
   "source": [
    "#### order"
   ]
  },
  {
   "cell_type": "code",
   "execution_count": 34,
   "id": "6292dbd6",
   "metadata": {},
   "outputs": [
    {
     "data": {
      "text/plain": [
       "'123, 456'"
      ]
     },
     "execution_count": 34,
     "metadata": {},
     "output_type": "execute_result"
    }
   ],
   "source": [
    "'{}, {}'.format(123, 456)"
   ]
  },
  {
   "cell_type": "code",
   "execution_count": 30,
   "id": "bc953e33",
   "metadata": {},
   "outputs": [
    {
     "data": {
      "text/plain": [
       "'123, abc'"
      ]
     },
     "execution_count": 30,
     "metadata": {},
     "output_type": "execute_result"
    }
   ],
   "source": [
    "'{:d}, {:s}'.format(123, 'abc')"
   ]
  },
  {
   "cell_type": "code",
   "execution_count": 31,
   "id": "9f259b2b",
   "metadata": {},
   "outputs": [
    {
     "data": {
      "text/plain": [
       "'123.457, abc'"
      ]
     },
     "execution_count": 31,
     "metadata": {},
     "output_type": "execute_result"
    }
   ],
   "source": [
    "'{:.3f}, {:.3s}'.format(123.456789, 'abcdef')"
   ]
  },
  {
   "cell_type": "code",
   "execution_count": 37,
   "id": "caff9d87",
   "metadata": {},
   "outputs": [
    {
     "data": {
      "text/plain": [
       "'00123.457, abc  '"
      ]
     },
     "execution_count": 37,
     "metadata": {},
     "output_type": "execute_result"
    }
   ],
   "source": [
    "'{:09.3f}, {:5.3s}'.format(123.456789, 'abcdef')"
   ]
  },
  {
   "cell_type": "code",
   "execution_count": 39,
   "id": "4d9c0784",
   "metadata": {},
   "outputs": [
    {
     "data": {
      "text/plain": [
       "'00123.457,   abc'"
      ]
     },
     "execution_count": 39,
     "metadata": {},
     "output_type": "execute_result"
    }
   ],
   "source": [
    "'{:09.3f}, {:>5.3s}'.format(123.456789, 'abcdef')"
   ]
  },
  {
   "cell_type": "code",
   "execution_count": 42,
   "id": "8350312d",
   "metadata": {},
   "outputs": [
    {
     "data": {
      "text/plain": [
       "'00123.457, **abc**'"
      ]
     },
     "execution_count": 42,
     "metadata": {},
     "output_type": "execute_result"
    }
   ],
   "source": [
    "'{:09.3f}, {:*^7.3s}'.format(123.456789, 'abcdef')\n",
    "           # 空的用 '*' 填滿"
   ]
  },
  {
   "cell_type": "markdown",
   "id": "4527cd0e",
   "metadata": {},
   "source": [
    "#### index"
   ]
  },
  {
   "cell_type": "code",
   "execution_count": 35,
   "id": "4f244a7b",
   "metadata": {},
   "outputs": [
    {
     "data": {
      "text/plain": [
       "'456, 123'"
      ]
     },
     "execution_count": 35,
     "metadata": {},
     "output_type": "execute_result"
    }
   ],
   "source": [
    "'{1}, {0}'.format(123, 456) "
   ]
  },
  {
   "cell_type": "code",
   "execution_count": 33,
   "id": "9c30c08b",
   "metadata": {},
   "outputs": [
    {
     "data": {
      "text/plain": [
       "'abc, 123.457'"
      ]
     },
     "execution_count": 33,
     "metadata": {},
     "output_type": "execute_result"
    }
   ],
   "source": [
    "'{1:.3s}, {0:.3f}'.format(123.456789, 'abcdef')"
   ]
  },
  {
   "cell_type": "code",
   "execution_count": null,
   "id": "daf7153f",
   "metadata": {},
   "outputs": [],
   "source": [
    "'{1:.3s}, {0:.3f}'.format(123.456789, 'abcdef')"
   ]
  },
  {
   "cell_type": "markdown",
   "id": "98487fe1",
   "metadata": {},
   "source": [
    "#### name"
   ]
  },
  {
   "cell_type": "code",
   "execution_count": 38,
   "id": "ab284022",
   "metadata": {},
   "outputs": [
    {
     "data": {
      "text/plain": [
       "'456, 123'"
      ]
     },
     "execution_count": 38,
     "metadata": {},
     "output_type": "execute_result"
    }
   ],
   "source": [
    "'{bbb}, {aaa}'.format(aaa = 123, bbb = 456)"
   ]
  },
  {
   "cell_type": "code",
   "execution_count": 44,
   "id": "78701c45",
   "metadata": {},
   "outputs": [
    {
     "data": {
      "text/plain": [
       "'200, aaa'"
      ]
     },
     "execution_count": 44,
     "metadata": {},
     "output_type": "execute_result"
    }
   ],
   "source": [
    "L1 = [100, 200, 300]\n",
    "L2 = ['aaa', \"bbb\", \"ccc\"]\n",
    "\n",
    "'{}, {}'.format(L1[1], L2[0])"
   ]
  },
  {
   "cell_type": "code",
   "execution_count": 47,
   "id": "06b026cb",
   "metadata": {},
   "outputs": [
    {
     "data": {
      "text/plain": [
       "'abc, 123,456,789'"
      ]
     },
     "execution_count": 47,
     "metadata": {},
     "output_type": "execute_result"
    }
   ],
   "source": [
    "d = {'abc': 123456789, 2: 'abcdef'}\n",
    "# key:value\n",
    "'{1:.3s}, {0:,}'.format(d['abc'], d[2])"
   ]
  },
  {
   "cell_type": "code",
   "execution_count": 48,
   "id": "897977e6",
   "metadata": {},
   "outputs": [
    {
     "data": {
      "text/plain": [
       "'10進制:22, 16進制:16, 8進制:26, 2進制:10110'"
      ]
     },
     "execution_count": 48,
     "metadata": {},
     "output_type": "execute_result"
    }
   ],
   "source": [
    "a = 22\n",
    "'10進制:{0:}, 16進制:{0:x}, 8進制:{0:o}, 2進制:{0:b}'.format(a)"
   ]
  },
  {
   "cell_type": "code",
   "execution_count": 52,
   "id": "ad618498",
   "metadata": {},
   "outputs": [
    {
     "name": "stdout",
     "output_type": "stream",
     "text": [
      "2進制:11_1110_1000\n",
      "10進制:1_000\n"
     ]
    }
   ],
   "source": [
    "a = 1000\n",
    "print('2進制:{0:_b}'.format(a))\n",
    "print('10進制:{0:_}'.format(a))"
   ]
  },
  {
   "cell_type": "code",
   "execution_count": 55,
   "id": "13494072",
   "metadata": {},
   "outputs": [
    {
     "data": {
      "text/plain": [
       "'123.46'"
      ]
     },
     "execution_count": 55,
     "metadata": {},
     "output_type": "execute_result"
    }
   ],
   "source": [
    "'{1:.{0}f}'.format(2, 123.456789) #動態輸出\n",
    "# .{0}f , 索引值0是2 -> .2f"
   ]
  },
  {
   "cell_type": "markdown",
   "id": "cc5a9ac8",
   "metadata": {},
   "source": [
    "### 3. f-string (新制 python3.7之後(含))"
   ]
  },
  {
   "cell_type": "code",
   "execution_count": 56,
   "id": "4b659039",
   "metadata": {},
   "outputs": [
    {
     "data": {
      "text/plain": [
       "'123'"
      ]
     },
     "execution_count": 56,
     "metadata": {},
     "output_type": "execute_result"
    }
   ],
   "source": [
    "aaa = 123\n",
    "f'{aaa}'"
   ]
  },
  {
   "cell_type": "code",
   "execution_count": 57,
   "id": "5a135344",
   "metadata": {},
   "outputs": [
    {
     "data": {
      "text/plain": [
       "'123,456,789'"
      ]
     },
     "execution_count": 57,
     "metadata": {},
     "output_type": "execute_result"
    }
   ],
   "source": [
    "aaa = 123456789\n",
    "f'{aaa:,}'"
   ]
  },
  {
   "cell_type": "code",
   "execution_count": 58,
   "id": "3a7aec50",
   "metadata": {},
   "outputs": [
    {
     "data": {
      "text/plain": [
       "'10進制:22, 16進制:16, 8進制:26, 2進制:10110'"
      ]
     },
     "execution_count": 58,
     "metadata": {},
     "output_type": "execute_result"
    }
   ],
   "source": [
    "a = 22\n",
    "f'10進制:{a:}, 16進制:{a:x}, 8進制:{a:o}, 2進制:{a:b}'.format(a)"
   ]
  },
  {
   "cell_type": "code",
   "execution_count": 59,
   "id": "907bd6e6",
   "metadata": {},
   "outputs": [
    {
     "data": {
      "text/plain": [
       "'81'"
      ]
     },
     "execution_count": 59,
     "metadata": {},
     "output_type": "execute_result"
    }
   ],
   "source": [
    "f'{9*9}'"
   ]
  },
  {
   "cell_type": "code",
   "execution_count": 61,
   "id": "ce5decc3",
   "metadata": {},
   "outputs": [
    {
     "data": {
      "text/plain": [
       "'win32'"
      ]
     },
     "execution_count": 61,
     "metadata": {},
     "output_type": "execute_result"
    }
   ],
   "source": [
    "import sys\n",
    "f'{sys.platform}'"
   ]
  },
  {
   "cell_type": "markdown",
   "id": "6b4b9731",
   "metadata": {},
   "source": [
    "# Python 容器型別\n",
    "\n",
    "1. list 串列 `[ ]`\n",
    "2. tuple 元組\n",
    "3. dict 字典\n",
    "4. set 集合\n",
    "\n",
    "# Numpy 容器型別\n",
    "1. array 陣列 `[ ]`\n",
    "\n",
    "# Pandas 容器型別\n",
    "1. Series 一維\n",
    "2. DataFrame 二維"
   ]
  },
  {
   "cell_type": "markdown",
   "id": "4a6eecc4",
   "metadata": {},
   "source": [
    "### 1. List 串列"
   ]
  },
  {
   "cell_type": "code",
   "execution_count": 63,
   "id": "5c354e83",
   "metadata": {},
   "outputs": [
    {
     "data": {
      "text/plain": [
       "[1, 2, 3, 4, 5]"
      ]
     },
     "execution_count": 63,
     "metadata": {},
     "output_type": "execute_result"
    }
   ],
   "source": [
    "l = [1,2,3,4,5]\n",
    "l"
   ]
  },
  {
   "cell_type": "code",
   "execution_count": 65,
   "id": "0d74dda5",
   "metadata": {},
   "outputs": [
    {
     "data": {
      "text/plain": [
       "[1, 2, 3.14, 'abc', True, b'1101']"
      ]
     },
     "execution_count": 65,
     "metadata": {},
     "output_type": "execute_result"
    }
   ],
   "source": [
    "l = [1,2,3.14,'abc', True, b'1101'] #可以擺放異質資料\n",
    "l"
   ]
  },
  {
   "cell_type": "code",
   "execution_count": 66,
   "id": "27ae6721",
   "metadata": {},
   "outputs": [
    {
     "data": {
      "text/plain": [
       "3.14"
      ]
     },
     "execution_count": 66,
     "metadata": {},
     "output_type": "execute_result"
    }
   ],
   "source": [
    "l[2]"
   ]
  },
  {
   "cell_type": "code",
   "execution_count": 68,
   "id": "64245111",
   "metadata": {},
   "outputs": [
    {
     "data": {
      "text/plain": [
       "[[123], 2, 3.14, 'abc', True, b'1101']"
      ]
     },
     "execution_count": 68,
     "metadata": {},
     "output_type": "execute_result"
    }
   ],
   "source": [
    "l[0] = [123]\n",
    "l # 串列裡可以放串列"
   ]
  },
  {
   "cell_type": "code",
   "execution_count": 70,
   "id": "0862fe34",
   "metadata": {},
   "outputs": [
    {
     "data": {
      "text/plain": [
       "array([1, 2, 3, 4, 5, 6, 7, 8, 9])"
      ]
     },
     "execution_count": 70,
     "metadata": {},
     "output_type": "execute_result"
    }
   ],
   "source": [
    "import numpy as np\n",
    "a = np.array([1,2,3,4,5,6,7,8,9])\n",
    "a"
   ]
  },
  {
   "cell_type": "code",
   "execution_count": 79,
   "id": "329ecd6a",
   "metadata": {},
   "outputs": [
    {
     "name": "stdout",
     "output_type": "stream",
     "text": [
      "[1 2 3 4 5 6 7 8 9]\n"
     ]
    }
   ],
   "source": [
    "print(a)"
   ]
  },
  {
   "cell_type": "code",
   "execution_count": 71,
   "id": "f7ebd8d2",
   "metadata": {},
   "outputs": [
    {
     "data": {
      "text/plain": [
       "numpy.ndarray"
      ]
     },
     "execution_count": 71,
     "metadata": {},
     "output_type": "execute_result"
    }
   ],
   "source": [
    "type(a)"
   ]
  },
  {
   "cell_type": "code",
   "execution_count": 77,
   "id": "898dc9b0",
   "metadata": {},
   "outputs": [
    {
     "name": "stdout",
     "output_type": "stream",
     "text": [
      "形狀: (9,)\n",
      "數量: 9\n",
      "維度: 1\n",
      "資料型別: int32\n",
      "記憶體位置: <memory at 0x000002A09FD5C880>\n"
     ]
    }
   ],
   "source": [
    "print('形狀:', a.shape)\n",
    "print('數量:', a.size)\n",
    "print('維度:', a.ndim)\n",
    "print('資料型別:', a.dtype)\n",
    "print('記憶體位置:', a.data)"
   ]
  },
  {
   "cell_type": "code",
   "execution_count": 75,
   "id": "1b98bc1c",
   "metadata": {},
   "outputs": [
    {
     "data": {
      "text/plain": [
       "array([[1, 2],\n",
       "       [3, 4]])"
      ]
     },
     "execution_count": 75,
     "metadata": {},
     "output_type": "execute_result"
    }
   ],
   "source": [
    "import numpy as np\n",
    "b = np.array([[1,2],[3,4]])\n",
    "b"
   ]
  },
  {
   "cell_type": "code",
   "execution_count": 78,
   "id": "29784d52",
   "metadata": {},
   "outputs": [
    {
     "name": "stdout",
     "output_type": "stream",
     "text": [
      "形狀: (2, 2)\n",
      "數量: 4\n",
      "維度: 2\n",
      "資料型別: int32\n",
      "記憶體位置: <memory at 0x000002A09F1C79F0>\n"
     ]
    }
   ],
   "source": [
    "print('形狀:', b.shape)\n",
    "print('數量:', b.size)\n",
    "print('維度:', b.ndim)\n",
    "print('資料型別:', b.dtype)\n",
    "print('記憶體位置:', b.data)"
   ]
  },
  {
   "cell_type": "markdown",
   "id": "71ec146f",
   "metadata": {},
   "source": [
    "### array與list最大差異\n",
    "\n",
    "|array|list|\n",
    "| :---: | :---: |\n",
    "|僅可放置**單一**種資料型別的資料|可放置**多種**資料型別的資料|\n",
    "|同質資料|異質資料|\n",
    "||int, bool, float, str...|"
   ]
  },
  {
   "cell_type": "code",
   "execution_count": 86,
   "id": "bdc775b6",
   "metadata": {},
   "outputs": [
    {
     "data": {
      "text/plain": [
       "[1, 2, 3.14, 'abc', True, b'1101']"
      ]
     },
     "execution_count": 86,
     "metadata": {},
     "output_type": "execute_result"
    }
   ],
   "source": [
    "l = [1,2,3.14,'abc', True, b'1101'] #可以擺放異質資料\n",
    "l"
   ]
  },
  {
   "cell_type": "code",
   "execution_count": 81,
   "id": "79e97bde",
   "metadata": {},
   "outputs": [
    {
     "data": {
      "text/plain": [
       "array(['1', '2', '3.14', 'abc', 'True', '1101'], dtype='<U32')"
      ]
     },
     "execution_count": 81,
     "metadata": {},
     "output_type": "execute_result"
    }
   ],
   "source": [
    "np.array([1,2,3.14,'abc', True, b'1101']) #不應該更改的東西被強制轉換，array無法放異質資料"
   ]
  },
  {
   "cell_type": "code",
   "execution_count": 84,
   "id": "10b1b058",
   "metadata": {},
   "outputs": [
    {
     "data": {
      "text/plain": [
       "array([35, 45, 90, 62,  9])"
      ]
     },
     "execution_count": 84,
     "metadata": {},
     "output_type": "execute_result"
    }
   ],
   "source": [
    "import numpy as np\n",
    "a = np.random.randint(101, size = 5)\n",
    "a"
   ]
  },
  {
   "cell_type": "code",
   "execution_count": 85,
   "id": "8060abe4",
   "metadata": {},
   "outputs": [
    {
     "data": {
      "text/plain": [
       "dtype('int32')"
      ]
     },
     "execution_count": 85,
     "metadata": {},
     "output_type": "execute_result"
    }
   ],
   "source": [
    "a.dtype"
   ]
  },
  {
   "cell_type": "code",
   "execution_count": 90,
   "id": "f79e4d71",
   "metadata": {},
   "outputs": [
    {
     "data": {
      "text/plain": [
       "array([35, 45,  3, 62,  9])"
      ]
     },
     "execution_count": 90,
     "metadata": {},
     "output_type": "execute_result"
    }
   ],
   "source": [
    "a[2] = 3.14159\n",
    "a"
   ]
  },
  {
   "cell_type": "code",
   "execution_count": 91,
   "id": "ade09736",
   "metadata": {},
   "outputs": [
    {
     "ename": "ValueError",
     "evalue": "invalid literal for int() with base 10: 'abc'",
     "output_type": "error",
     "traceback": [
      "\u001b[1;31m---------------------------------------------------------------------------\u001b[0m",
      "\u001b[1;31mValueError\u001b[0m                                Traceback (most recent call last)",
      "Cell \u001b[1;32mIn[91], line 1\u001b[0m\n\u001b[1;32m----> 1\u001b[0m a[\u001b[38;5;241m2\u001b[39m] \u001b[38;5;241m=\u001b[39m \u001b[38;5;124m'\u001b[39m\u001b[38;5;124mabc\u001b[39m\u001b[38;5;124m'\u001b[39m\n\u001b[0;32m      2\u001b[0m a\n",
      "\u001b[1;31mValueError\u001b[0m: invalid literal for int() with base 10: 'abc'"
     ]
    }
   ],
   "source": [
    "a[2] = 'abc'\n",
    "a"
   ]
  },
  {
   "cell_type": "code",
   "execution_count": 92,
   "id": "d7407741",
   "metadata": {},
   "outputs": [
    {
     "data": {
      "text/plain": [
       "[1, 2, 3.14, 'abc', True, b'1101']"
      ]
     },
     "execution_count": 92,
     "metadata": {},
     "output_type": "execute_result"
    }
   ],
   "source": [
    "l = [1,2,3.14,'abc', True, b'1101'] #可以擺放異質資料\n",
    "l"
   ]
  },
  {
   "cell_type": "code",
   "execution_count": 94,
   "id": "69810274",
   "metadata": {},
   "outputs": [
    {
     "data": {
      "text/plain": [
       "[99, 78, 61, 16, 73]"
      ]
     },
     "execution_count": 94,
     "metadata": {},
     "output_type": "execute_result"
    }
   ],
   "source": [
    "import numpy as np\n",
    "np.random.seed(5) # 亂數產生 隨機種子\n",
    "l = list(np.random.randint(101, size = 5)) # 將陣列強制轉型成串列\n",
    "l "
   ]
  },
  {
   "cell_type": "code",
   "execution_count": 102,
   "id": "8fc539f6",
   "metadata": {},
   "outputs": [
    {
     "data": {
      "text/plain": [
       "(99, 16, 327, 5, 65.4)"
      ]
     },
     "execution_count": 102,
     "metadata": {},
     "output_type": "execute_result"
    }
   ],
   "source": [
    "max(l), min(l), sum(l), len(l), sum(l)/len(l) #python內建函數"
   ]
  },
  {
   "cell_type": "code",
   "execution_count": 103,
   "id": "a451db96",
   "metadata": {},
   "outputs": [
    {
     "data": {
      "text/plain": [
       "[16, 61, 73, 78, 99]"
      ]
     },
     "execution_count": 103,
     "metadata": {},
     "output_type": "execute_result"
    }
   ],
   "source": [
    "sorted(l) #遞增排序"
   ]
  },
  {
   "cell_type": "code",
   "execution_count": 104,
   "id": "0df08a2e",
   "metadata": {},
   "outputs": [
    {
     "data": {
      "text/plain": [
       "[99, 78, 61, 16, 73]"
      ]
     },
     "execution_count": 104,
     "metadata": {},
     "output_type": "execute_result"
    }
   ],
   "source": [
    "l # 用內建函數功能，不會影響原本順序"
   ]
  },
  {
   "cell_type": "code",
   "execution_count": 105,
   "id": "8495b0d1",
   "metadata": {},
   "outputs": [
    {
     "data": {
      "text/plain": [
       "[16, 61, 73, 78, 99]"
      ]
     },
     "execution_count": 105,
     "metadata": {},
     "output_type": "execute_result"
    }
   ],
   "source": [
    "l.sort() #用list排序會改變原本順序，遞增排序\n",
    "l"
   ]
  },
  {
   "cell_type": "code",
   "execution_count": 106,
   "id": "3983fc99",
   "metadata": {},
   "outputs": [
    {
     "data": {
      "text/plain": [
       "[99, 78, 73, 61, 16]"
      ]
     },
     "execution_count": 106,
     "metadata": {},
     "output_type": "execute_result"
    }
   ],
   "source": [
    "l.sort(reverse = True) #用list排序會改變原本順序，遞減排序\n",
    "l"
   ]
  },
  {
   "cell_type": "code",
   "execution_count": 109,
   "id": "77b9d210",
   "metadata": {},
   "outputs": [
    {
     "name": "stdout",
     "output_type": "stream",
     "text": [
      "[99, 78, 61, 16, 73] [8, 100, 62, 27, 30]\n"
     ]
    }
   ],
   "source": [
    "import numpy as np\n",
    "np.random.seed(5) \n",
    "l1 = list(np.random.randint(101, size = 5)) \n",
    "l1 \n",
    "l2 = list(np.random.randint(101, size = 5)) \n",
    "l2 \n",
    "\n",
    "print(l1, l2)"
   ]
  },
  {
   "cell_type": "code",
   "execution_count": 110,
   "id": "08a50a47",
   "metadata": {},
   "outputs": [
    {
     "data": {
      "text/plain": [
       "[99, 78, 61, 16, 73, 8, 100, 62, 27, 30]"
      ]
     },
     "execution_count": 110,
     "metadata": {},
     "output_type": "execute_result"
    }
   ],
   "source": [
    "l1 + l2"
   ]
  },
  {
   "cell_type": "code",
   "execution_count": 111,
   "id": "54f09c7c",
   "metadata": {},
   "outputs": [
    {
     "data": {
      "text/plain": [
       "[99, 78, 61, 16, 73]"
      ]
     },
     "execution_count": 111,
     "metadata": {},
     "output_type": "execute_result"
    }
   ],
   "source": [
    "l1 #合併不影響原本值"
   ]
  },
  {
   "cell_type": "code",
   "execution_count": 114,
   "id": "4d85d3c6",
   "metadata": {},
   "outputs": [
    {
     "name": "stdout",
     "output_type": "stream",
     "text": [
      "[99, 78, 61, 16, 73, 8, 100, 62, 27, 30, 8, 100, 62, 27, 30, 8, 100, 62, 27, 30]\n",
      "[8, 100, 62, 27, 30]\n"
     ]
    }
   ],
   "source": [
    "l1.extend(l2) # extend會改變資料，僅存放物件元素\n",
    "print(l1)\n",
    "print(l2)"
   ]
  },
  {
   "cell_type": "code",
   "execution_count": 122,
   "id": "011057f3",
   "metadata": {},
   "outputs": [
    {
     "data": {
      "text/plain": [
       "[47, 68, 25, 67, 83]"
      ]
     },
     "execution_count": 122,
     "metadata": {},
     "output_type": "execute_result"
    }
   ],
   "source": [
    "import numpy as np\n",
    "np.random.seed(5) \n",
    "l1 = list(np.random.randint(101, size = 5)) \n",
    "l1 \n",
    "np.random.seed(7) \n",
    "l2 = list(np.random.randint(101, size = 5)) \n",
    "l2 "
   ]
  },
  {
   "cell_type": "code",
   "execution_count": 121,
   "id": "9b390a1c",
   "metadata": {},
   "outputs": [
    {
     "data": {
      "text/plain": [
       "[99, 78, 61, 16, 73, [47, 68, 25, 67, 83]]"
      ]
     },
     "execution_count": 121,
     "metadata": {},
     "output_type": "execute_result"
    }
   ],
   "source": [
    "l1.append(l2) # append丟整個物件資料\n",
    "l1"
   ]
  },
  {
   "cell_type": "code",
   "execution_count": 126,
   "id": "a1bc45ce",
   "metadata": {},
   "outputs": [
    {
     "ename": "AttributeError",
     "evalue": "'NoneType' object has no attribute 'append'",
     "output_type": "error",
     "traceback": [
      "\u001b[1;31m---------------------------------------------------------------------------\u001b[0m",
      "\u001b[1;31mAttributeError\u001b[0m                            Traceback (most recent call last)",
      "Cell \u001b[1;32mIn[126], line 1\u001b[0m\n\u001b[1;32m----> 1\u001b[0m l1 \u001b[38;5;241m=\u001b[39m \u001b[43ml1\u001b[49m\u001b[38;5;241;43m.\u001b[39;49m\u001b[43mappend\u001b[49m(l2)\n\u001b[0;32m      2\u001b[0m l1\n",
      "\u001b[1;31mAttributeError\u001b[0m: 'NoneType' object has no attribute 'append'"
     ]
    }
   ],
   "source": [
    "l1 = l1.append(l2) # append無回傳資料，所以不用複寫 -> 'l1 ='\n",
    "l1"
   ]
  },
  {
   "cell_type": "code",
   "execution_count": 143,
   "id": "eb0060d6",
   "metadata": {},
   "outputs": [],
   "source": [
    "import numpy as np\n",
    "np.random.seed(5) \n",
    "l1 = list(np.random.randint(101, size = 5)) \n",
    "np.random.seed(7) \n",
    "l2 = list(np.random.randint(101, size = 5)) "
   ]
  },
  {
   "cell_type": "code",
   "execution_count": 138,
   "id": "1e0076b8",
   "metadata": {},
   "outputs": [
    {
     "data": {
      "text/plain": [
       "[99, 78, 61, 16, 73]"
      ]
     },
     "execution_count": 138,
     "metadata": {},
     "output_type": "execute_result"
    }
   ],
   "source": [
    "l1"
   ]
  },
  {
   "cell_type": "code",
   "execution_count": 139,
   "id": "c3392428",
   "metadata": {},
   "outputs": [
    {
     "data": {
      "text/plain": [
       "73"
      ]
     },
     "execution_count": 139,
     "metadata": {},
     "output_type": "execute_result"
    }
   ],
   "source": [
    "l1.pop() # 取最後一個值"
   ]
  },
  {
   "cell_type": "code",
   "execution_count": 140,
   "id": "13402186",
   "metadata": {},
   "outputs": [
    {
     "data": {
      "text/plain": [
       "[99, 78, 61, 16]"
      ]
     },
     "execution_count": 140,
     "metadata": {},
     "output_type": "execute_result"
    }
   ],
   "source": [
    "l1"
   ]
  },
  {
   "cell_type": "code",
   "execution_count": 141,
   "id": "edf90090",
   "metadata": {},
   "outputs": [
    {
     "data": {
      "text/plain": [
       "[99, 78, 61, 16, 73]"
      ]
     },
     "execution_count": 141,
     "metadata": {},
     "output_type": "execute_result"
    }
   ],
   "source": [
    "l1.append(73) # 加入值\n",
    "l1"
   ]
  },
  {
   "cell_type": "code",
   "execution_count": 142,
   "id": "a4f4d8a6",
   "metadata": {},
   "outputs": [
    {
     "data": {
      "text/plain": [
       "[99, 78, 16, 73]"
      ]
     },
     "execution_count": 142,
     "metadata": {},
     "output_type": "execute_result"
    }
   ],
   "source": [
    "l1.pop(2) # 可以針對要的值取出\n",
    "l1 "
   ]
  },
  {
   "cell_type": "code",
   "execution_count": 148,
   "id": "cc6bd0df",
   "metadata": {},
   "outputs": [],
   "source": [
    "import numpy as np\n",
    "np.random.seed(5) \n",
    "l1 = list(np.random.randint(101, size = 5)) \n",
    "np.random.seed(7) \n",
    "l2 = list(np.random.randint(101, size = 5)) "
   ]
  },
  {
   "cell_type": "code",
   "execution_count": 149,
   "id": "a88a3b87",
   "metadata": {},
   "outputs": [
    {
     "data": {
      "text/plain": [
       "[99, 78, 61, 16, 73]"
      ]
     },
     "execution_count": 149,
     "metadata": {},
     "output_type": "execute_result"
    }
   ],
   "source": [
    "l1"
   ]
  },
  {
   "cell_type": "code",
   "execution_count": 150,
   "id": "d1ffebbd",
   "metadata": {},
   "outputs": [
    {
     "data": {
      "text/plain": [
       "[99, 78, 16, 73]"
      ]
     },
     "execution_count": 150,
     "metadata": {},
     "output_type": "execute_result"
    }
   ],
   "source": [
    "l1.remove(61) # 第一次\n",
    "l1"
   ]
  },
  {
   "cell_type": "code",
   "execution_count": 151,
   "id": "b9ffdbb2",
   "metadata": {},
   "outputs": [
    {
     "ename": "ValueError",
     "evalue": "list.remove(x): x not in list",
     "output_type": "error",
     "traceback": [
      "\u001b[1;31m---------------------------------------------------------------------------\u001b[0m",
      "\u001b[1;31mValueError\u001b[0m                                Traceback (most recent call last)",
      "Cell \u001b[1;32mIn[151], line 1\u001b[0m\n\u001b[1;32m----> 1\u001b[0m \u001b[43ml1\u001b[49m\u001b[38;5;241;43m.\u001b[39;49m\u001b[43mremove\u001b[49m\u001b[43m(\u001b[49m\u001b[38;5;241;43m61\u001b[39;49m\u001b[43m)\u001b[49m \u001b[38;5;66;03m# 重複做第二次\u001b[39;00m\n\u001b[0;32m      2\u001b[0m l1\n",
      "\u001b[1;31mValueError\u001b[0m: list.remove(x): x not in list"
     ]
    }
   ],
   "source": [
    "l1.remove(61) # 重複做第二次，針對list有存在的資料進行刪除，不存在的資料無法刪\n",
    "l1"
   ]
  },
  {
   "cell_type": "code",
   "execution_count": 152,
   "id": "a3f858fe",
   "metadata": {},
   "outputs": [],
   "source": [
    "l1.clear()"
   ]
  },
  {
   "cell_type": "code",
   "execution_count": 153,
   "id": "5db45c0e",
   "metadata": {},
   "outputs": [
    {
     "data": {
      "text/plain": [
       "[]"
      ]
     },
     "execution_count": 153,
     "metadata": {},
     "output_type": "execute_result"
    }
   ],
   "source": [
    "l1"
   ]
  },
  {
   "cell_type": "code",
   "execution_count": 7,
   "id": "fad5c08e",
   "metadata": {},
   "outputs": [],
   "source": [
    "import numpy as np\n",
    "np.random.seed(5) \n",
    "l1 = list(np.random.randint(101, size = 5)) \n",
    "np.random.seed(7) \n",
    "l2 = list(np.random.randint(101, size = 5)) "
   ]
  },
  {
   "cell_type": "code",
   "execution_count": 8,
   "id": "ed8b7ea0",
   "metadata": {},
   "outputs": [
    {
     "data": {
      "text/plain": [
       "1"
      ]
     },
     "execution_count": 8,
     "metadata": {},
     "output_type": "execute_result"
    }
   ],
   "source": [
    "l1.count(61)"
   ]
  },
  {
   "cell_type": "code",
   "execution_count": 9,
   "id": "65a85c17",
   "metadata": {},
   "outputs": [
    {
     "data": {
      "text/plain": [
       "2"
      ]
     },
     "execution_count": 9,
     "metadata": {},
     "output_type": "execute_result"
    }
   ],
   "source": [
    "l1.index(61)"
   ]
  },
  {
   "cell_type": "markdown",
   "id": "acb2a1d3",
   "metadata": {},
   "source": [
    "### 2. tuple 元組\n",
    "\n",
    "- 一旦建立後，就無法修改\n",
    "- 符號為 `（)`"
   ]
  },
  {
   "cell_type": "code",
   "execution_count": 10,
   "id": "cb401cb8",
   "metadata": {},
   "outputs": [
    {
     "data": {
      "text/plain": [
       "(1, 2, 3.14, 'abc', True, b'1101')"
      ]
     },
     "execution_count": 10,
     "metadata": {},
     "output_type": "execute_result"
    }
   ],
   "source": [
    "t = (1,2,3.14,'abc', True, b'1101')\n",
    "t"
   ]
  },
  {
   "cell_type": "code",
   "execution_count": 155,
   "id": "f60545cb",
   "metadata": {},
   "outputs": [
    {
     "data": {
      "text/plain": [
       "3.14"
      ]
     },
     "execution_count": 155,
     "metadata": {},
     "output_type": "execute_result"
    }
   ],
   "source": [
    "t[2]"
   ]
  },
  {
   "cell_type": "code",
   "execution_count": 156,
   "id": "af1e4c0c",
   "metadata": {},
   "outputs": [
    {
     "ename": "TypeError",
     "evalue": "'tuple' object does not support item assignment",
     "output_type": "error",
     "traceback": [
      "\u001b[1;31m---------------------------------------------------------------------------\u001b[0m",
      "\u001b[1;31mTypeError\u001b[0m                                 Traceback (most recent call last)",
      "Cell \u001b[1;32mIn[156], line 1\u001b[0m\n\u001b[1;32m----> 1\u001b[0m t[\u001b[38;5;241m2\u001b[39m] \u001b[38;5;241m=\u001b[39m \u001b[38;5;241m123.456\u001b[39m\n",
      "\u001b[1;31mTypeError\u001b[0m: 'tuple' object does not support item assignment"
     ]
    }
   ],
   "source": [
    "t[2] = 123.456"
   ]
  },
  {
   "cell_type": "code",
   "execution_count": 1,
   "id": "f83675d7",
   "metadata": {},
   "outputs": [
    {
     "ename": "NameError",
     "evalue": "name 't' is not defined",
     "output_type": "error",
     "traceback": [
      "\u001b[1;31m---------------------------------------------------------------------------\u001b[0m",
      "\u001b[1;31mNameError\u001b[0m                                 Traceback (most recent call last)",
      "Cell \u001b[1;32mIn[1], line 1\u001b[0m\n\u001b[1;32m----> 1\u001b[0m \u001b[43mt\u001b[49m\u001b[38;5;241m.\u001b[39mpop()\n",
      "\u001b[1;31mNameError\u001b[0m: name 't' is not defined"
     ]
    }
   ],
   "source": [
    "t.pop()"
   ]
  },
  {
   "cell_type": "code",
   "execution_count": 2,
   "id": "554c1a0d",
   "metadata": {},
   "outputs": [
    {
     "ename": "NameError",
     "evalue": "name 't' is not defined",
     "output_type": "error",
     "traceback": [
      "\u001b[1;31m---------------------------------------------------------------------------\u001b[0m",
      "\u001b[1;31mNameError\u001b[0m                                 Traceback (most recent call last)",
      "Cell \u001b[1;32mIn[2], line 1\u001b[0m\n\u001b[1;32m----> 1\u001b[0m \u001b[43mt\u001b[49m\u001b[38;5;241m.\u001b[39mremove()\n",
      "\u001b[1;31mNameError\u001b[0m: name 't' is not defined"
     ]
    }
   ],
   "source": [
    "t.remove()"
   ]
  },
  {
   "cell_type": "code",
   "execution_count": 5,
   "id": "e6b4daae",
   "metadata": {},
   "outputs": [
    {
     "data": {
      "text/plain": [
       "1"
      ]
     },
     "execution_count": 5,
     "metadata": {},
     "output_type": "execute_result"
    }
   ],
   "source": [
    "t.count(3.14)"
   ]
  },
  {
   "cell_type": "code",
   "execution_count": 12,
   "id": "e83a5608",
   "metadata": {},
   "outputs": [
    {
     "data": {
      "text/plain": [
       "tuple"
      ]
     },
     "execution_count": 12,
     "metadata": {},
     "output_type": "execute_result"
    }
   ],
   "source": [
    "import numpy as np\n",
    "np.random.seed(5) \n",
    "l1 = tuple(np.random.randint(101, size = 5)) \n",
    "type(l1)"
   ]
  },
  {
   "cell_type": "markdown",
   "id": "efa9a9ae",
   "metadata": {},
   "source": [
    "### 3. dict字典\n",
    "\n",
    "- 格式1 `{key:value}`\n",
    "- 格式2 `dict(key = value)`\n",
    "- key是唯一值\n",
    "- value可重複\n",
    "- 使用dict(key = value)建立字典，key不能使用數字，需使用`字母`, `_`\n",
    "- key不能更改"
   ]
  },
  {
   "cell_type": "code",
   "execution_count": 14,
   "id": "f490a1ef",
   "metadata": {},
   "outputs": [
    {
     "data": {
      "text/plain": [
       "{'a': 1, 'b': 2}"
      ]
     },
     "execution_count": 14,
     "metadata": {},
     "output_type": "execute_result"
    }
   ],
   "source": [
    "d = {'a':1, 'b':2}\n",
    "d"
   ]
  },
  {
   "cell_type": "code",
   "execution_count": 15,
   "id": "96f75f49",
   "metadata": {},
   "outputs": [
    {
     "data": {
      "text/plain": [
       "{1: 2, 3: 4, 5: 6}"
      ]
     },
     "execution_count": 15,
     "metadata": {},
     "output_type": "execute_result"
    }
   ],
   "source": [
    "d = {1:2, 3:4, 5:6}\n",
    "d"
   ]
  },
  {
   "cell_type": "code",
   "execution_count": 16,
   "id": "5450e7ea",
   "metadata": {},
   "outputs": [
    {
     "data": {
      "text/plain": [
       "{'a': 1, 'b': 2}"
      ]
     },
     "execution_count": 16,
     "metadata": {},
     "output_type": "execute_result"
    }
   ],
   "source": [
    "d = dict(a = 1, b = 2)\n",
    "d"
   ]
  },
  {
   "cell_type": "code",
   "execution_count": 17,
   "id": "367b097e",
   "metadata": {},
   "outputs": [
    {
     "ename": "SyntaxError",
     "evalue": "expression cannot contain assignment, perhaps you meant \"==\"? (389718835.py, line 1)",
     "output_type": "error",
     "traceback": [
      "\u001b[1;36m  Cell \u001b[1;32mIn[17], line 1\u001b[1;36m\u001b[0m\n\u001b[1;33m    d = dict(1 = 2, 3 = 4, 5 = 6)\u001b[0m\n\u001b[1;37m             ^\u001b[0m\n\u001b[1;31mSyntaxError\u001b[0m\u001b[1;31m:\u001b[0m expression cannot contain assignment, perhaps you meant \"==\"?\n"
     ]
    }
   ],
   "source": [
    "d = dict(1 = 2, 3 = 4, 5 = 6)\n",
    "d"
   ]
  },
  {
   "cell_type": "code",
   "execution_count": 18,
   "id": "252a435c",
   "metadata": {},
   "outputs": [
    {
     "data": {
      "text/plain": [
       "{'_': 1}"
      ]
     },
     "execution_count": 18,
     "metadata": {},
     "output_type": "execute_result"
    }
   ],
   "source": [
    "d = dict(_ = 1)\n",
    "d"
   ]
  },
  {
   "cell_type": "markdown",
   "id": "abc33984",
   "metadata": {},
   "source": [
    "#### 取值"
   ]
  },
  {
   "cell_type": "code",
   "execution_count": 19,
   "id": "8114a4c8",
   "metadata": {},
   "outputs": [
    {
     "data": {
      "text/plain": [
       "{'a': 1, 'b': 2}"
      ]
     },
     "execution_count": 19,
     "metadata": {},
     "output_type": "execute_result"
    }
   ],
   "source": [
    "d = {'a':1, 'b':2}\n",
    "d"
   ]
  },
  {
   "cell_type": "code",
   "execution_count": 20,
   "id": "e2e9eee4",
   "metadata": {},
   "outputs": [
    {
     "data": {
      "text/plain": [
       "1"
      ]
     },
     "execution_count": 20,
     "metadata": {},
     "output_type": "execute_result"
    }
   ],
   "source": [
    "d['a']"
   ]
  },
  {
   "cell_type": "code",
   "execution_count": 23,
   "id": "36ea8e95",
   "metadata": {},
   "outputs": [
    {
     "data": {
      "text/plain": [
       "dict_keys(['a', 'b', 'c'])"
      ]
     },
     "execution_count": 23,
     "metadata": {},
     "output_type": "execute_result"
    }
   ],
   "source": [
    "d.keys()"
   ]
  },
  {
   "cell_type": "code",
   "execution_count": 24,
   "id": "8a3e98a9",
   "metadata": {
    "scrolled": true
   },
   "outputs": [
    {
     "data": {
      "text/plain": [
       "dict_values([3, 2, 5])"
      ]
     },
     "execution_count": 24,
     "metadata": {},
     "output_type": "execute_result"
    }
   ],
   "source": [
    "d.values()"
   ]
  },
  {
   "cell_type": "code",
   "execution_count": 25,
   "id": "ef4d1ebf",
   "metadata": {},
   "outputs": [
    {
     "data": {
      "text/plain": [
       "dict_items([('a', 3), ('b', 2), ('c', 5)])"
      ]
     },
     "execution_count": 25,
     "metadata": {},
     "output_type": "execute_result"
    }
   ],
   "source": [
    "d.items()"
   ]
  },
  {
   "cell_type": "markdown",
   "id": "5a3fb22b",
   "metadata": {},
   "source": [
    "#### 改值"
   ]
  },
  {
   "cell_type": "code",
   "execution_count": 21,
   "id": "13b9c2b0",
   "metadata": {},
   "outputs": [
    {
     "data": {
      "text/plain": [
       "{'a': 3, 'b': 2}"
      ]
     },
     "execution_count": 21,
     "metadata": {},
     "output_type": "execute_result"
    }
   ],
   "source": [
    "d['a'] = 3\n",
    "d"
   ]
  },
  {
   "cell_type": "markdown",
   "id": "b9b7e8bb",
   "metadata": {},
   "source": [
    "#### 新增"
   ]
  },
  {
   "cell_type": "code",
   "execution_count": 22,
   "id": "08b10390",
   "metadata": {},
   "outputs": [
    {
     "data": {
      "text/plain": [
       "{'a': 3, 'b': 2, 'c': 5}"
      ]
     },
     "execution_count": 22,
     "metadata": {},
     "output_type": "execute_result"
    }
   ],
   "source": [
    "d['c'] = 5\n",
    "d"
   ]
  },
  {
   "cell_type": "markdown",
   "id": "b80b359d",
   "metadata": {},
   "source": [
    "#### 查詢"
   ]
  },
  {
   "cell_type": "code",
   "execution_count": 26,
   "id": "dc98def8",
   "metadata": {},
   "outputs": [
    {
     "data": {
      "text/plain": [
       "5"
      ]
     },
     "execution_count": 26,
     "metadata": {},
     "output_type": "execute_result"
    }
   ],
   "source": [
    "d['c']"
   ]
  },
  {
   "cell_type": "code",
   "execution_count": 27,
   "id": "2cb6a3c3",
   "metadata": {},
   "outputs": [
    {
     "ename": "KeyError",
     "evalue": "'f'",
     "output_type": "error",
     "traceback": [
      "\u001b[1;31m---------------------------------------------------------------------------\u001b[0m",
      "\u001b[1;31mKeyError\u001b[0m                                  Traceback (most recent call last)",
      "Cell \u001b[1;32mIn[27], line 1\u001b[0m\n\u001b[1;32m----> 1\u001b[0m \u001b[43md\u001b[49m\u001b[43m[\u001b[49m\u001b[38;5;124;43m'\u001b[39;49m\u001b[38;5;124;43mf\u001b[39;49m\u001b[38;5;124;43m'\u001b[39;49m\u001b[43m]\u001b[49m\n",
      "\u001b[1;31mKeyError\u001b[0m: 'f'"
     ]
    }
   ],
   "source": [
    "d['f'] #不存在"
   ]
  },
  {
   "cell_type": "code",
   "execution_count": 29,
   "id": "eb407655",
   "metadata": {},
   "outputs": [
    {
     "data": {
      "text/plain": [
       "404"
      ]
     },
     "execution_count": 29,
     "metadata": {},
     "output_type": "execute_result"
    }
   ],
   "source": [
    "d.get('f', 404) #查找是否存在"
   ]
  },
  {
   "cell_type": "markdown",
   "id": "98ebc8a8",
   "metadata": {},
   "source": [
    "#### 加參數"
   ]
  },
  {
   "cell_type": "code",
   "execution_count": 32,
   "id": "a64336aa",
   "metadata": {},
   "outputs": [
    {
     "data": {
      "text/plain": [
       "{'a': 3, 'b': 2, 'c': 5, 'd': 100, 'e': 50, 'f': 9}"
      ]
     },
     "execution_count": 32,
     "metadata": {},
     "output_type": "execute_result"
    }
   ],
   "source": [
    "d['d'] = 100\n",
    "d['e'] = 50\n",
    "d['f'] = 9\n",
    "d"
   ]
  },
  {
   "cell_type": "code",
   "execution_count": 33,
   "id": "ccc2d2df",
   "metadata": {},
   "outputs": [
    {
     "data": {
      "text/plain": [
       "{'a': 3,\n",
       " 'b': 2,\n",
       " 'c': 5,\n",
       " 'd': 100,\n",
       " 'e': 50,\n",
       " 'f': 9,\n",
       " 'g': 7,\n",
       " 'h': 3.14,\n",
       " 'i': 'abc'}"
      ]
     },
     "execution_count": 33,
     "metadata": {},
     "output_type": "execute_result"
    }
   ],
   "source": [
    "d.update({'g': 7, 'h': 3.14, \"i\":'abc'})\n",
    "d"
   ]
  },
  {
   "cell_type": "markdown",
   "id": "467bf269",
   "metadata": {},
   "source": [
    "#### 刪除"
   ]
  },
  {
   "cell_type": "code",
   "execution_count": 35,
   "id": "fbeaea98",
   "metadata": {},
   "outputs": [
    {
     "data": {
      "text/plain": [
       "{'a': 3, 'b': 2, 'd': 100, 'e': 50, 'f': 9, 'g': 7, 'h': 3.14, 'i': 'abc'}"
      ]
     },
     "execution_count": 35,
     "metadata": {},
     "output_type": "execute_result"
    }
   ],
   "source": [
    "del d['c']\n",
    "d"
   ]
  },
  {
   "cell_type": "code",
   "execution_count": 1,
   "id": "36ce6e0a",
   "metadata": {},
   "outputs": [],
   "source": [
    "import numpy as np\n",
    "np.random.seed(5) \n",
    "l1 = list(np.random.randint(101, size = 5)) \n",
    "np.random.seed(7) \n",
    "l2 = list(np.random.randint(101, size = 5)) "
   ]
  },
  {
   "cell_type": "code",
   "execution_count": 37,
   "id": "b0d12506",
   "metadata": {},
   "outputs": [
    {
     "data": {
      "text/plain": [
       "([99, 78, 61, 16, 73], [47, 68, 25, 67, 83])"
      ]
     },
     "execution_count": 37,
     "metadata": {},
     "output_type": "execute_result"
    }
   ],
   "source": [
    "l1,l2"
   ]
  },
  {
   "cell_type": "code",
   "execution_count": 38,
   "id": "673d381e",
   "metadata": {},
   "outputs": [
    {
     "data": {
      "text/plain": [
       "{99: 47, 78: 68, 61: 25, 16: 67, 73: 83}"
      ]
     },
     "execution_count": 38,
     "metadata": {},
     "output_type": "execute_result"
    }
   ],
   "source": [
    "dict(zip(l1,l2))"
   ]
  },
  {
   "cell_type": "markdown",
   "id": "620d7db9",
   "metadata": {},
   "source": [
    "### 迴圈 for\n",
    "- 同一件事重複做\n",
    "\n",
    "```Python\n",
    "for 變數 in 序列資料:\n",
    "    執行重複的事\n",
    "```"
   ]
  },
  {
   "cell_type": "code",
   "execution_count": 39,
   "id": "f0f32ce1",
   "metadata": {},
   "outputs": [
    {
     "name": "stdout",
     "output_type": "stream",
     "text": [
      "1\n",
      "2\n",
      "3\n",
      "4\n",
      "5\n"
     ]
    }
   ],
   "source": [
    "for i in [1,2,3,4,5]:\n",
    "    print(i)"
   ]
  },
  {
   "cell_type": "code",
   "execution_count": 41,
   "id": "bf5ae4dd",
   "metadata": {},
   "outputs": [
    {
     "name": "stdout",
     "output_type": "stream",
     "text": [
      "a\n",
      "b\n",
      "d\n",
      "e\n",
      "f\n",
      "g\n",
      "h\n",
      "i\n"
     ]
    }
   ],
   "source": [
    "for k in d.keys():\n",
    "    print(k)"
   ]
  },
  {
   "cell_type": "code",
   "execution_count": 44,
   "id": "f9badac8",
   "metadata": {},
   "outputs": [
    {
     "name": "stdout",
     "output_type": "stream",
     "text": [
      "a 3\n",
      "b 2\n",
      "d 100\n",
      "e 50\n",
      "f 9\n",
      "g 7\n",
      "h 3.14\n",
      "i abc\n"
     ]
    }
   ],
   "source": [
    "for k in d.keys():\n",
    "    print(k,d[k])"
   ]
  },
  {
   "cell_type": "code",
   "execution_count": 45,
   "id": "9facddaf",
   "metadata": {},
   "outputs": [
    {
     "name": "stdout",
     "output_type": "stream",
     "text": [
      "a 3\n",
      "b 2\n",
      "d 100\n",
      "e 50\n",
      "f 9\n",
      "g 7\n",
      "h 3.14\n",
      "i abc\n"
     ]
    }
   ],
   "source": [
    "for k, v in zip(d.keys(), d.values()):\n",
    "    print(k, v)"
   ]
  },
  {
   "cell_type": "code",
   "execution_count": 46,
   "id": "20099f27",
   "metadata": {},
   "outputs": [
    {
     "name": "stdout",
     "output_type": "stream",
     "text": [
      "('a', 3)\n",
      "('b', 2)\n",
      "('d', 100)\n",
      "('e', 50)\n",
      "('f', 9)\n",
      "('g', 7)\n",
      "('h', 3.14)\n",
      "('i', 'abc')\n"
     ]
    }
   ],
   "source": [
    "for value in zip(d.keys(), d.values()):\n",
    "    print(value)"
   ]
  },
  {
   "cell_type": "code",
   "execution_count": 47,
   "id": "99ac8a2d",
   "metadata": {},
   "outputs": [
    {
     "name": "stdout",
     "output_type": "stream",
     "text": [
      "a 3\n",
      "b 2\n",
      "d 100\n",
      "e 50\n",
      "f 9\n",
      "g 7\n",
      "h 3.14\n",
      "i abc\n"
     ]
    }
   ],
   "source": [
    "for value in zip(d.keys(), d.values()):\n",
    "    print(value[0], value[1])"
   ]
  },
  {
   "cell_type": "code",
   "execution_count": 48,
   "id": "7493f3d8",
   "metadata": {},
   "outputs": [
    {
     "name": "stdout",
     "output_type": "stream",
     "text": [
      "('a', 3)\n",
      "('b', 2)\n",
      "('d', 100)\n",
      "('e', 50)\n",
      "('f', 9)\n",
      "('g', 7)\n",
      "('h', 3.14)\n",
      "('i', 'abc')\n"
     ]
    }
   ],
   "source": [
    "for value in d.items():\n",
    "    print(value)"
   ]
  },
  {
   "cell_type": "code",
   "execution_count": 50,
   "id": "fca3a0cc",
   "metadata": {},
   "outputs": [
    {
     "name": "stdout",
     "output_type": "stream",
     "text": [
      "a 3\n",
      "b 2\n",
      "d 100\n",
      "e 50\n",
      "f 9\n",
      "g 7\n",
      "h 3.14\n",
      "i abc\n"
     ]
    }
   ],
   "source": [
    "for k, v in d.items():\n",
    "    print(k, v)"
   ]
  },
  {
   "cell_type": "markdown",
   "id": "18f3a4bb",
   "metadata": {},
   "source": [
    "### 亂數用法\n",
    "1. np.random.randint(start, end, size) \n",
    "2. np.random.randint(end, size) \n",
    "3. np.random.randint(end) "
   ]
  },
  {
   "cell_type": "code",
   "execution_count": 54,
   "id": "cf7c033c",
   "metadata": {},
   "outputs": [
    {
     "data": {
      "text/plain": [
       "78"
      ]
     },
     "execution_count": 54,
     "metadata": {},
     "output_type": "execute_result"
    }
   ],
   "source": [
    "import numpy as np\n",
    "#np.random.seed(5) \n",
    "np.random.randint(62, 101)"
   ]
  },
  {
   "cell_type": "code",
   "execution_count": 63,
   "id": "436006cd",
   "metadata": {},
   "outputs": [
    {
     "data": {
      "text/plain": [
       "{'G': 80, 'P': 68, 'R': 84, 'A': 73, 'N': 83, 'S': 80, 'T': 87, 'L': 85}"
      ]
     },
     "execution_count": 63,
     "metadata": {},
     "output_type": "execute_result"
    }
   ],
   "source": [
    "size = 10\n",
    "d = {}\n",
    "for i in range(size):\n",
    "    d[chr(np.random.randint(65, 91))] = np.random.randint(65, 91) # 這個key有可會重複，就會少值\n",
    "d "
   ]
  },
  {
   "cell_type": "markdown",
   "id": "3c85b0af",
   "metadata": {},
   "source": [
    "### range()用法\n",
    "\n",
    "1. range(end)\n",
    "2. range(start, end) \n",
    "3. range(start, end, step) \n",
    "\n",
    "---\n",
    "\n",
    "- step預設為1，且可為正(遞增)可為負(遞減)"
   ]
  },
  {
   "cell_type": "code",
   "execution_count": 64,
   "id": "5e911a10",
   "metadata": {},
   "outputs": [
    {
     "data": {
      "text/plain": [
       "range(0, 10)"
      ]
     },
     "execution_count": 64,
     "metadata": {},
     "output_type": "execute_result"
    }
   ],
   "source": [
    "range(10) #無法執行"
   ]
  },
  {
   "cell_type": "code",
   "execution_count": 65,
   "id": "8e9daa99",
   "metadata": {},
   "outputs": [
    {
     "data": {
      "text/plain": [
       "[0, 1, 2, 3, 4, 5, 6, 7, 8, 9]"
      ]
     },
     "execution_count": 65,
     "metadata": {},
     "output_type": "execute_result"
    }
   ],
   "source": [
    "list(range(10))"
   ]
  },
  {
   "cell_type": "code",
   "execution_count": 68,
   "id": "1ad2734b",
   "metadata": {},
   "outputs": [
    {
     "data": {
      "text/plain": [
       "0"
      ]
     },
     "execution_count": 68,
     "metadata": {},
     "output_type": "execute_result"
    }
   ],
   "source": [
    "a,*b = range(10)\n",
    "a"
   ]
  },
  {
   "cell_type": "code",
   "execution_count": 67,
   "id": "51000308",
   "metadata": {},
   "outputs": [
    {
     "data": {
      "text/plain": [
       "[1, 2, 3, 4, 5, 6, 7, 8, 9]"
      ]
     },
     "execution_count": 67,
     "metadata": {},
     "output_type": "execute_result"
    }
   ],
   "source": [
    "b"
   ]
  },
  {
   "cell_type": "markdown",
   "id": "97138bc7",
   "metadata": {},
   "source": [
    "### numpy arange()用法\n",
    "\n",
    "1. range(end)\n",
    "2. range(start, end) \n",
    "3. range(start, end, step) \n",
    "\n",
    "---\n",
    "\n",
    "- step預設為1，且可為正(遞增)可為負(遞減)"
   ]
  },
  {
   "cell_type": "code",
   "execution_count": 70,
   "id": "2128190f",
   "metadata": {},
   "outputs": [
    {
     "data": {
      "text/plain": [
       "array([0, 1, 2, 3, 4, 5, 6, 7, 8, 9])"
      ]
     },
     "execution_count": 70,
     "metadata": {},
     "output_type": "execute_result"
    }
   ],
   "source": [
    "import numpy as np\n",
    "np.arange(10)  #可以直接執行"
   ]
  },
  {
   "cell_type": "markdown",
   "id": "6337c05c",
   "metadata": {},
   "source": [
    "### range()與np.arange()差異\n",
    "\n",
    "||range()|np.arange()|\n",
    "| :---:| :---: | :---: |\n",
    "|搭配list|需要|X|\n",
    "|產生內容|整數|整數、浮點數|"
   ]
  },
  {
   "cell_type": "code",
   "execution_count": 73,
   "id": "283ddd4f",
   "metadata": {},
   "outputs": [
    {
     "ename": "TypeError",
     "evalue": "'float' object cannot be interpreted as an integer",
     "output_type": "error",
     "traceback": [
      "\u001b[1;31m---------------------------------------------------------------------------\u001b[0m",
      "\u001b[1;31mTypeError\u001b[0m                                 Traceback (most recent call last)",
      "Cell \u001b[1;32mIn[73], line 1\u001b[0m\n\u001b[1;32m----> 1\u001b[0m \u001b[38;5;28mlist\u001b[39m(\u001b[38;5;28;43mrange\u001b[39;49m\u001b[43m(\u001b[49m\u001b[38;5;241;43m1\u001b[39;49m\u001b[43m,\u001b[49m\u001b[43m \u001b[49m\u001b[38;5;241;43m10\u001b[39;49m\u001b[43m,\u001b[49m\u001b[43m \u001b[49m\u001b[38;5;241;43m0.5\u001b[39;49m\u001b[43m)\u001b[49m)\n",
      "\u001b[1;31mTypeError\u001b[0m: 'float' object cannot be interpreted as an integer"
     ]
    }
   ],
   "source": [
    "list(range(1, 10, 0.5))"
   ]
  },
  {
   "cell_type": "code",
   "execution_count": 72,
   "id": "be2f8ccf",
   "metadata": {},
   "outputs": [
    {
     "data": {
      "text/plain": [
       "array([1. , 1.5, 2. , 2.5, 3. , 3.5, 4. , 4.5, 5. , 5.5, 6. , 6.5, 7. ,\n",
       "       7.5, 8. , 8.5, 9. , 9.5])"
      ]
     },
     "execution_count": 72,
     "metadata": {},
     "output_type": "execute_result"
    }
   ],
   "source": [
    "import numpy as np\n",
    "np.arange(1, 10, 0.5)"
   ]
  },
  {
   "cell_type": "markdown",
   "id": "762adc54",
   "metadata": {},
   "source": [
    "**如果把原始函數拿來當變數，會改變它的型態**"
   ]
  },
  {
   "cell_type": "code",
   "execution_count": 74,
   "id": "c87445ee",
   "metadata": {},
   "outputs": [
    {
     "data": {
      "text/plain": [
       "55"
      ]
     },
     "execution_count": 74,
     "metadata": {},
     "output_type": "execute_result"
    }
   ],
   "source": [
    "sum = 0\n",
    "\n",
    "for i in range(11):\n",
    "    sum = sum + i\n",
    "sum  "
   ]
  },
  {
   "cell_type": "code",
   "execution_count": 2,
   "id": "cee65639",
   "metadata": {},
   "outputs": [
    {
     "data": {
      "text/plain": [
       "[99, 78, 61, 16, 73]"
      ]
     },
     "execution_count": 2,
     "metadata": {},
     "output_type": "execute_result"
    }
   ],
   "source": [
    "l1"
   ]
  },
  {
   "cell_type": "code",
   "execution_count": 3,
   "id": "f3ec6a0b",
   "metadata": {},
   "outputs": [
    {
     "data": {
      "text/plain": [
       "327"
      ]
     },
     "execution_count": 3,
     "metadata": {},
     "output_type": "execute_result"
    }
   ],
   "source": [
    "sum(l1)"
   ]
  },
  {
   "cell_type": "markdown",
   "id": "86a44c69",
   "metadata": {},
   "source": [
    "### set集合\n",
    "\n",
    "1. 建立方式1 `s = {}`\n",
    "2. 建立方式2 `s = set{}`\n",
    "3. 空集合 `set{}`\n",
    "4. 集合內的元素皆唯一\n",
    "5. 可存放異質資料"
   ]
  },
  {
   "cell_type": "code",
   "execution_count": 1,
   "id": "1b76395b",
   "metadata": {},
   "outputs": [
    {
     "data": {
      "text/plain": [
       "{1, 2, 3, 5, 8}"
      ]
     },
     "execution_count": 1,
     "metadata": {},
     "output_type": "execute_result"
    }
   ],
   "source": [
    "s = {1,2,5,1,3,2,8,8}\n",
    "s"
   ]
  },
  {
   "cell_type": "code",
   "execution_count": 2,
   "id": "d6b44a63",
   "metadata": {},
   "outputs": [
    {
     "data": {
      "text/plain": [
       "{1, 2, 3.14, 'abc', b'1101'}"
      ]
     },
     "execution_count": 2,
     "metadata": {},
     "output_type": "execute_result"
    }
   ],
   "source": [
    "s = {1, 2, 3.14, \"abc\", True, b'1101'}\n",
    "s"
   ]
  },
  {
   "cell_type": "code",
   "execution_count": 3,
   "id": "651809d7",
   "metadata": {},
   "outputs": [
    {
     "ename": "TypeError",
     "evalue": "'set' object is not subscriptable",
     "output_type": "error",
     "traceback": [
      "\u001b[1;31m---------------------------------------------------------------------------\u001b[0m",
      "\u001b[1;31mTypeError\u001b[0m                                 Traceback (most recent call last)",
      "Cell \u001b[1;32mIn[3], line 1\u001b[0m\n\u001b[1;32m----> 1\u001b[0m \u001b[43ms\u001b[49m\u001b[43m[\u001b[49m\u001b[38;5;241;43m2\u001b[39;49m\u001b[43m]\u001b[49m\n",
      "\u001b[1;31mTypeError\u001b[0m: 'set' object is not subscriptable"
     ]
    }
   ],
   "source": [
    "s[2]"
   ]
  },
  {
   "cell_type": "code",
   "execution_count": 3,
   "id": "f52cb54d",
   "metadata": {},
   "outputs": [
    {
     "data": {
      "text/plain": [
       "{1, '123abc', 2, 3.14, 'abc', b'1101'}"
      ]
     },
     "execution_count": 3,
     "metadata": {},
     "output_type": "execute_result"
    }
   ],
   "source": [
    "s.add('123abc') #自動排序上去\n",
    "s"
   ]
  },
  {
   "cell_type": "code",
   "execution_count": 4,
   "id": "bbf16f5e",
   "metadata": {
    "scrolled": true
   },
   "outputs": [
    {
     "data": {
      "text/plain": [
       "{1, '123abc', 2, 3.14, 'abc', b'1101'}"
      ]
     },
     "execution_count": 4,
     "metadata": {},
     "output_type": "execute_result"
    }
   ],
   "source": [
    "s"
   ]
  },
  {
   "cell_type": "markdown",
   "id": "42af6e99",
   "metadata": {},
   "source": [
    "##### 沒copy，兩個名子共用一資料\n",
    "\n",
    "##### .copy()，兩個名子有各自的資料"
   ]
  },
  {
   "cell_type": "code",
   "execution_count": 5,
   "id": "15bed312",
   "metadata": {},
   "outputs": [
    {
     "data": {
      "text/plain": [
       "{1, '123abc', 2, 3.14, 'abc', b'1101'}"
      ]
     },
     "execution_count": 5,
     "metadata": {},
     "output_type": "execute_result"
    }
   ],
   "source": [
    "s1 = s #這個並不是新建s1容器，而是s更名叫s1\n",
    "s1"
   ]
  },
  {
   "cell_type": "code",
   "execution_count": 6,
   "id": "459738a8",
   "metadata": {},
   "outputs": [
    {
     "data": {
      "text/plain": [
       "1"
      ]
     },
     "execution_count": 6,
     "metadata": {},
     "output_type": "execute_result"
    }
   ],
   "source": [
    "s1.pop() # pop隨機取出一個"
   ]
  },
  {
   "cell_type": "code",
   "execution_count": 7,
   "id": "dcad4085",
   "metadata": {},
   "outputs": [
    {
     "data": {
      "text/plain": [
       "{'123abc', 2, 3.14, 'abc', b'1101'}"
      ]
     },
     "execution_count": 7,
     "metadata": {},
     "output_type": "execute_result"
    }
   ],
   "source": [
    "s1"
   ]
  },
  {
   "cell_type": "code",
   "execution_count": 20,
   "id": "29e444e1",
   "metadata": {},
   "outputs": [
    {
     "data": {
      "text/plain": [
       "{'123abc', 2, 3.14, 'abc', b'1101'}"
      ]
     },
     "execution_count": 20,
     "metadata": {},
     "output_type": "execute_result"
    }
   ],
   "source": [
    "s"
   ]
  },
  {
   "cell_type": "code",
   "execution_count": 21,
   "id": "0dcc5084",
   "metadata": {},
   "outputs": [],
   "source": [
    "s2 = s.copy()"
   ]
  },
  {
   "cell_type": "code",
   "execution_count": 24,
   "id": "f1389f76",
   "metadata": {},
   "outputs": [
    {
     "data": {
      "text/plain": [
       "2"
      ]
     },
     "execution_count": 24,
     "metadata": {},
     "output_type": "execute_result"
    }
   ],
   "source": [
    "s2.pop()"
   ]
  },
  {
   "cell_type": "code",
   "execution_count": 25,
   "id": "a74f39eb",
   "metadata": {},
   "outputs": [
    {
     "data": {
      "text/plain": [
       "{'123abc', 3.14, 'abc', b'1101'}"
      ]
     },
     "execution_count": 25,
     "metadata": {},
     "output_type": "execute_result"
    }
   ],
   "source": [
    "s2"
   ]
  },
  {
   "cell_type": "code",
   "execution_count": 26,
   "id": "cce8745e",
   "metadata": {},
   "outputs": [
    {
     "data": {
      "text/plain": [
       "{'123abc', 2, 3.14, 'abc', b'1101'}"
      ]
     },
     "execution_count": 26,
     "metadata": {},
     "output_type": "execute_result"
    }
   ],
   "source": [
    "s"
   ]
  },
  {
   "cell_type": "markdown",
   "id": "affa9418",
   "metadata": {},
   "source": [
    "### 迴圈 for\n",
    "- 同一件事重複做\n",
    "\n",
    "```Python\n",
    "for 變數 in 序列資料:\n",
    "    執行重複的事\n",
    "```"
   ]
  },
  {
   "cell_type": "code",
   "execution_count": 27,
   "id": "c28634f4",
   "metadata": {},
   "outputs": [
    {
     "name": "stdout",
     "output_type": "stream",
     "text": [
      "1\n",
      "3\n",
      "5\n",
      "7\n",
      "9\n"
     ]
    }
   ],
   "source": [
    "for i in range(1, 10, 2):\n",
    "    print(i)"
   ]
  },
  {
   "cell_type": "code",
   "execution_count": 31,
   "id": "35a01e54",
   "metadata": {},
   "outputs": [
    {
     "name": "stdout",
     "output_type": "stream",
     "text": [
      "10\n",
      "8\n",
      "6\n",
      "4\n",
      "2\n"
     ]
    }
   ],
   "source": [
    "for l in range(10, 1, -2):\n",
    "    print(l)"
   ]
  },
  {
   "cell_type": "markdown",
   "id": "1d3c43a1",
   "metadata": {},
   "source": [
    "##### 100的因數"
   ]
  },
  {
   "cell_type": "code",
   "execution_count": 32,
   "id": "06b144e5",
   "metadata": {},
   "outputs": [
    {
     "data": {
      "text/plain": [
       "3"
      ]
     },
     "execution_count": 32,
     "metadata": {},
     "output_type": "execute_result"
    }
   ],
   "source": [
    "10//3 #取商數整數"
   ]
  },
  {
   "cell_type": "code",
   "execution_count": 33,
   "id": "90893788",
   "metadata": {},
   "outputs": [
    {
     "data": {
      "text/plain": [
       "3.3333333333333335"
      ]
     },
     "execution_count": 33,
     "metadata": {},
     "output_type": "execute_result"
    }
   ],
   "source": [
    "10/3 #取商數"
   ]
  },
  {
   "cell_type": "code",
   "execution_count": 34,
   "id": "56d0116c",
   "metadata": {},
   "outputs": [
    {
     "data": {
      "text/plain": [
       "1"
      ]
     },
     "execution_count": 34,
     "metadata": {},
     "output_type": "execute_result"
    }
   ],
   "source": [
    "10%3 #取餘數"
   ]
  },
  {
   "cell_type": "code",
   "execution_count": 9,
   "id": "fab77025",
   "metadata": {},
   "outputs": [
    {
     "name": "stdout",
     "output_type": "stream",
     "text": [
      "1\n",
      "2\n",
      "2 為質因數\n",
      "4\n",
      "5\n",
      "5 為質因數\n",
      "10\n",
      "20\n",
      "25\n",
      "50\n",
      "100\n"
     ]
    }
   ],
   "source": [
    "for i in range(1,101):\n",
    "    if 100%i == 0:\n",
    "        print(i)\n",
    "        times = 0\n",
    "        for j in range(1, i+1):\n",
    "            if i%j == 0:\n",
    "                times = times + 1\n",
    "            \n",
    "        if times == 2:\n",
    "            print(i, '為質因數')"
   ]
  },
  {
   "cell_type": "markdown",
   "id": "15cca6ff",
   "metadata": {},
   "source": [
    "### 99乘法表"
   ]
  },
  {
   "cell_type": "code",
   "execution_count": 25,
   "id": "5a22b31a",
   "metadata": {},
   "outputs": [
    {
     "name": "stdout",
     "output_type": "stream",
     "text": [
      "1 * 1 = 1\t2 * 1 = 2\t3 * 1 = 3\t4 * 1 = 4\t5 * 1 = 5\t\n",
      "1 * 2 = 2\t2 * 2 = 4\t3 * 2 = 6\t4 * 2 = 8\t5 * 2 = 10\t\n",
      "1 * 3 = 3\t2 * 3 = 6\t3 * 3 = 9\t4 * 3 = 12\t5 * 3 = 15\t\n",
      "1 * 4 = 4\t2 * 4 = 8\t3 * 4 = 12\t4 * 4 = 16\t5 * 4 = 20\t\n",
      "1 * 5 = 5\t2 * 5 = 10\t3 * 5 = 15\t4 * 5 = 20\t5 * 5 = 25\t\n",
      "1 * 6 = 6\t2 * 6 = 12\t3 * 6 = 18\t4 * 6 = 24\t5 * 6 = 30\t\n",
      "1 * 7 = 7\t2 * 7 = 14\t3 * 7 = 21\t4 * 7 = 28\t5 * 7 = 35\t\n",
      "1 * 8 = 8\t2 * 8 = 16\t3 * 8 = 24\t4 * 8 = 32\t5 * 8 = 40\t\n",
      "1 * 9 = 9\t2 * 9 = 18\t3 * 9 = 27\t4 * 9 = 36\t5 * 9 = 45\t\n"
     ]
    }
   ],
   "source": [
    "for i in range(1,10):\n",
    "    for j in range(1, 6):\n",
    "        #print(j, \"*\", i, \"=\", i*j, end = \"\\t\")\n",
    "        #print(f\"{j} * {i} = {i*j}\", end = \"\\t\")\n",
    "        #print('%d * %d = %d' % (j, i, j*i), end = \"\\t\")\n",
    "        print(\"{} * {} = {}\".format(j, i, j*i), end = \"\\t\")\n",
    "    print()"
   ]
  },
  {
   "cell_type": "markdown",
   "id": "79050ede",
   "metadata": {},
   "source": [
    "### 邏輯控制 -> if\n",
    "\n",
    "```Python\n",
    "#單選\n",
    "if 條件式:\n",
    "    程式1\n",
    "    \n",
    "#二擇一\n",
    "if 條件式1:\n",
    "    程式1\n",
    "else:\n",
    "    程式2\n",
    "    \n",
    "#多擇一\n",
    "if 條件式1:\n",
    "    程式1\n",
    "elif 條件式2:\n",
    "    程式2\n",
    "else:\n",
    "    程式3\n",
    "```"
   ]
  },
  {
   "cell_type": "code",
   "execution_count": 8,
   "id": "4231dc8a",
   "metadata": {},
   "outputs": [
    {
     "name": "stdout",
     "output_type": "stream",
     "text": [
      "a大於5\n"
     ]
    }
   ],
   "source": [
    "a = 10\n",
    "if a < 5:\n",
    "    print(\"a小於5\")\n",
    "elif a == 5:\n",
    "    print(\"a等於5\")\n",
    "else:\n",
    "    print(\"a大於5\")"
   ]
  },
  {
   "cell_type": "markdown",
   "id": "7debd564",
   "metadata": {},
   "source": [
    "### 運算子\n",
    "\n",
    "1. 邏輯運算子 `and` -> `*`, `or` -> `+`, `not` -> `1-a`\n",
    "2. 算數運算子 `+` `-` `*` `/` `%` `//`\n",
    "3. 設定運算子 `+=` `-=` `*=` `/=` `%=` `//=`\n",
    "4. 比較運算子 `==` `>` `>=` `<` `<=` `!=`\n",
    "5. 成員運算子 `in`\n",
    "6. 位元運算子 `&` `|` `~` `<<` `>>`"
   ]
  },
  {
   "cell_type": "markdown",
   "id": "aaecc602",
   "metadata": {},
   "source": [
    "#### 邏輯運算子"
   ]
  },
  {
   "cell_type": "code",
   "execution_count": 30,
   "id": "87086052",
   "metadata": {},
   "outputs": [
    {
     "data": {
      "text/plain": [
       "True"
      ]
     },
     "execution_count": 30,
     "metadata": {},
     "output_type": "execute_result"
    }
   ],
   "source": [
    "a = 5 \n",
    "b = 2\n",
    "a > 3 and b < 3"
   ]
  },
  {
   "cell_type": "code",
   "execution_count": 31,
   "id": "f11e3267",
   "metadata": {},
   "outputs": [
    {
     "data": {
      "text/plain": [
       "True"
      ]
     },
     "execution_count": 31,
     "metadata": {},
     "output_type": "execute_result"
    }
   ],
   "source": [
    "a = 5 \n",
    "b = 2\n",
    "a > 3 or b < 2"
   ]
  },
  {
   "cell_type": "code",
   "execution_count": 32,
   "id": "3a40b75e",
   "metadata": {},
   "outputs": [
    {
     "data": {
      "text/plain": [
       "False"
      ]
     },
     "execution_count": 32,
     "metadata": {},
     "output_type": "execute_result"
    }
   ],
   "source": [
    "not a > 3"
   ]
  },
  {
   "cell_type": "markdown",
   "id": "f1c38b26",
   "metadata": {},
   "source": [
    "#### 位元運算子\n",
    "\n",
    "[二補數](https://zh.wikipedia.org/wiki/%E4%BA%8C%E8%A3%9C%E6%95%B8)"
   ]
  },
  {
   "cell_type": "code",
   "execution_count": 33,
   "id": "7229602c",
   "metadata": {},
   "outputs": [
    {
     "data": {
      "text/plain": [
       "3"
      ]
     },
     "execution_count": 33,
     "metadata": {},
     "output_type": "execute_result"
    }
   ],
   "source": [
    "7 & 3"
   ]
  },
  {
   "cell_type": "code",
   "execution_count": 34,
   "id": "5fea85c5",
   "metadata": {},
   "outputs": [
    {
     "data": {
      "text/plain": [
       "7"
      ]
     },
     "execution_count": 34,
     "metadata": {},
     "output_type": "execute_result"
    }
   ],
   "source": [
    "7 | 3"
   ]
  },
  {
   "cell_type": "code",
   "execution_count": 35,
   "id": "2ea41828",
   "metadata": {},
   "outputs": [
    {
     "data": {
      "text/plain": [
       "-2"
      ]
     },
     "execution_count": 35,
     "metadata": {},
     "output_type": "execute_result"
    }
   ],
   "source": [
    "~1"
   ]
  },
  {
   "cell_type": "code",
   "execution_count": 36,
   "id": "0ec7f808",
   "metadata": {},
   "outputs": [
    {
     "data": {
      "text/plain": [
       "20"
      ]
     },
     "execution_count": 36,
     "metadata": {},
     "output_type": "execute_result"
    }
   ],
   "source": [
    "5 << 2"
   ]
  },
  {
   "cell_type": "code",
   "execution_count": 37,
   "id": "4d548c02",
   "metadata": {},
   "outputs": [
    {
     "data": {
      "text/plain": [
       "1"
      ]
     },
     "execution_count": 37,
     "metadata": {},
     "output_type": "execute_result"
    }
   ],
   "source": [
    "5 >> 2"
   ]
  },
  {
   "cell_type": "markdown",
   "id": "17672208",
   "metadata": {},
   "source": [
    "#### 設定運算子"
   ]
  },
  {
   "cell_type": "code",
   "execution_count": 40,
   "id": "08581a6e",
   "metadata": {},
   "outputs": [
    {
     "data": {
      "text/plain": [
       "1"
      ]
     },
     "execution_count": 40,
     "metadata": {},
     "output_type": "execute_result"
    }
   ],
   "source": [
    "i = 0\n",
    "i += 1\n",
    "i"
   ]
  },
  {
   "cell_type": "code",
   "execution_count": 41,
   "id": "1d90a812",
   "metadata": {},
   "outputs": [
    {
     "data": {
      "text/plain": [
       "-1"
      ]
     },
     "execution_count": 41,
     "metadata": {},
     "output_type": "execute_result"
    }
   ],
   "source": [
    "i = 0\n",
    "i -= 1\n",
    "i"
   ]
  },
  {
   "cell_type": "code",
   "execution_count": 42,
   "id": "3ba738f0",
   "metadata": {},
   "outputs": [
    {
     "data": {
      "text/plain": [
       "0"
      ]
     },
     "execution_count": 42,
     "metadata": {},
     "output_type": "execute_result"
    }
   ],
   "source": [
    "i = 0\n",
    "i *= 1\n",
    "i"
   ]
  },
  {
   "cell_type": "code",
   "execution_count": 43,
   "id": "6438af89",
   "metadata": {},
   "outputs": [
    {
     "data": {
      "text/plain": [
       "0.0"
      ]
     },
     "execution_count": 43,
     "metadata": {},
     "output_type": "execute_result"
    }
   ],
   "source": [
    "i = 0\n",
    "i /= 1\n",
    "i"
   ]
  },
  {
   "cell_type": "markdown",
   "id": "90aba41e",
   "metadata": {},
   "source": [
    "#### 比較運算子"
   ]
  },
  {
   "cell_type": "code",
   "execution_count": 44,
   "id": "3ffdc6bd",
   "metadata": {},
   "outputs": [
    {
     "data": {
      "text/plain": [
       "True"
      ]
     },
     "execution_count": 44,
     "metadata": {},
     "output_type": "execute_result"
    }
   ],
   "source": [
    "a = 5\n",
    "b = 3\n",
    "a > b"
   ]
  },
  {
   "cell_type": "code",
   "execution_count": 45,
   "id": "c60dd19b",
   "metadata": {},
   "outputs": [
    {
     "data": {
      "text/plain": [
       "False"
      ]
     },
     "execution_count": 45,
     "metadata": {},
     "output_type": "execute_result"
    }
   ],
   "source": [
    "a < b"
   ]
  },
  {
   "cell_type": "code",
   "execution_count": null,
   "id": "ca15595b",
   "metadata": {},
   "outputs": [],
   "source": [
    "a = b #賦值\n",
    "a == b #左邊是否等於右邊"
   ]
  },
  {
   "cell_type": "code",
   "execution_count": 47,
   "id": "5e9723b3",
   "metadata": {},
   "outputs": [
    {
     "ename": "SyntaxError",
     "evalue": "invalid syntax (1077485263.py, line 3)",
     "output_type": "error",
     "traceback": [
      "\u001b[1;36m  Cell \u001b[1;32mIn[47], line 3\u001b[1;36m\u001b[0m\n\u001b[1;33m    a => b\u001b[0m\n\u001b[1;37m       ^\u001b[0m\n\u001b[1;31mSyntaxError\u001b[0m\u001b[1;31m:\u001b[0m invalid syntax\n"
     ]
    }
   ],
   "source": [
    "a = 5\n",
    "b = 2\n",
    "a => b"
   ]
  },
  {
   "cell_type": "markdown",
   "id": "a89e1cd8",
   "metadata": {},
   "source": [
    "#### 成員運算子"
   ]
  },
  {
   "cell_type": "code",
   "execution_count": 48,
   "id": "b815124c",
   "metadata": {},
   "outputs": [
    {
     "data": {
      "text/plain": [
       "[99, 78, 61, 16, 73]"
      ]
     },
     "execution_count": 48,
     "metadata": {},
     "output_type": "execute_result"
    }
   ],
   "source": [
    "import numpy as np\n",
    "np.random.seed(5) \n",
    "l1 = list(np.random.randint(101, size = 5)) \n",
    "l1"
   ]
  },
  {
   "cell_type": "code",
   "execution_count": 49,
   "id": "2836e825",
   "metadata": {},
   "outputs": [
    {
     "data": {
      "text/plain": [
       "False"
      ]
     },
     "execution_count": 49,
     "metadata": {},
     "output_type": "execute_result"
    }
   ],
   "source": [
    "5 in l1"
   ]
  },
  {
   "cell_type": "code",
   "execution_count": 50,
   "id": "b8f7b06c",
   "metadata": {},
   "outputs": [
    {
     "data": {
      "text/plain": [
       "True"
      ]
     },
     "execution_count": 50,
     "metadata": {},
     "output_type": "execute_result"
    }
   ],
   "source": [
    "99 in l1"
   ]
  },
  {
   "cell_type": "code",
   "execution_count": 51,
   "id": "b086ea1d",
   "metadata": {},
   "outputs": [
    {
     "data": {
      "text/plain": [
       "{'a': 1, 'b': 2, 'g': 7, 'h': 3.14, 'i': 'abc'}"
      ]
     },
     "execution_count": 51,
     "metadata": {},
     "output_type": "execute_result"
    }
   ],
   "source": [
    "d = {'a':1, 'b':2}\n",
    "d.update({'g': 7, 'h': 3.14, \"i\":'abc'})\n",
    "d"
   ]
  },
  {
   "cell_type": "code",
   "execution_count": 52,
   "id": "89df9a2f",
   "metadata": {},
   "outputs": [
    {
     "data": {
      "text/plain": [
       "dict_keys(['a', 'b', 'g', 'h', 'i'])"
      ]
     },
     "execution_count": 52,
     "metadata": {},
     "output_type": "execute_result"
    }
   ],
   "source": [
    "d.keys()"
   ]
  },
  {
   "cell_type": "code",
   "execution_count": 53,
   "id": "023f516b",
   "metadata": {},
   "outputs": [
    {
     "data": {
      "text/plain": [
       "dict_values([1, 2, 7, 3.14, 'abc'])"
      ]
     },
     "execution_count": 53,
     "metadata": {},
     "output_type": "execute_result"
    }
   ],
   "source": [
    "d.values()"
   ]
  },
  {
   "cell_type": "code",
   "execution_count": 54,
   "id": "3765c436",
   "metadata": {},
   "outputs": [
    {
     "data": {
      "text/plain": [
       "False"
      ]
     },
     "execution_count": 54,
     "metadata": {},
     "output_type": "execute_result"
    }
   ],
   "source": [
    "2 in d"
   ]
  },
  {
   "cell_type": "code",
   "execution_count": 56,
   "id": "792e62ec",
   "metadata": {},
   "outputs": [
    {
     "data": {
      "text/plain": [
       "True"
      ]
     },
     "execution_count": 56,
     "metadata": {},
     "output_type": "execute_result"
    }
   ],
   "source": [
    "'b' in d #比對到key，因為value是由key帶出來的"
   ]
  },
  {
   "cell_type": "code",
   "execution_count": null,
   "id": "ead81274",
   "metadata": {},
   "outputs": [],
   "source": []
  }
 ],
 "metadata": {
  "kernelspec": {
   "display_name": "Python 3 (ipykernel)",
   "language": "python",
   "name": "python3"
  },
  "language_info": {
   "codemirror_mode": {
    "name": "ipython",
    "version": 3
   },
   "file_extension": ".py",
   "mimetype": "text/x-python",
   "name": "python",
   "nbconvert_exporter": "python",
   "pygments_lexer": "ipython3",
   "version": "3.10.9"
  }
 },
 "nbformat": 4,
 "nbformat_minor": 5
}
