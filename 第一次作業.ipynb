{
 "cells": [
  {
   "cell_type": "code",
   "execution_count": 6,
   "id": "1c28aebf",
   "metadata": {},
   "outputs": [
    {
     "name": "stdout",
     "output_type": "stream",
     "text": [
      "5\n",
      "請輸入0~9的數字：5 \n",
      "輸入錯誤請重新輸入!\n",
      "請輸入0~9的數字： 5\n",
      "輸入錯誤請重新輸入!\n",
      "請輸入0~9的數字：05\n",
      "輸入錯誤請重新輸入!\n",
      "請輸入0~9的數字：50\n",
      "輸入錯誤請重新輸入!\n",
      "請輸入0~9的數字：\n",
      "輸入錯誤已達5次，遊戲結束!\n"
     ]
    }
   ],
   "source": [
    "import numpy as np\n",
    "i = 0\n",
    "times = 5\n",
    "ans = np.random.randint(10)\n",
    "\n",
    "while i < times:\n",
    "    inp = input('請輸入0~9的數字：')\n",
    "\n",
    "    if i == 4:\n",
    "        print('輸入錯誤已達5次，遊戲結束!')\n",
    "        break\n",
    "        \n",
    "    if len(inp) > 1:\n",
    "        print('輸入錯誤請重新輸入!')\n",
    "        i += 1\n",
    "        continue\n",
    "        \n",
    "    if not inp.isdigit():\n",
    "        print('輸入錯誤請重新輸入!')\n",
    "        i += 1\n",
    "        continue\n",
    "        \n",
    "    if ans != int(inp):\n",
    "        print('輸入錯誤請重新輸入!')\n",
    "        i += 1\n",
    "        continue\n",
    "        \n",
    "    print('答案正確!')\n",
    "    break"
   ]
  },
  {
   "cell_type": "code",
   "execution_count": null,
   "id": "0f231f1b",
   "metadata": {},
   "outputs": [],
   "source": []
  },
  {
   "cell_type": "code",
   "execution_count": null,
   "id": "85b7fd84",
   "metadata": {},
   "outputs": [],
   "source": []
  }
 ],
 "metadata": {
  "kernelspec": {
   "display_name": "Python 3 (ipykernel)",
   "language": "python",
   "name": "python3"
  },
  "language_info": {
   "codemirror_mode": {
    "name": "ipython",
    "version": 3
   },
   "file_extension": ".py",
   "mimetype": "text/x-python",
   "name": "python",
   "nbconvert_exporter": "python",
   "pygments_lexer": "ipython3",
   "version": "3.10.9"
  }
 },
 "nbformat": 4,
 "nbformat_minor": 5
}
