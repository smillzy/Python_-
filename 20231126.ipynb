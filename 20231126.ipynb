{
 "cells": [
  {
   "cell_type": "code",
   "execution_count": 1,
   "id": "a2b93a44",
   "metadata": {},
   "outputs": [
    {
     "name": "stdout",
     "output_type": "stream",
     "text": [
      "Collecting pymysql\n",
      "  Downloading PyMySQL-1.1.0-py3-none-any.whl (44 kB)\n",
      "     -------------------------------------- 44.8/44.8 kB 442.7 kB/s eta 0:00:00\n",
      "Installing collected packages: pymysql\n",
      "Successfully installed pymysql-1.1.0\n"
     ]
    }
   ],
   "source": [
    "! pip install pymysql"
   ]
  },
  {
   "cell_type": "code",
   "execution_count": 3,
   "id": "a08468a1",
   "metadata": {},
   "outputs": [],
   "source": [
    "import pymysql as mysql\n",
    "mysql.connect?"
   ]
  },
  {
   "cell_type": "code",
   "execution_count": 7,
   "id": "e2b54d87",
   "metadata": {},
   "outputs": [],
   "source": [
    "import pymysql as mysql\n",
    "\n",
    "sql = '''\n",
    "CREATE TABLE IF NOT EXISTS `test`.`app2` (\n",
    "  `id` INT NOT NULL AUTO_INCREMENT,\n",
    "  `name` VARCHAR(45) NOT NULL,\n",
    "  `date` VARCHAR(45) NOT NULL,\n",
    "  `version` VARCHAR(45) NOT NULL,\n",
    "  `remark` VARCHAR(45) NOT NULL,\n",
    "  PRIMARY KEY (`id`))\n",
    "ENGINE = InnoDB\n",
    "DEFAULT CHARACTER SET = utf8mb4\n",
    "COLLATE = utf8mb4_unicode_520_ci;\n",
    "'''\n",
    "\n",
    "user = \"root\"\n",
    "pwd = ''\n",
    "host = 'localhost'\n",
    "port = 3306\n",
    "dbname = 'test'\n",
    "\n",
    "con = mysql.connect(user = user, password = pwd, host = host, port = port, database = dbname)\n",
    "#con = lite.connect('20231119.db') #開啟與資料庫的連線\n",
    "cur = con.cursor() #取得操作資料庫的權限\n",
    "try:\n",
    "    cur.execute(sql) #執行sql語法\n",
    "    con.commit() #確定變更，所有資料庫皆適用\n",
    "except Exception as e:\n",
    "    print(e)\n",
    "    con.rollback() #當執行sql失敗，退回上一步\n",
    "\n",
    "cur.close()#關閉連線\n",
    "con.close()#關閉連線"
   ]
  },
  {
   "cell_type": "markdown",
   "id": "bbb8b1aa",
   "metadata": {},
   "source": [
    "### 新增紀錄"
   ]
  },
  {
   "cell_type": "code",
   "execution_count": 10,
   "id": "81af2bda",
   "metadata": {},
   "outputs": [],
   "source": [
    "sql = '''\n",
    "INSERT INTO `app` (`name`,`date`,`version`,`remark`)\n",
    "VALUES ('Excel','20231001','1.1.1.0','Excel_v2');\n",
    "'''\n",
    "\n",
    "\n",
    "user = \"root\"\n",
    "pwd = ''\n",
    "host = 'localhost'\n",
    "port = 3306\n",
    "dbname = 'test'\n",
    "\n",
    "def sqlop(sql):\n",
    "    con = mysql.connect(user = user, password = pwd, host = host, port = port, database = dbname) #開啟與資料庫的連線\n",
    "    cur = con.cursor() #取得操作資料庫的權限\n",
    "    try:\n",
    "        cur.execute(sql) #執行sql語法\n",
    "        con.commit() #確定變更，所有資料庫皆適用\n",
    "    except Exception as e:\n",
    "        print(e)\n",
    "        con.rollback() #當執行sql失敗，退回上一步\n",
    "\n",
    "    cur.close()#關閉連線\n",
    "    con.close()\n",
    "sqlop(sql)"
   ]
  },
  {
   "cell_type": "markdown",
   "id": "499fbb7a",
   "metadata": {},
   "source": [
    "### 新增多筆資料"
   ]
  },
  {
   "cell_type": "code",
   "execution_count": 12,
   "id": "ce848103",
   "metadata": {},
   "outputs": [],
   "source": [
    "import pymysql as mysql\n",
    "cols = [\"name\",\"date\",\"version\",\"remarker\"]\n",
    "data = [['Python金融', '20220103', '1.0.0.2', 'Python金融V2'],\n",
    "        ['Python爬蟲', '20210301', '1.0.1.1', 'Python爬蟲V3'],\n",
    "        ['Python大數據', '20221001', '1.0.1.2', 'Python大數據V5'],\n",
    "        ['Excel爬蟲', '20211009', '1.1.1.2', 'Excel爬蟲V2'],\n",
    "       ]\n",
    "\n",
    "sql = '''\n",
    "INSERT INTO `app`(`name`,`date`,`version`,`remark`)\n",
    "VALUES (%s,%s,%s,%s);\n",
    "'''\n",
    "user = \"root\"\n",
    "pwd = ''\n",
    "host = 'localhost'\n",
    "port = 3306\n",
    "dbname = 'test'\n",
    "\n",
    "\n",
    "con = mysql.connect(user = user, password = pwd, host = host, port = port, database = dbname) #開啟與資料庫的連線\n",
    "cur = con.cursor() #取得操作資料庫的權限\n",
    "try:\n",
    "    cur.executemany(sql, data) #執行SQL語法\n",
    "    con.commit() #確定變更，所有資料庫皆適用\n",
    "except Exception as e:\n",
    "    print(e)\n",
    "    con.rollback()# 當執行SQL語法失敗，則退回到上一步驟\n",
    "cur.close()\n",
    "con.close() #關閉連線"
   ]
  },
  {
   "cell_type": "markdown",
   "id": "bfe7e647",
   "metadata": {},
   "source": [
    "### 更新紀錄"
   ]
  },
  {
   "cell_type": "markdown",
   "id": "24423d0d",
   "metadata": {},
   "source": [
    "法1 -> sql上新增資料"
   ]
  },
  {
   "cell_type": "code",
   "execution_count": 15,
   "id": "574d4450",
   "metadata": {},
   "outputs": [],
   "source": [
    "import pymysql as mysql\n",
    "\n",
    "sql = '''\n",
    "UPDATE `app` SET `version`='1.0.0.4', `remark`='Python金融V4'  WHERE `id`='3';\n",
    "'''\n",
    "\n",
    "user = \"root\"\n",
    "pwd = ''\n",
    "host = 'localhost'\n",
    "port = 3306\n",
    "dbname = 'test'\n",
    "\n",
    "\n",
    "con = mysql.connect(user = user, password = pwd, host = host, port = port, database = dbname) #開啟與資料庫的連線\n",
    "cur = con.cursor() #取得操作資料庫的權限\n",
    "try:\n",
    "    cur.execute(sql) #執行SQL語法\n",
    "    con.commit() #確定變更，所有資料庫皆適用\n",
    "except Exception as e:\n",
    "    print(e)\n",
    "    con.rollback()# 當執行SQL語法失敗，則退回到上一步驟\n",
    "cur.close()\n",
    "con.close() #關閉連線"
   ]
  },
  {
   "cell_type": "markdown",
   "id": "d9a9d22c",
   "metadata": {},
   "source": [
    "法2 -> sql用{}代替，cur.execute中寫入資料，好處 -> 不會動到程式碼"
   ]
  },
  {
   "cell_type": "code",
   "execution_count": 16,
   "id": "04be414e",
   "metadata": {},
   "outputs": [],
   "source": [
    "import pymysql as mysql\n",
    "\n",
    "sql = '''\n",
    "UPDATE `app` SET `version`=%s, `remark`=%s  WHERE `id`=%s;\n",
    "'''\n",
    "\n",
    "user = \"root\"\n",
    "pwd = ''\n",
    "host = 'localhost'\n",
    "port = 3306\n",
    "dbname = 'test'\n",
    "\n",
    "\n",
    "con = mysql.connect(user = user, password = pwd, host = host, port = port, database = dbname) #開啟與資料庫的連線\n",
    "cur = con.cursor() #取得操作資料庫的權限\n",
    "try:\n",
    "    cur.execute(sql,('1.0.0.6', 'Python金融V5', '3')) #執行SQL語法\n",
    "    con.commit() #確定變更，所有資料庫皆適用\n",
    "except Exception as e:\n",
    "    print(e)\n",
    "    con.rollback()# 當執行SQL語法失敗，則退回到上一步驟\n",
    "cur.close()\n",
    "con.close() #關閉連線"
   ]
  },
  {
   "cell_type": "code",
   "execution_count": 19,
   "id": "f3e38d8e",
   "metadata": {},
   "outputs": [],
   "source": [
    "import pymysql as mysql\n",
    "\n",
    "sql = '''\n",
    "UPDATE `app` SET `version`='{}', `remark`='{}'  WHERE `id`='{}';\n",
    "'''\n",
    "\n",
    "sql = sql.format('1.0.0.6', 'Python金融V5', '3')\n",
    "\n",
    "user = \"root\"\n",
    "pwd = ''\n",
    "host = 'localhost'\n",
    "port = 3306\n",
    "dbname = 'test'\n",
    "\n",
    "\n",
    "con = mysql.connect(user = user, password = pwd, host = host, port = port, database = dbname) #開啟與資料庫的連線\n",
    "cur = con.cursor() #取得操作資料庫的權限\n",
    "try:\n",
    "    cur.execute(sql) #執行SQL語法\n",
    "    con.commit() #確定變更，所有資料庫皆適用\n",
    "except Exception as e:\n",
    "    print(e)\n",
    "    con.rollback()# 當執行SQL語法失敗，則退回到上一步驟\n",
    "cur.close()\n",
    "con.close() #關閉連線"
   ]
  },
  {
   "cell_type": "markdown",
   "id": "b14f31fe",
   "metadata": {},
   "source": [
    "### 讀取資料"
   ]
  },
  {
   "cell_type": "code",
   "execution_count": 23,
   "id": "c99ee530",
   "metadata": {},
   "outputs": [
    {
     "name": "stdout",
     "output_type": "stream",
     "text": [
      "(1, 'Excel', '20231001', '1.1.1.0', 'Excel_v2')\n",
      "(2, 'Python金融', '20220103', '1.0.0.2', 'Python金融V2')\n",
      "(3, 'Python爬蟲', '20210301', '1.0.0.6', 'Python金融V5')\n",
      "(4, 'Python大數據', '20221001', '1.0.1.2', 'Python大數據V5')\n",
      "(5, 'Excel爬蟲', '20211009', '1.1.1.2', 'Excel爬蟲V2')\n"
     ]
    }
   ],
   "source": [
    "import pymysql as mysql\n",
    "sql = '''\n",
    "SELECT * FROM `app`;\n",
    "'''\n",
    "\n",
    "user = \"root\"\n",
    "pwd = ''\n",
    "host = 'localhost'\n",
    "port = 3306\n",
    "dbname = 'test'\n",
    "\n",
    "con = mysql.connect(user = user, password = pwd, host = host, port = port, database = dbname) #開啟與資料庫的連線\n",
    "cur = con.cursor() #取得操作資料庫的權限\n",
    "try:\n",
    "    cur.execute(sql) #執行SQL語法\n",
    "    rows = cur.fetchall()\n",
    "except Exception as e:\n",
    "    print(e)\n",
    "    con.rollback()# 當執行SQL語法失敗，則退回到上一步驟\n",
    "cur.close()\n",
    "con.close() #關閉連線\n",
    "\n",
    "for row in rows:\n",
    "    print(row)"
   ]
  },
  {
   "cell_type": "markdown",
   "id": "e9043786",
   "metadata": {},
   "source": [
    "### 抓取單純資料欄位"
   ]
  },
  {
   "cell_type": "code",
   "execution_count": 25,
   "id": "c29b6673",
   "metadata": {},
   "outputs": [
    {
     "name": "stdout",
     "output_type": "stream",
     "text": [
      "Excel\n",
      "Python金融\n",
      "Python爬蟲\n",
      "Python大數據\n",
      "Excel爬蟲\n"
     ]
    }
   ],
   "source": [
    "import pymysql as mysql\n",
    "sql = '''\n",
    "SELECT * FROM `app`;\n",
    "'''\n",
    "\n",
    "user = \"root\"\n",
    "pwd = ''\n",
    "host = 'localhost'\n",
    "port = 3306\n",
    "dbname = 'test'\n",
    "\n",
    "con = mysql.connect(user = user, password = pwd, host = host, port = port, database = dbname) #開啟與資料庫的連線\n",
    "cur = con.cursor(mysql.cursors.DictCursor) #取得操作資料庫的權限\n",
    "try:\n",
    "    cur.execute(sql) #執行SQL語法\n",
    "    rows = cur.fetchall()\n",
    "except Exception as e:\n",
    "    print(e)\n",
    "    con.rollback()# 當執行SQL語法失敗，則退回到上一步驟\n",
    "cur.close()\n",
    "con.close() #關閉連線\n",
    "\n",
    "for row in rows:\n",
    "    print(row['name'])"
   ]
  },
  {
   "cell_type": "code",
   "execution_count": 26,
   "id": "333c023e",
   "metadata": {},
   "outputs": [
    {
     "name": "stdout",
     "output_type": "stream",
     "text": [
      "Collecting mysql-connector\n",
      "  Downloading mysql-connector-2.2.9.tar.gz (11.9 MB)\n",
      "     --------------------------------------- 11.9/11.9 MB 16.8 MB/s eta 0:00:00\n",
      "  Preparing metadata (setup.py): started\n",
      "  Preparing metadata (setup.py): finished with status 'done'\n",
      "Building wheels for collected packages: mysql-connector\n",
      "  Building wheel for mysql-connector (setup.py): started\n",
      "  Building wheel for mysql-connector (setup.py): finished with status 'done'\n",
      "  Created wheel for mysql-connector: filename=mysql_connector-2.2.9-cp310-cp310-win_amd64.whl size=247958 sha256=f3e58f01df9e45b07476b9b6d7ca4f24a9ce2169cc577a4cb7cddd915d07106d\n",
      "  Stored in directory: c:\\users\\lo yuan\\appdata\\local\\pip\\cache\\wheels\\3e\\7f\\a3\\928a40d1ffd01dd16057f308042377afc505d56145375adf40\n",
      "Successfully built mysql-connector\n",
      "Installing collected packages: mysql-connector\n",
      "Successfully installed mysql-connector-2.2.9\n"
     ]
    }
   ],
   "source": [
    "!pip install mysql-connector"
   ]
  },
  {
   "cell_type": "code",
   "execution_count": 27,
   "id": "fce5561e",
   "metadata": {},
   "outputs": [
    {
     "name": "stdout",
     "output_type": "stream",
     "text": [
      "(1, 'Excel', '20231001', '1.1.1.0', 'Excel_v2')\n",
      "(2, 'Python金融', '20220103', '1.0.0.2', 'Python金融V2')\n",
      "(3, 'Python爬蟲', '20210301', '1.0.0.6', 'Python金融V5')\n",
      "(4, 'Python大數據', '20221001', '1.0.1.2', 'Python大數據V5')\n",
      "(5, 'Excel爬蟲', '20211009', '1.1.1.2', 'Excel爬蟲V2')\n"
     ]
    }
   ],
   "source": [
    "import mysql.connector \n",
    "sql = '''\n",
    "SELECT * FROM `app`;\n",
    "'''\n",
    "\n",
    "user = \"root\"\n",
    "pwd = ''\n",
    "host = 'localhost'\n",
    "port = '3306'\n",
    "dbname = 'test'\n",
    "\n",
    "con = mysql.connector.connect(user = user, password = pwd, host = host, port = port, database = dbname) #開啟與資料庫的連線\n",
    "cur = con.cursor() #取得操作資料庫的權限\n",
    "try:\n",
    "    cur.execute(sql) #執行SQL語法\n",
    "    rows = cur.fetchall()\n",
    "except Exception as e:\n",
    "    print(e)\n",
    "    con.rollback()# 當執行SQL語法失敗，則退回到上一步驟\n",
    "cur.close()\n",
    "con.close() #關閉連線\n",
    "\n",
    "for row in rows:\n",
    "    print(row)"
   ]
  },
  {
   "cell_type": "code",
   "execution_count": null,
   "id": "85758622",
   "metadata": {},
   "outputs": [],
   "source": []
  }
 ],
 "metadata": {
  "kernelspec": {
   "display_name": "Python 3 (ipykernel)",
   "language": "python",
   "name": "python3"
  },
  "language_info": {
   "codemirror_mode": {
    "name": "ipython",
    "version": 3
   },
   "file_extension": ".py",
   "mimetype": "text/x-python",
   "name": "python",
   "nbconvert_exporter": "python",
   "pygments_lexer": "ipython3",
   "version": "3.10.9"
  }
 },
 "nbformat": 4,
 "nbformat_minor": 5
}
