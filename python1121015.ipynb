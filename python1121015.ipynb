{
 "cells": [
  {
   "cell_type": "code",
   "execution_count": 1,
   "id": "b80d6ef4",
   "metadata": {},
   "outputs": [
    {
     "name": "stdout",
     "output_type": "stream",
     "text": [
      "請輸入:123\n"
     ]
    },
    {
     "data": {
      "text/plain": [
       "'123'"
      ]
     },
     "execution_count": 1,
     "metadata": {},
     "output_type": "execute_result"
    }
   ],
   "source": [
    "input(\"請輸入:\")"
   ]
  },
  {
   "cell_type": "code",
   "execution_count": 3,
   "id": "efd2ac7f",
   "metadata": {},
   "outputs": [
    {
     "name": "stdout",
     "output_type": "stream",
     "text": [
      "123\n"
     ]
    }
   ],
   "source": [
    "#註解\n",
    "print(\"123\")\n",
    "#print(\"abc\")"
   ]
  },
  {
   "cell_type": "markdown",
   "id": "9b1caf4f",
   "metadata": {},
   "source": [
    "- 這是項目清單"
   ]
  },
  {
   "cell_type": "markdown",
   "id": "36910174",
   "metadata": {},
   "source": [
    "![](幸運草.png \"這是圖片\")"
   ]
  },
  {
   "cell_type": "code",
   "execution_count": 7,
   "id": "19b45123",
   "metadata": {},
   "outputs": [],
   "source": [
    "import requests"
   ]
  },
  {
   "cell_type": "code",
   "execution_count": 8,
   "id": "e4270bc7",
   "metadata": {},
   "outputs": [
    {
     "data": {
      "text/plain": [
       "['ConnectTimeout',\n",
       " 'ConnectionError',\n",
       " 'DependencyWarning',\n",
       " 'FileModeWarning',\n",
       " 'HTTPError',\n",
       " 'JSONDecodeError',\n",
       " 'NullHandler',\n",
       " 'PreparedRequest',\n",
       " 'ReadTimeout',\n",
       " 'Request',\n",
       " 'RequestException',\n",
       " 'RequestsDependencyWarning',\n",
       " 'Response',\n",
       " 'Session',\n",
       " 'Timeout',\n",
       " 'TooManyRedirects',\n",
       " 'URLRequired',\n",
       " '__author__',\n",
       " '__author_email__',\n",
       " '__build__',\n",
       " '__builtins__',\n",
       " '__cached__',\n",
       " '__cake__',\n",
       " '__copyright__',\n",
       " '__description__',\n",
       " '__doc__',\n",
       " '__file__',\n",
       " '__license__',\n",
       " '__loader__',\n",
       " '__name__',\n",
       " '__package__',\n",
       " '__path__',\n",
       " '__spec__',\n",
       " '__title__',\n",
       " '__url__',\n",
       " '__version__',\n",
       " '_check_cryptography',\n",
       " '_internal_utils',\n",
       " 'adapters',\n",
       " 'api',\n",
       " 'auth',\n",
       " 'certs',\n",
       " 'chardet_version',\n",
       " 'charset_normalizer_version',\n",
       " 'check_compatibility',\n",
       " 'codes',\n",
       " 'compat',\n",
       " 'cookies',\n",
       " 'delete',\n",
       " 'exceptions',\n",
       " 'get',\n",
       " 'head',\n",
       " 'hooks',\n",
       " 'logging',\n",
       " 'models',\n",
       " 'options',\n",
       " 'packages',\n",
       " 'patch',\n",
       " 'post',\n",
       " 'put',\n",
       " 'request',\n",
       " 'session',\n",
       " 'sessions',\n",
       " 'ssl',\n",
       " 'status_codes',\n",
       " 'structures',\n",
       " 'urllib3',\n",
       " 'utils',\n",
       " 'warnings']"
      ]
     },
     "execution_count": 8,
     "metadata": {},
     "output_type": "execute_result"
    }
   ],
   "source": [
    "dir(requests)"
   ]
  },
  {
   "cell_type": "code",
   "execution_count": 11,
   "id": "f2f0e9ad",
   "metadata": {},
   "outputs": [
    {
     "name": "stdout",
     "output_type": "stream",
     "text": [
      "Help on function get in module requests.api:\n",
      "\n",
      "get(url, params=None, **kwargs)\n",
      "    Sends a GET request.\n",
      "    \n",
      "    :param url: URL for the new :class:`Request` object.\n",
      "    :param params: (optional) Dictionary, list of tuples or bytes to send\n",
      "        in the query string for the :class:`Request`.\n",
      "    :param \\*\\*kwargs: Optional arguments that ``request`` takes.\n",
      "    :return: :class:`Response <Response>` object\n",
      "    :rtype: requests.Response\n",
      "\n"
     ]
    }
   ],
   "source": [
    "help(requests.get)"
   ]
  },
  {
   "cell_type": "code",
   "execution_count": 12,
   "id": "79100d5e",
   "metadata": {},
   "outputs": [],
   "source": [
    "requests.get? \n",
    "\n",
    "#?可放前後 -> ?requests.get"
   ]
  },
  {
   "cell_type": "code",
   "execution_count": 13,
   "id": "82c46f74",
   "metadata": {},
   "outputs": [
    {
     "data": {
      "text/plain": [
       "<module 'requests' from 'C:\\\\Users\\\\Lo yuan\\\\anaconda3\\\\lib\\\\site-packages\\\\requests\\\\__init__.py'>"
      ]
     },
     "execution_count": 13,
     "metadata": {},
     "output_type": "execute_result"
    }
   ],
   "source": [
    "requests"
   ]
  },
  {
   "cell_type": "code",
   "execution_count": 14,
   "id": "2a649fcc",
   "metadata": {},
   "outputs": [],
   "source": [
    "%magic"
   ]
  },
  {
   "cell_type": "code",
   "execution_count": 15,
   "id": "0e20c826",
   "metadata": {},
   "outputs": [
    {
     "data": {
      "application/json": {
       "cell": {
        "!": "OSMagics",
        "HTML": "Other",
        "SVG": "Other",
        "bash": "Other",
        "capture": "ExecutionMagics",
        "cmd": "Other",
        "debug": "ExecutionMagics",
        "file": "Other",
        "html": "DisplayMagics",
        "javascript": "DisplayMagics",
        "js": "DisplayMagics",
        "latex": "DisplayMagics",
        "markdown": "DisplayMagics",
        "perl": "Other",
        "prun": "ExecutionMagics",
        "pypy": "Other",
        "python": "Other",
        "python2": "Other",
        "python3": "Other",
        "ruby": "Other",
        "script": "ScriptMagics",
        "sh": "Other",
        "svg": "DisplayMagics",
        "sx": "OSMagics",
        "system": "OSMagics",
        "time": "ExecutionMagics",
        "timeit": "ExecutionMagics",
        "writefile": "OSMagics"
       },
       "line": {
        "alias": "OSMagics",
        "alias_magic": "BasicMagics",
        "autoawait": "AsyncMagics",
        "autocall": "AutoMagics",
        "automagic": "AutoMagics",
        "autosave": "KernelMagics",
        "bookmark": "OSMagics",
        "cd": "OSMagics",
        "clear": "KernelMagics",
        "cls": "KernelMagics",
        "colors": "BasicMagics",
        "conda": "PackagingMagics",
        "config": "ConfigMagics",
        "connect_info": "KernelMagics",
        "copy": "Other",
        "ddir": "Other",
        "debug": "ExecutionMagics",
        "dhist": "OSMagics",
        "dirs": "OSMagics",
        "doctest_mode": "BasicMagics",
        "echo": "Other",
        "ed": "Other",
        "edit": "KernelMagics",
        "env": "OSMagics",
        "gui": "BasicMagics",
        "hist": "Other",
        "history": "HistoryMagics",
        "killbgscripts": "ScriptMagics",
        "ldir": "Other",
        "less": "KernelMagics",
        "load": "CodeMagics",
        "load_ext": "ExtensionMagics",
        "loadpy": "CodeMagics",
        "logoff": "LoggingMagics",
        "logon": "LoggingMagics",
        "logstart": "LoggingMagics",
        "logstate": "LoggingMagics",
        "logstop": "LoggingMagics",
        "ls": "Other",
        "lsmagic": "BasicMagics",
        "macro": "ExecutionMagics",
        "magic": "BasicMagics",
        "matplotlib": "PylabMagics",
        "mkdir": "Other",
        "more": "KernelMagics",
        "notebook": "BasicMagics",
        "page": "BasicMagics",
        "pastebin": "CodeMagics",
        "pdb": "ExecutionMagics",
        "pdef": "NamespaceMagics",
        "pdoc": "NamespaceMagics",
        "pfile": "NamespaceMagics",
        "pinfo": "NamespaceMagics",
        "pinfo2": "NamespaceMagics",
        "pip": "PackagingMagics",
        "popd": "OSMagics",
        "pprint": "BasicMagics",
        "precision": "BasicMagics",
        "prun": "ExecutionMagics",
        "psearch": "NamespaceMagics",
        "psource": "NamespaceMagics",
        "pushd": "OSMagics",
        "pwd": "OSMagics",
        "pycat": "OSMagics",
        "pylab": "PylabMagics",
        "qtconsole": "KernelMagics",
        "quickref": "BasicMagics",
        "recall": "HistoryMagics",
        "rehashx": "OSMagics",
        "reload_ext": "ExtensionMagics",
        "ren": "Other",
        "rep": "Other",
        "rerun": "HistoryMagics",
        "reset": "NamespaceMagics",
        "reset_selective": "NamespaceMagics",
        "rmdir": "Other",
        "run": "ExecutionMagics",
        "save": "CodeMagics",
        "sc": "OSMagics",
        "set_env": "OSMagics",
        "store": "StoreMagics",
        "sx": "OSMagics",
        "system": "OSMagics",
        "tb": "ExecutionMagics",
        "time": "ExecutionMagics",
        "timeit": "ExecutionMagics",
        "unalias": "OSMagics",
        "unload_ext": "ExtensionMagics",
        "who": "NamespaceMagics",
        "who_ls": "NamespaceMagics",
        "whos": "NamespaceMagics",
        "xdel": "NamespaceMagics",
        "xmode": "BasicMagics"
       }
      },
      "text/plain": [
       "Available line magics:\n",
       "%alias  %alias_magic  %autoawait  %autocall  %automagic  %autosave  %bookmark  %cd  %clear  %cls  %colors  %conda  %config  %connect_info  %copy  %ddir  %debug  %dhist  %dirs  %doctest_mode  %echo  %ed  %edit  %env  %gui  %hist  %history  %killbgscripts  %ldir  %less  %load  %load_ext  %loadpy  %logoff  %logon  %logstart  %logstate  %logstop  %ls  %lsmagic  %macro  %magic  %matplotlib  %mkdir  %more  %notebook  %page  %pastebin  %pdb  %pdef  %pdoc  %pfile  %pinfo  %pinfo2  %pip  %popd  %pprint  %precision  %prun  %psearch  %psource  %pushd  %pwd  %pycat  %pylab  %qtconsole  %quickref  %recall  %rehashx  %reload_ext  %ren  %rep  %rerun  %reset  %reset_selective  %rmdir  %run  %save  %sc  %set_env  %store  %sx  %system  %tb  %time  %timeit  %unalias  %unload_ext  %who  %who_ls  %whos  %xdel  %xmode\n",
       "\n",
       "Available cell magics:\n",
       "%%!  %%HTML  %%SVG  %%bash  %%capture  %%cmd  %%debug  %%file  %%html  %%javascript  %%js  %%latex  %%markdown  %%perl  %%prun  %%pypy  %%python  %%python2  %%python3  %%ruby  %%script  %%sh  %%svg  %%sx  %%system  %%time  %%timeit  %%writefile\n",
       "\n",
       "Automagic is ON, % prefix IS NOT needed for line magics."
      ]
     },
     "execution_count": 15,
     "metadata": {},
     "output_type": "execute_result"
    }
   ],
   "source": [
    "%lsmagic #魔術指令列表"
   ]
  },
  {
   "cell_type": "code",
   "execution_count": 16,
   "id": "55f8b9a9",
   "metadata": {},
   "outputs": [
    {
     "data": {
      "application/javascript": [
       "alert(123)\n"
      ],
      "text/plain": [
       "<IPython.core.display.Javascript object>"
      ]
     },
     "metadata": {},
     "output_type": "display_data"
    }
   ],
   "source": [
    "%%javascript /* 用JS語法 */\n",
    "alert(123)"
   ]
  },
  {
   "cell_type": "code",
   "execution_count": 18,
   "id": "3f68403a",
   "metadata": {},
   "outputs": [
    {
     "name": "stdout",
     "output_type": "stream",
     "text": [
      "2\n"
     ]
    }
   ],
   "source": [
    "a = 1\n",
    "b = 1\n",
    "print(a + b)"
   ]
  },
  {
   "cell_type": "code",
   "execution_count": 19,
   "id": "424170a5",
   "metadata": {},
   "outputs": [
    {
     "name": "stdout",
     "output_type": "stream",
     "text": [
      "The following commands were written to file `test.py`:\n",
      "a = 1\n",
      "b = 1\n",
      "print(a + b)\n"
     ]
    }
   ],
   "source": [
    "%save test.py 18 # <要取的檔名> 要輸出哪行程式"
   ]
  },
  {
   "cell_type": "code",
   "execution_count": 20,
   "id": "b9cd84bf",
   "metadata": {},
   "outputs": [
    {
     "name": "stdout",
     "output_type": "stream",
     "text": [
      "2\n"
     ]
    }
   ],
   "source": [
    "a = 1\n",
    "b = 1\n",
    "print(a + b)"
   ]
  },
  {
   "cell_type": "code",
   "execution_count": 21,
   "id": "d7cd95f7",
   "metadata": {},
   "outputs": [],
   "source": [
    "c = 2"
   ]
  },
  {
   "cell_type": "code",
   "execution_count": 22,
   "id": "249fb59b",
   "metadata": {},
   "outputs": [
    {
     "name": "stdout",
     "output_type": "stream",
     "text": [
      "0.6666666666666666\n"
     ]
    }
   ],
   "source": [
    "d = 3\n",
    "print(c / d)"
   ]
  },
  {
   "cell_type": "code",
   "execution_count": 23,
   "id": "b6d77106",
   "metadata": {},
   "outputs": [
    {
     "name": "stdout",
     "output_type": "stream",
     "text": [
      "File `test.py` exists. Overwrite (y/[N])?  y\n",
      "The following commands were written to file `test.py`:\n",
      "a = 1\n",
      "b = 1\n",
      "print(a + b)\n",
      "c = 2\n",
      "d = 3\n",
      "print(c / d)\n"
     ]
    }
   ],
   "source": [
    "%save test.py 20-22"
   ]
  },
  {
   "cell_type": "code",
   "execution_count": 24,
   "id": "a64e87d0",
   "metadata": {},
   "outputs": [
    {
     "name": "stdout",
     "output_type": "stream",
     "text": [
      "2\n",
      "0.6666666666666666\n"
     ]
    }
   ],
   "source": [
    "%run test.py"
   ]
  },
  {
   "cell_type": "code",
   "execution_count": null,
   "id": "4f12ad47",
   "metadata": {},
   "outputs": [],
   "source": [
    "# %load test.py 載入程式碼\n",
    "a = 1\n",
    "b = 1\n",
    "print(a + b)\n",
    "c = 2\n",
    "d = 3\n",
    "print(c / d)\n"
   ]
  },
  {
   "cell_type": "code",
   "execution_count": 26,
   "id": "b53aab4c",
   "metadata": {},
   "outputs": [
    {
     "data": {
      "text/plain": [
       "'C:\\\\Users\\\\Lo yuan\\\\Desktop\\\\Python金融數據'"
      ]
     },
     "execution_count": 26,
     "metadata": {},
     "output_type": "execute_result"
    }
   ],
   "source": [
    "%pwd"
   ]
  },
  {
   "cell_type": "code",
   "execution_count": 29,
   "id": "75d1d1d6",
   "metadata": {},
   "outputs": [
    {
     "name": "stdout",
     "output_type": "stream",
     "text": [
      "<class 'int'>\n",
      "<class 'float'>\n",
      "<class 'str'>\n",
      "<class 'bool'>\n"
     ]
    }
   ],
   "source": [
    "print(type(12345))\n",
    "print(type(12.2))\n",
    "print(type(\"123\"))\n",
    "print(type(True))"
   ]
  },
  {
   "cell_type": "code",
   "execution_count": 30,
   "id": "4e4fffdc",
   "metadata": {},
   "outputs": [
    {
     "data": {
      "text/plain": [
       "int"
      ]
     },
     "execution_count": 30,
     "metadata": {},
     "output_type": "execute_result"
    }
   ],
   "source": [
    "a = 12345\n",
    "type(a)"
   ]
  },
  {
   "cell_type": "code",
   "execution_count": 31,
   "id": "0b46ca62",
   "metadata": {},
   "outputs": [],
   "source": [
    "abc = 123"
   ]
  },
  {
   "cell_type": "code",
   "execution_count": 32,
   "id": "6bc0e864",
   "metadata": {},
   "outputs": [],
   "source": [
    "數字 = 123 #py3支援中文命名"
   ]
  },
  {
   "cell_type": "code",
   "execution_count": 36,
   "id": "ffcbab55",
   "metadata": {},
   "outputs": [
    {
     "ename": "TypeError",
     "evalue": "unsupported operand type(s) for +: 'int' and 'str'",
     "output_type": "error",
     "traceback": [
      "\u001b[1;31m---------------------------------------------------------------------------\u001b[0m",
      "\u001b[1;31mTypeError\u001b[0m                                 Traceback (most recent call last)",
      "Cell \u001b[1;32mIn[36], line 1\u001b[0m\n\u001b[1;32m----> 1\u001b[0m \u001b[38;5;241;43m123\u001b[39;49m\u001b[43m \u001b[49m\u001b[38;5;241;43m+\u001b[39;49m\u001b[43m \u001b[49m\u001b[38;5;124;43m\"\u001b[39;49m\u001b[38;5;124;43m123\u001b[39;49m\u001b[38;5;124;43m\"\u001b[39;49m\n",
      "\u001b[1;31mTypeError\u001b[0m: unsupported operand type(s) for +: 'int' and 'str'"
     ]
    }
   ],
   "source": [
    "123 + \"123\""
   ]
  },
  {
   "cell_type": "code",
   "execution_count": 34,
   "id": "55475bd6",
   "metadata": {},
   "outputs": [
    {
     "data": {
      "text/plain": [
       "'123123'"
      ]
     },
     "execution_count": 34,
     "metadata": {},
     "output_type": "execute_result"
    }
   ],
   "source": [
    "str(123) + \"123\" #使用str()轉換為強制轉型"
   ]
  },
  {
   "cell_type": "code",
   "execution_count": 35,
   "id": "6f9d3fed",
   "metadata": {},
   "outputs": [
    {
     "data": {
      "text/plain": [
       "246"
      ]
     },
     "execution_count": 35,
     "metadata": {},
     "output_type": "execute_result"
    }
   ],
   "source": [
    "123 + int(\"123\") #使用int()轉換為強制轉型"
   ]
  },
  {
   "cell_type": "code",
   "execution_count": 37,
   "id": "d937b632",
   "metadata": {},
   "outputs": [
    {
     "data": {
      "text/plain": [
       "246.0"
      ]
     },
     "execution_count": 37,
     "metadata": {},
     "output_type": "execute_result"
    }
   ],
   "source": [
    "123 + float(\"123\") #使用float()轉換為強制轉型"
   ]
  },
  {
   "cell_type": "code",
   "execution_count": 38,
   "id": "bef71582",
   "metadata": {},
   "outputs": [
    {
     "data": {
      "text/plain": [
       "124"
      ]
     },
     "execution_count": 38,
     "metadata": {},
     "output_type": "execute_result"
    }
   ],
   "source": [
    "123 + bool(\"123\") # 0 -> False, 1 -> True"
   ]
  },
  {
   "cell_type": "code",
   "execution_count": 41,
   "id": "5e2411c7",
   "metadata": {},
   "outputs": [
    {
     "name": "stdout",
     "output_type": "stream",
     "text": [
      "True\n",
      "True\n",
      "False\n"
     ]
    }
   ],
   "source": [
    "print(bool(\"123\"))\n",
    "print(bool(\" \"))\n",
    "print(bool())"
   ]
  },
  {
   "cell_type": "markdown",
   "id": "832b666f",
   "metadata": {},
   "source": [
    "# ' ', \" \", ''' '''的運用"
   ]
  },
  {
   "cell_type": "code",
   "execution_count": 42,
   "id": "b73167e7",
   "metadata": {},
   "outputs": [
    {
     "data": {
      "text/plain": [
       "str"
      ]
     },
     "execution_count": 42,
     "metadata": {},
     "output_type": "execute_result"
    }
   ],
   "source": [
    "s = '123'\n",
    "type(s)"
   ]
  },
  {
   "cell_type": "code",
   "execution_count": 45,
   "id": "d74b4e82",
   "metadata": {},
   "outputs": [
    {
     "data": {
      "text/plain": [
       "str"
      ]
     },
     "execution_count": 45,
     "metadata": {},
     "output_type": "execute_result"
    }
   ],
   "source": [
    "s = '1\\\n",
    "23'\n",
    "type(s)"
   ]
  },
  {
   "cell_type": "code",
   "execution_count": 43,
   "id": "db654f5d",
   "metadata": {},
   "outputs": [
    {
     "data": {
      "text/plain": [
       "str"
      ]
     },
     "execution_count": 43,
     "metadata": {},
     "output_type": "execute_result"
    }
   ],
   "source": [
    "s = \"123\"\n",
    "type(s)"
   ]
  },
  {
   "cell_type": "code",
   "execution_count": 46,
   "id": "a60fdd12",
   "metadata": {},
   "outputs": [
    {
     "data": {
      "text/plain": [
       "str"
      ]
     },
     "execution_count": 46,
     "metadata": {},
     "output_type": "execute_result"
    }
   ],
   "source": [
    "s = \"1\\\n",
    "23\"\n",
    "type(s)"
   ]
  },
  {
   "cell_type": "code",
   "execution_count": 44,
   "id": "696edecc",
   "metadata": {},
   "outputs": [
    {
     "data": {
      "text/plain": [
       "str"
      ]
     },
     "execution_count": 44,
     "metadata": {},
     "output_type": "execute_result"
    }
   ],
   "source": [
    "s = '''123'''\n",
    "type(s)"
   ]
  },
  {
   "cell_type": "code",
   "execution_count": 47,
   "id": "f4addbfc",
   "metadata": {},
   "outputs": [
    {
     "data": {
      "text/plain": [
       "str"
      ]
     },
     "execution_count": 47,
     "metadata": {},
     "output_type": "execute_result"
    }
   ],
   "source": [
    "s = '''1\n",
    "23'''\n",
    "type(s)"
   ]
  },
  {
   "cell_type": "code",
   "execution_count": 49,
   "id": "2e08b2bd",
   "metadata": {},
   "outputs": [
    {
     "name": "stdout",
     "output_type": "stream",
     "text": [
      "這是三引號\n"
     ]
    }
   ],
   "source": [
    "'''這是文字'''\n",
    "print('這是三引號')"
   ]
  },
  {
   "cell_type": "code",
   "execution_count": 52,
   "id": "1666ede0",
   "metadata": {},
   "outputs": [
    {
     "name": "stdout",
     "output_type": "stream",
     "text": [
      "14\n"
     ]
    }
   ],
   "source": [
    "s = 'Hello python!!'\n",
    "print(len(s))"
   ]
  },
  {
   "cell_type": "code",
   "execution_count": 53,
   "id": "b08fa299",
   "metadata": {},
   "outputs": [
    {
     "name": "stdout",
     "output_type": "stream",
     "text": [
      "123 123\n"
     ]
    }
   ],
   "source": [
    "print(123, \"123\")"
   ]
  },
  {
   "cell_type": "markdown",
   "id": "b7f88777",
   "metadata": {},
   "source": [
    "# \\t"
   ]
  },
  {
   "cell_type": "code",
   "execution_count": 54,
   "id": "577993b7",
   "metadata": {},
   "outputs": [
    {
     "name": "stdout",
     "output_type": "stream",
     "text": [
      "123\t456\n"
     ]
    }
   ],
   "source": [
    "print(\"123\\t456\")"
   ]
  },
  {
   "cell_type": "markdown",
   "id": "49a39add",
   "metadata": {},
   "source": [
    "# \\n"
   ]
  },
  {
   "cell_type": "code",
   "execution_count": 55,
   "id": "6a7a8342",
   "metadata": {},
   "outputs": [
    {
     "name": "stdout",
     "output_type": "stream",
     "text": [
      "123\n",
      "456\n"
     ]
    }
   ],
   "source": [
    "print(\"123\\n456\")"
   ]
  },
  {
   "cell_type": "markdown",
   "id": "e5d275c2",
   "metadata": {},
   "source": [
    "# \\r"
   ]
  },
  {
   "cell_type": "code",
   "execution_count": 56,
   "id": "57a654be",
   "metadata": {},
   "outputs": [
    {
     "name": "stdout",
     "output_type": "stream",
     "text": [
      "123\t456\r",
      "789\n"
     ]
    }
   ],
   "source": [
    "print(\"123\\t456\\r789\") #\\r使789被丟到前面，再複寫資料"
   ]
  },
  {
   "cell_type": "markdown",
   "id": "492a6074",
   "metadata": {},
   "source": [
    "# repr 還原字串最原本的內容"
   ]
  },
  {
   "cell_type": "code",
   "execution_count": 58,
   "id": "9a0f2e68",
   "metadata": {},
   "outputs": [
    {
     "name": "stdout",
     "output_type": "stream",
     "text": [
      "'123\\t456\\r789'\n"
     ]
    }
   ],
   "source": [
    "s = \"123\\t456\\r789\"\n",
    "print(repr(s))"
   ]
  },
  {
   "cell_type": "markdown",
   "id": "c0ae660a",
   "metadata": {},
   "source": [
    "# r 前綴字元、跳脫字元"
   ]
  },
  {
   "cell_type": "code",
   "execution_count": 60,
   "id": "9b291850",
   "metadata": {},
   "outputs": [
    {
     "name": "stdout",
     "output_type": "stream",
     "text": [
      "c:\\n123\\t456\\r789\n"
     ]
    }
   ],
   "source": [
    "filepath = r\"c:\\n123\\t456\\r789\"\n",
    "print(filepath)"
   ]
  },
  {
   "cell_type": "markdown",
   "id": "c28cd037",
   "metadata": {},
   "source": [
    "# 取值方法"
   ]
  },
  {
   "cell_type": "code",
   "execution_count": 62,
   "id": "14201056",
   "metadata": {},
   "outputs": [
    {
     "data": {
      "text/plain": [
       "'Hello Python!!'"
      ]
     },
     "execution_count": 62,
     "metadata": {},
     "output_type": "execute_result"
    }
   ],
   "source": [
    "s = \"Hello Python!!\"\n",
    "s"
   ]
  },
  {
   "cell_type": "code",
   "execution_count": 67,
   "id": "0df80a8e",
   "metadata": {},
   "outputs": [
    {
     "name": "stdout",
     "output_type": "stream",
     "text": [
      "llo\n",
      "thon!\n",
      "\n",
      "!noht\n"
     ]
    }
   ],
   "source": [
    "# [start:end:step], step 預設為 1 正(左而右), -1 負(右而左)\n",
    "\n",
    "s = \"Hello Python!!\"\n",
    "print(s[2:5]) # 前取尾不取\n",
    "\n",
    "print(s[8:-1])\n",
    "\n",
    "print(s[-2:7]) #沒東西 \" \"\n",
    "print(s[-2:7:-1])"
   ]
  },
  {
   "cell_type": "code",
   "execution_count": 68,
   "id": "23469da6",
   "metadata": {},
   "outputs": [
    {
     "name": "stdout",
     "output_type": "stream",
     "text": [
      "Hell\n",
      "Hell\n"
     ]
    }
   ],
   "source": [
    "print(s[0:4])\n",
    "\n",
    "print(s[:4])  #兩個一樣"
   ]
  },
  {
   "cell_type": "code",
   "execution_count": 69,
   "id": "03902f30",
   "metadata": {},
   "outputs": [
    {
     "name": "stdout",
     "output_type": "stream",
     "text": [
      "hon!!\n",
      "hon!!\n"
     ]
    }
   ],
   "source": [
    "print(s[9:14])\n",
    "\n",
    "print(s[9:])  #兩個一樣"
   ]
  },
  {
   "cell_type": "markdown",
   "id": "423fc741",
   "metadata": {},
   "source": [
    "# 字串分割"
   ]
  },
  {
   "cell_type": "code",
   "execution_count": 70,
   "id": "59b31acb",
   "metadata": {},
   "outputs": [
    {
     "data": {
      "text/plain": [
       "['Hello', 'Python!!']"
      ]
     },
     "execution_count": 70,
     "metadata": {},
     "output_type": "execute_result"
    }
   ],
   "source": [
    "s = \"Hello Python!!\"\n",
    "s.split(' ')"
   ]
  },
  {
   "cell_type": "code",
   "execution_count": 95,
   "id": "6eca7dbd",
   "metadata": {},
   "outputs": [
    {
     "data": {
      "text/plain": [
       "['Hello', 'Python!!']"
      ]
     },
     "execution_count": 95,
     "metadata": {},
     "output_type": "execute_result"
    }
   ],
   "source": [
    "s = \"Hello Python!!\"\n",
    "s.split()"
   ]
  },
  {
   "cell_type": "code",
   "execution_count": 71,
   "id": "57f4847b",
   "metadata": {},
   "outputs": [
    {
     "data": {
      "text/plain": [
       "['Hell', ' Pyth', 'n!!']"
      ]
     },
     "execution_count": 71,
     "metadata": {},
     "output_type": "execute_result"
    }
   ],
   "source": [
    "s = \"Hello Python!!\"\n",
    "s.split('o')"
   ]
  },
  {
   "cell_type": "markdown",
   "id": "acaa2f94",
   "metadata": {},
   "source": [
    "#### 切割後取值"
   ]
  },
  {
   "cell_type": "code",
   "execution_count": 75,
   "id": "ba048b51",
   "metadata": {},
   "outputs": [
    {
     "name": "stdout",
     "output_type": "stream",
     "text": [
      "['Hello', 'Python!!']\n"
     ]
    },
    {
     "data": {
      "text/plain": [
       "list"
      ]
     },
     "execution_count": 75,
     "metadata": {},
     "output_type": "execute_result"
    }
   ],
   "source": [
    "s = \"Hello Python!!\"\n",
    "s1 = s.split(' ')\n",
    "\n",
    "print(s1) # 回傳串列資料、串列模式組合起來\n",
    "\n",
    "type(s1)"
   ]
  },
  {
   "cell_type": "code",
   "execution_count": 77,
   "id": "255614d6",
   "metadata": {
    "scrolled": true
   },
   "outputs": [
    {
     "name": "stdout",
     "output_type": "stream",
     "text": [
      "Hello\n",
      "Python!!\n"
     ]
    }
   ],
   "source": [
    "print(s1[0])\n",
    "print(s1[1])"
   ]
  },
  {
   "cell_type": "markdown",
   "id": "fe688acc",
   "metadata": {},
   "source": [
    "# 取代"
   ]
  },
  {
   "cell_type": "code",
   "execution_count": 78,
   "id": "1d021736",
   "metadata": {},
   "outputs": [
    {
     "data": {
      "text/plain": [
       "'abc xyz ghi jkl'"
      ]
     },
     "execution_count": 78,
     "metadata": {},
     "output_type": "execute_result"
    }
   ],
   "source": [
    "# s.replace(old str, new str)\n",
    "\n",
    "s = \"abc def ghi jkl\"\n",
    "s.replace(\"def\", \"xyz\")"
   ]
  },
  {
   "cell_type": "markdown",
   "id": "f7d6975b",
   "metadata": {},
   "source": [
    "# 尋找"
   ]
  },
  {
   "cell_type": "code",
   "execution_count": 79,
   "id": "f954642d",
   "metadata": {},
   "outputs": [
    {
     "data": {
      "text/plain": [
       "8"
      ]
     },
     "execution_count": 79,
     "metadata": {},
     "output_type": "execute_result"
    }
   ],
   "source": [
    "s = \"abc def ghi jkl\"\n",
    "s.find(\"ghi\")"
   ]
  },
  {
   "cell_type": "code",
   "execution_count": 83,
   "id": "13e57eb2",
   "metadata": {},
   "outputs": [
    {
     "name": "stdout",
     "output_type": "stream",
     "text": [
      "-1\n",
      "True\n"
     ]
    }
   ],
   "source": [
    "s.find(\"xyz\")\n",
    "print(s.find(\"xyz\"))\n",
    "print(s.find(\"xyz\") >= -1)"
   ]
  },
  {
   "cell_type": "markdown",
   "id": "6ddd9d38",
   "metadata": {},
   "source": [
    "# 比較 != =="
   ]
  },
  {
   "cell_type": "markdown",
   "id": "a7a925e6",
   "metadata": {},
   "source": [
    "## s.find"
   ]
  },
  {
   "cell_type": "code",
   "execution_count": 86,
   "id": "aecf676c",
   "metadata": {},
   "outputs": [
    {
     "name": "stdout",
     "output_type": "stream",
     "text": [
      "xyz不存在\n"
     ]
    }
   ],
   "source": [
    "s = \"abc def ghi jkl\"\n",
    "\n",
    "if s.find(\"xyz\") == -1:\n",
    "    print(\"xyz不存在\")\n",
    "else:\n",
    "    print(\"xyz存在字串中\")"
   ]
  },
  {
   "cell_type": "code",
   "execution_count": 88,
   "id": "e551c234",
   "metadata": {},
   "outputs": [
    {
     "name": "stdout",
     "output_type": "stream",
     "text": [
      "xyz不存在字串中\n"
     ]
    }
   ],
   "source": [
    "s = \"abc def ghi jkl\"\n",
    "\n",
    "if s.find(\"xyz\") != -1:\n",
    "    print(\"xyz存在\")\n",
    "else:\n",
    "    print(\"xyz不存在字串中\")"
   ]
  },
  {
   "cell_type": "markdown",
   "id": "5bc0350a",
   "metadata": {},
   "source": [
    "## s.count"
   ]
  },
  {
   "cell_type": "code",
   "execution_count": 89,
   "id": "6fdf037c",
   "metadata": {},
   "outputs": [
    {
     "data": {
      "text/plain": [
       "1"
      ]
     },
     "execution_count": 89,
     "metadata": {},
     "output_type": "execute_result"
    }
   ],
   "source": [
    "s = \"abc def ghi jkl\"\n",
    "s.count(\"def\")"
   ]
  },
  {
   "cell_type": "code",
   "execution_count": 90,
   "id": "1ba900fe",
   "metadata": {},
   "outputs": [
    {
     "data": {
      "text/plain": [
       "0"
      ]
     },
     "execution_count": 90,
     "metadata": {},
     "output_type": "execute_result"
    }
   ],
   "source": [
    "s.count(\"xyz\")"
   ]
  },
  {
   "cell_type": "code",
   "execution_count": 91,
   "id": "3944cb7d",
   "metadata": {},
   "outputs": [
    {
     "name": "stdout",
     "output_type": "stream",
     "text": [
      "xyz不存在\n"
     ]
    }
   ],
   "source": [
    "s = \"abc def ghi jkl\"\n",
    "\n",
    "if s.count(\"xyz\") == 0:\n",
    "    print(\"xyz不存在\")\n",
    "else:\n",
    "    print(\"xyz存在字串中\")"
   ]
  },
  {
   "cell_type": "markdown",
   "id": "6a9c861a",
   "metadata": {},
   "source": [
    "## s.index"
   ]
  },
  {
   "cell_type": "code",
   "execution_count": 92,
   "id": "0c77d857",
   "metadata": {},
   "outputs": [
    {
     "data": {
      "text/plain": [
       "4"
      ]
     },
     "execution_count": 92,
     "metadata": {},
     "output_type": "execute_result"
    }
   ],
   "source": [
    "s = \"abc def ghi jkl\"\n",
    "s.index(\"def\") # 用索引下去比對"
   ]
  },
  {
   "cell_type": "code",
   "execution_count": 93,
   "id": "047db041",
   "metadata": {},
   "outputs": [
    {
     "ename": "ValueError",
     "evalue": "substring not found",
     "output_type": "error",
     "traceback": [
      "\u001b[1;31m---------------------------------------------------------------------------\u001b[0m",
      "\u001b[1;31mValueError\u001b[0m                                Traceback (most recent call last)",
      "Cell \u001b[1;32mIn[93], line 1\u001b[0m\n\u001b[1;32m----> 1\u001b[0m \u001b[43ms\u001b[49m\u001b[38;5;241;43m.\u001b[39;49m\u001b[43mindex\u001b[49m\u001b[43m(\u001b[49m\u001b[38;5;124;43m\"\u001b[39;49m\u001b[38;5;124;43mxyz\u001b[39;49m\u001b[38;5;124;43m\"\u001b[39;49m\u001b[43m)\u001b[49m\n",
      "\u001b[1;31mValueError\u001b[0m: substring not found"
     ]
    }
   ],
   "source": [
    "s.index(\"xyz\") # 找不到"
   ]
  },
  {
   "cell_type": "markdown",
   "id": "637801aa",
   "metadata": {},
   "source": [
    "## s.strip 前後空格刪除"
   ]
  },
  {
   "cell_type": "code",
   "execution_count": 96,
   "id": "0018bc8c",
   "metadata": {},
   "outputs": [
    {
     "data": {
      "text/plain": [
       "'abc def ghi jkl'"
      ]
     },
     "execution_count": 96,
     "metadata": {},
     "output_type": "execute_result"
    }
   ],
   "source": [
    "s = \" abc def ghi jkl \"\n",
    "s.strip()"
   ]
  },
  {
   "cell_type": "code",
   "execution_count": 101,
   "id": "e2b22e9e",
   "metadata": {},
   "outputs": [
    {
     "data": {
      "text/plain": [
       "'abc def ghi jkl'"
      ]
     },
     "execution_count": 101,
     "metadata": {},
     "output_type": "execute_result"
    }
   ],
   "source": [
    "s = \"***abc def ghi jkl***\"\n",
    "s.strip('*')"
   ]
  },
  {
   "cell_type": "markdown",
   "id": "0a949fa6",
   "metadata": {},
   "source": [
    "#### \\n"
   ]
  },
  {
   "cell_type": "code",
   "execution_count": 111,
   "id": "6863906b",
   "metadata": {},
   "outputs": [
    {
     "data": {
      "text/plain": [
       "'abc def ghi jkl'"
      ]
     },
     "execution_count": 111,
     "metadata": {},
     "output_type": "execute_result"
    }
   ],
   "source": [
    "s = \"abc def ghi jkl\\n\"\n",
    "\n",
    "s.strip('\\n')"
   ]
  },
  {
   "cell_type": "code",
   "execution_count": 112,
   "id": "6bd98cb0",
   "metadata": {},
   "outputs": [
    {
     "data": {
      "text/plain": [
       "'abc def ghi jkl'"
      ]
     },
     "execution_count": 112,
     "metadata": {},
     "output_type": "execute_result"
    }
   ],
   "source": [
    "s = \"abc def ghi jkl\\n\"\n",
    "\n",
    "s.strip()"
   ]
  },
  {
   "cell_type": "markdown",
   "id": "ddacc8bf",
   "metadata": {},
   "source": [
    "## s.lstrip 刪左邊"
   ]
  },
  {
   "cell_type": "code",
   "execution_count": 97,
   "id": "c26e33fe",
   "metadata": {},
   "outputs": [
    {
     "data": {
      "text/plain": [
       "'abc def ghi jkl '"
      ]
     },
     "execution_count": 97,
     "metadata": {},
     "output_type": "execute_result"
    }
   ],
   "source": [
    "s = \" abc def ghi jkl \"\n",
    "s.lstrip()"
   ]
  },
  {
   "cell_type": "code",
   "execution_count": 102,
   "id": "b7a22ff7",
   "metadata": {},
   "outputs": [
    {
     "data": {
      "text/plain": [
       "'abc def ghi jkl***'"
      ]
     },
     "execution_count": 102,
     "metadata": {},
     "output_type": "execute_result"
    }
   ],
   "source": [
    "s = \"***abc def ghi jkl***\"\n",
    "s.lstrip('*')"
   ]
  },
  {
   "cell_type": "markdown",
   "id": "3091a140",
   "metadata": {},
   "source": [
    "## s.rstrip 刪右邊"
   ]
  },
  {
   "cell_type": "code",
   "execution_count": 98,
   "id": "607a8042",
   "metadata": {},
   "outputs": [
    {
     "data": {
      "text/plain": [
       "' abc def ghi jkl'"
      ]
     },
     "execution_count": 98,
     "metadata": {},
     "output_type": "execute_result"
    }
   ],
   "source": [
    "s = \" abc def ghi jkl \"\n",
    "s.rstrip()"
   ]
  },
  {
   "cell_type": "code",
   "execution_count": 99,
   "id": "f4c696ee",
   "metadata": {},
   "outputs": [
    {
     "data": {
      "text/plain": [
       "'***abc def ghi jkl'"
      ]
     },
     "execution_count": 99,
     "metadata": {},
     "output_type": "execute_result"
    }
   ],
   "source": [
    "s = \"***abc def ghi jkl***\"\n",
    "s.rstrip('*')"
   ]
  },
  {
   "cell_type": "code",
   "execution_count": 104,
   "id": "c407bf12",
   "metadata": {},
   "outputs": [
    {
     "data": {
      "text/plain": [
       "'abc def ghi jkl'"
      ]
     },
     "execution_count": 104,
     "metadata": {},
     "output_type": "execute_result"
    }
   ],
   "source": [
    "# 也可以用replace\n",
    "\n",
    "s = \"***abc def ghi jkl***\"\n",
    "s.replace('*', '')"
   ]
  },
  {
   "cell_type": "markdown",
   "id": "7716bdee",
   "metadata": {},
   "source": [
    "# 連接字串 .join"
   ]
  },
  {
   "cell_type": "code",
   "execution_count": 106,
   "id": "d240d227",
   "metadata": {},
   "outputs": [
    {
     "data": {
      "text/plain": [
       "['abc', 'def', 'ghi', 'jkl']"
      ]
     },
     "execution_count": 106,
     "metadata": {},
     "output_type": "execute_result"
    }
   ],
   "source": [
    "s = \" abc def ghi jkl \"\n",
    "s1 = s.split()\n",
    "s1"
   ]
  },
  {
   "cell_type": "code",
   "execution_count": 108,
   "id": "22718691",
   "metadata": {},
   "outputs": [
    {
     "data": {
      "text/plain": [
       "'abc,def,ghi,jkl'"
      ]
     },
     "execution_count": 108,
     "metadata": {},
     "output_type": "execute_result"
    }
   ],
   "source": [
    "','.join(s1)"
   ]
  },
  {
   "cell_type": "code",
   "execution_count": 109,
   "id": "acaf80b4",
   "metadata": {},
   "outputs": [
    {
     "data": {
      "text/plain": [
       "'a=123&b=456&c=789'"
      ]
     },
     "execution_count": 109,
     "metadata": {},
     "output_type": "execute_result"
    }
   ],
   "source": [
    "# 運用在傳資料給sever端\n",
    "\n",
    "s = [\"a=123\", \"b=456\", \"c=789\"]\n",
    "\"&\".join(s)"
   ]
  },
  {
   "cell_type": "markdown",
   "id": "9a42e9fc",
   "metadata": {},
   "source": [
    "# 判斷是否為數值"
   ]
  },
  {
   "cell_type": "markdown",
   "id": "56e001b5",
   "metadata": {},
   "source": [
    "## s.isdigit"
   ]
  },
  {
   "cell_type": "code",
   "execution_count": 113,
   "id": "06e7b916",
   "metadata": {},
   "outputs": [
    {
     "data": {
      "text/plain": [
       "True"
      ]
     },
     "execution_count": 113,
     "metadata": {},
     "output_type": "execute_result"
    }
   ],
   "source": [
    "s = \"123456789\"\n",
    "s.isdigit()"
   ]
  },
  {
   "cell_type": "code",
   "execution_count": 114,
   "id": "af884548",
   "metadata": {},
   "outputs": [
    {
     "data": {
      "text/plain": [
       "False"
      ]
     },
     "execution_count": 114,
     "metadata": {},
     "output_type": "execute_result"
    }
   ],
   "source": [
    "s = \"a123456789\"\n",
    "s.isdigit()"
   ]
  },
  {
   "cell_type": "code",
   "execution_count": 116,
   "id": "973c5503",
   "metadata": {},
   "outputs": [
    {
     "name": "stdout",
     "output_type": "stream",
     "text": [
      "請輸入0~9的數字45\n"
     ]
    },
    {
     "data": {
      "text/plain": [
       "45"
      ]
     },
     "execution_count": 116,
     "metadata": {},
     "output_type": "execute_result"
    }
   ],
   "source": [
    "ans = input(\"請輸入0~9的數字\")\n",
    "int(ans)"
   ]
  },
  {
   "cell_type": "code",
   "execution_count": 117,
   "id": "bbd9f95f",
   "metadata": {},
   "outputs": [
    {
     "name": "stdout",
     "output_type": "stream",
     "text": [
      "你輸入為數字\n"
     ]
    }
   ],
   "source": [
    "if ans.isdigit() == True:\n",
    "    print(\"你輸入為數字\")\n",
    "else:\n",
    "    print(\"你輸入的不是數字\")"
   ]
  },
  {
   "cell_type": "code",
   "execution_count": 118,
   "id": "70383bc8",
   "metadata": {},
   "outputs": [
    {
     "name": "stdout",
     "output_type": "stream",
     "text": [
      "你輸入為數字\n"
     ]
    }
   ],
   "source": [
    "if ans.isdigit():\n",
    "    print(\"你輸入為數字\")\n",
    "else:\n",
    "    print(\"你輸入的不是數字\")"
   ]
  },
  {
   "cell_type": "code",
   "execution_count": 121,
   "id": "972feddc",
   "metadata": {},
   "outputs": [
    {
     "name": "stdout",
     "output_type": "stream",
     "text": [
      "你輸入為數字\n"
     ]
    }
   ],
   "source": [
    "msg = \"你輸入為數字\"\n",
    "if not ans.isdigit():\n",
    "    msg = \"你輸入的不是數字\"\n",
    "print(msg)"
   ]
  },
  {
   "cell_type": "markdown",
   "id": "5d21bd19",
   "metadata": {},
   "source": [
    "# 字串格式化"
   ]
  },
  {
   "cell_type": "markdown",
   "id": "73b874cd",
   "metadata": {},
   "source": [
    "1. % (舊制 python2, python3.x)\n",
    "2. format (新制 python3.6之後(含))\n",
    "3. f-string (新制 python3.7之後(含))\n",
    "\n",
    "- %d : 整數 (10進制)\n",
    "- %f : 浮點數\n",
    "- %e : 科學記號\n",
    "- %s : 字串\n",
    "- %x : 16進制數字(小寫)\n",
    "- %X : 16進制數字(大寫)\n",
    "- %o : 8進制\n",
    "- %b : 2進制"
   ]
  },
  {
   "cell_type": "markdown",
   "id": "3c4b38aa",
   "metadata": {},
   "source": [
    "### % (舊制 python2, python3.x)"
   ]
  },
  {
   "cell_type": "code",
   "execution_count": 123,
   "id": "7592eb71",
   "metadata": {},
   "outputs": [
    {
     "data": {
      "text/plain": [
       "'123'"
      ]
     },
     "execution_count": 123,
     "metadata": {},
     "output_type": "execute_result"
    }
   ],
   "source": [
    "# 格式: \"樣式1, 樣式2\" % (數值1, 數值2)\n",
    "\n",
    "\"%d\" % (123)"
   ]
  },
  {
   "cell_type": "code",
   "execution_count": 125,
   "id": "58e2e35e",
   "metadata": {},
   "outputs": [
    {
     "data": {
      "text/plain": [
       "'22, 1a'"
      ]
     },
     "execution_count": 125,
     "metadata": {},
     "output_type": "execute_result"
    }
   ],
   "source": [
    "'%d, %x' % (22, 26)"
   ]
  },
  {
   "cell_type": "code",
   "execution_count": 126,
   "id": "a6f9a0f3",
   "metadata": {},
   "outputs": [
    {
     "data": {
      "text/plain": [
       "'22, 1A'"
      ]
     },
     "execution_count": 126,
     "metadata": {},
     "output_type": "execute_result"
    }
   ],
   "source": [
    "'%d, %X' % (22, 26)"
   ]
  },
  {
   "cell_type": "code",
   "execution_count": null,
   "id": "e241653f",
   "metadata": {},
   "outputs": [],
   "source": []
  }
 ],
 "metadata": {
  "kernelspec": {
   "display_name": "Python 3 (ipykernel)",
   "language": "python",
   "name": "python3"
  },
  "language_info": {
   "codemirror_mode": {
    "name": "ipython",
    "version": 3
   },
   "file_extension": ".py",
   "mimetype": "text/x-python",
   "name": "python",
   "nbconvert_exporter": "python",
   "pygments_lexer": "ipython3",
   "version": "3.10.9"
  }
 },
 "nbformat": 4,
 "nbformat_minor": 5
}
